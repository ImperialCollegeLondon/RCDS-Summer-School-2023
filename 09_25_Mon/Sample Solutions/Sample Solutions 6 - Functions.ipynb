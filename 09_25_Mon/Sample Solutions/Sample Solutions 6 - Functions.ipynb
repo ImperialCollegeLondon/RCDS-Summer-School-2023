{
 "cells": [
  {
   "cell_type": "markdown",
   "metadata": {},
   "source": [
    "# Absolute Value of Values with Highest Absolute Value"
   ]
  },
  {
   "cell_type": "code",
   "execution_count": 1,
   "metadata": {},
   "outputs": [
    {
     "name": "stdout",
     "output_type": "stream",
     "text": [
      "4\n",
      "3\n",
      "5\n",
      "12.1\n",
      "1\n"
     ]
    }
   ],
   "source": [
    "def abs_max_abs(values):\n",
    "    # Find the minimum and maximum values in the list\n",
    "    # The value with the maximum absolute value will be one of these two values\n",
    "    minimum = min(values)\n",
    "    maximum = max(values)\n",
    "\n",
    "    # Calculate the absolute value of the minimum and maximum\n",
    "    # Return the maximum of the two\n",
    "    return max(abs(minimum), abs(maximum))\n",
    "\n",
    "\n",
    "# Sample code that should print the value \"4\"\n",
    "print(abs_max_abs([1, 2, 3, 4]))\n",
    "\n",
    "# Sample code that should print the value \"3\"\n",
    "print(abs_max_abs([-1, -2, -3, -3]))\n",
    "\n",
    "# Sample code that should print the value \"5\"\n",
    "print(abs_max_abs([-5, 0, 4, 1]))\n",
    "\n",
    "# Sample code that should print the value \"12.1\"\n",
    "print(abs_max_abs([-2.3, 12.1, 4.0, -1.1]))\n",
    "\n",
    "# Sample code that should print the value \"1\"\n",
    "print(abs_max_abs([1, -1, 1, 1]))"
   ]
  }
 ],
 "metadata": {
  "kernelspec": {
   "display_name": "Python 3",
   "language": "python",
   "name": "python3"
  },
  "language_info": {
   "codemirror_mode": {
    "name": "ipython",
    "version": 3
   },
   "file_extension": ".py",
   "mimetype": "text/x-python",
   "name": "python",
   "nbconvert_exporter": "python",
   "pygments_lexer": "ipython3",
   "version": "3.11.4"
  },
  "orig_nbformat": 4
 },
 "nbformat": 4,
 "nbformat_minor": 2
}
