{
 "cells": [
  {
   "cell_type": "markdown",
   "metadata": {},
   "source": [
    "# FizzBuzz"
   ]
  },
  {
   "cell_type": "code",
   "execution_count": 1,
   "metadata": {},
   "outputs": [
    {
     "name": "stdout",
     "output_type": "stream",
     "text": [
      "1\n"
     ]
    }
   ],
   "source": [
    "a = 1\n",
    "\n",
    "#The statements are checked in order so we need to check the FizBuzz case first.\n",
    "#This is because if the FizBuzz case is met, so are the Fizz and Buzz cases\n",
    "if a % 3 == 0 and a % 5 == 0:\n",
    "  #Print \"FizzBuzz\" is a is multiple of 3 and 5\n",
    "  #If this if statement isn't met we know a isn't a multiple of 3 and/or it's not a multiple of 5\n",
    "  print(\"FizzBuzz\")\n",
    "elif a % 3==0:\n",
    "  #Print \"Fizz\" if a is a multiple of 3 and not 5\n",
    "  print(\"Fizz\")\n",
    "elif a % 5==0:\n",
    "  #Print \"Buzz\" if a is multiple of 5 and not 3\n",
    "  print(\"Buzz\")\n",
    "else:\n",
    "  #If the else is reached, a is not a multiple of 3 or 5\n",
    "  print(a)"
   ]
  }
 ],
 "metadata": {
  "kernelspec": {
   "display_name": "Python 3",
   "language": "python",
   "name": "python3"
  },
  "language_info": {
   "codemirror_mode": {
    "name": "ipython",
    "version": 3
   },
   "file_extension": ".py",
   "mimetype": "text/x-python",
   "name": "python",
   "nbconvert_exporter": "python",
   "pygments_lexer": "ipython3",
   "version": "3.11.4"
  },
  "orig_nbformat": 4
 },
 "nbformat": 4,
 "nbformat_minor": 2
}
