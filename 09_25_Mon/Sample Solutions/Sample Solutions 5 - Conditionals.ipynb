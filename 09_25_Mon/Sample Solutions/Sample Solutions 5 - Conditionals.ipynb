{
 "cells": [
  {
   "cell_type": "markdown",
   "metadata": {},
   "source": [
    "### Exercise 5.1: Predicting Booleans\n",
    "Look at the code below and predict what will be printed in each case, then run the code to see if you're correct:"
   ]
  },
  {
   "cell_type": "code",
   "execution_count": null,
   "metadata": {},
   "outputs": [],
   "source": [
    "# when you made up your mind, run the code to see the output\n",
    "print(\"Case A\")\n",
    "print(not True)\n",
    "\n",
    "print(\"Case B\")\n",
    "print(3 > 4 or 1 in [1, 2])\n",
    "\n",
    "print(\"Case C\")\n",
    "print(10 % 2 == 0 and 5 != 6)\n",
    "\n",
    "print(\"Case D\")\n",
    "list1=[1, 2]\n",
    "print(5 * 2 > 8 and list1[1] == 1)\n",
    "\n",
    "print(\"Case E\")\n",
    "list2=[1, 2]\n",
    "print(list1 == list2)"
   ]
  },
  {
   "cell_type": "markdown",
   "metadata": {},
   "source": [
    "### Exercise 5.2: FizzBuzz\n",
    "In the cell below, write an if block which will print \"Fizz\" if ```a``` is a multiple of 3 and \"Buzz\" if it's a multiple of 5. If it's a multiple of 3 and 5, print \"FizzBuzz\" instead. If it's not a multiple of 3 or 5, print the value of ```a``` instead. Test your code for a few values of ```a```.\n",
    "\n",
    "The modulo operator may be useful to you."
   ]
  },
  {
   "cell_type": "code",
   "execution_count": null,
   "metadata": {},
   "outputs": [],
   "source": [
    "a = 1\n",
    "\n",
    "#The statements are checked in order so we need to check the FizBuzz case first.\n",
    "#This is because if the FizBuzz case is met, so are the Fizz and Buzz cases\n",
    "if a % 3 == 0 and a % 5 == 0:\n",
    "  #Print \"FizzBuzz\" is a is multiple of 3 and 5\n",
    "  #If this if statement isn't met we know a isn't a multiple of 3 and/or it's not a multiple of 5\n",
    "  print(\"FizzBuzz\")\n",
    "elif a % 3==0:\n",
    "  #Print \"Fizz\" if a is a multiple of 3 and not 5\n",
    "  print(\"Fizz\")\n",
    "elif a % 5==0:\n",
    "  #Print \"Buzz\" if a is multiple of 5 and not 3\n",
    "  print(\"Buzz\")\n",
    "else:\n",
    "  #If the else is reached, a is not a multiple of 3 or 5\n",
    "  print(a)"
   ]
  }
 ],
 "metadata": {
  "kernelspec": {
   "display_name": "Python 3",
   "language": "python",
   "name": "python3"
  },
  "language_info": {
   "codemirror_mode": {
    "name": "ipython",
    "version": 3
   },
   "file_extension": ".py",
   "mimetype": "text/x-python",
   "name": "python",
   "nbconvert_exporter": "python",
   "pygments_lexer": "ipython3",
   "version": "3.7.3"
  },
  "orig_nbformat": 4
 },
 "nbformat": 4,
 "nbformat_minor": 2
}
