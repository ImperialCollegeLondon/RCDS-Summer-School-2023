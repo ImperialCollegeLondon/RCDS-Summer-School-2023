{
 "cells": [
  {
   "cell_type": "markdown",
   "metadata": {},
   "source": [
    "# Counting Values"
   ]
  },
  {
   "cell_type": "code",
   "execution_count": null,
   "metadata": {},
   "outputs": [],
   "source": [
    "list1 = [1, 11, 10, 20, 15.2, 0.5]\n",
    "\n",
    "count = 0\n",
    "for item in list1:\n",
    "    if item > 10:\n",
    "        count = count + 1\n",
    "\n",
    "print(count)"
   ]
  },
  {
   "cell_type": "markdown",
   "metadata": {},
   "source": [
    "# Sum of Squares"
   ]
  },
  {
   "cell_type": "code",
   "execution_count": 1,
   "metadata": {},
   "outputs": [
    {
     "name": "stdout",
     "output_type": "stream",
     "text": [
      "338350\n"
     ]
    }
   ],
   "source": [
    "#We're going to loop over the values that x might take and add the square of them to the variable \"result\" which will keep a running total\n",
    "#Initially set x to zero\n",
    "result = 0\n",
    "\n",
    "# Loop over the values 1-100 (recall that the stop_number is the first number not included)\n",
    "# Because we want to use a step of 1, we don't need to specify it\n",
    "for x in range(1, 101):\n",
    "  #Add the square of the current value of x to the running total\n",
    "  result = result + x ** 2\n",
    "\n",
    "#Print the final result\n",
    "print(result)"
   ]
  }
 ],
 "metadata": {
  "kernelspec": {
   "display_name": "Python 3",
   "language": "python",
   "name": "python3"
  },
  "language_info": {
   "codemirror_mode": {
    "name": "ipython",
    "version": 3
   },
   "file_extension": ".py",
   "mimetype": "text/x-python",
   "name": "python",
   "nbconvert_exporter": "python",
   "pygments_lexer": "ipython3",
   "version": "3.11.4"
  },
  "orig_nbformat": 4
 },
 "nbformat": 4,
 "nbformat_minor": 2
}
