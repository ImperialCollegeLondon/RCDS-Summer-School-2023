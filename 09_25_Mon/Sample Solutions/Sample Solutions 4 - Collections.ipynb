{
 "cells": [
  {
   "cell_type": "markdown",
   "metadata": {},
   "source": [
    "### Exercise 4.1\n",
    "\n",
    "For the following example, write down what you think the results will be before running the example. Remember that spaces count as characters."
   ]
  },
  {
   "cell_type": "code",
   "execution_count": null,
   "metadata": {},
   "outputs": [],
   "source": [
    "# run the code below to see the output  \n",
    "string1 = \"Python\"\n",
    "string2 = \"is my favourite language\"\n",
    "\n",
    "excerpt1 = string1[-1]\n",
    "print(excerpt1)\n",
    "\n",
    "excerpt2 = string2[1:10:3]\n",
    "print(excerpt2)\n",
    "\n",
    "excerpt3 = string2[1::2]\n",
    "print(excerpt3)"
   ]
  },
  {
   "cell_type": "markdown",
   "metadata": {},
   "source": [
    "### Exercise 4.2\n",
    "\n",
    "Try the following exercises in the cell below:\n",
    "- Define a string of your choice with at least ten characters\n",
    "- Print the first character of the string\n",
    "- Make two new strings\n",
    "    - One from the first three characters\n",
    "    - One from the last three characters\n",
    "- Join these strings together to form a new string\n",
    "- Make another string containing every other character of your original string beginning with the second character"
   ]
  },
  {
   "cell_type": "code",
   "execution_count": null,
   "metadata": {},
   "outputs": [],
   "source": [
    "# Sample Solution\n",
    "\n",
    "#Define the string\n",
    "my_string = \"python is so fun\"\n",
    "\n",
    "#Print the first two characters of the string\n",
    "print(my_string[0:2:1])\n",
    "\n",
    "#Make the two short strings\n",
    "start_string = my_string[0:3:1]\n",
    "end_string = my_string[-3::1]\n",
    "print(start_string)\n",
    "print(end_string)\n",
    "\n",
    "#Make a new string by joining these strings together\n",
    "join_string = start_string + end_string\n",
    "print(join_string)\n",
    "\n",
    "#Create a string containing alternating characters of the string\n",
    "alternating_string = my_string[1::2]\n",
    "print(alternating_string)"
   ]
  },
  {
   "cell_type": "markdown",
   "metadata": {},
   "source": [
    "### Exercise 4.3\n",
    "What happens if you use a negative ```step``` in the index? What happens if you do this and make your ```start_index``` value higher than your ```stop index``` value?\n",
    "\n",
    "For the variable ```code_string``` in the example below, print every third value, counting backward from the penultimate character. You should get a message."
   ]
  },
  {
   "cell_type": "code",
   "execution_count": null,
   "metadata": {},
   "outputs": [],
   "source": [
    "code_string = \"q!2refrdgho2!c73 h#eg4hfet@f gvdd4e kkfgc1dab,r3fcgh fguthofeYe\""
   ]
  },
  {
   "cell_type": "code",
   "execution_count": null,
   "metadata": {},
   "outputs": [],
   "source": [
    "# Sample Solution\n",
    "\n",
    "#Print the relevant charcters from the string\n",
    "code_string=\"q!2refrdgho2!c73 h#eg4hfet@f gvdd4e kkfgc1dab,r3fcgh fguthofeYe\"\n",
    "print(code_string[-2::-3])"
   ]
  },
  {
   "cell_type": "markdown",
   "metadata": {},
   "source": [
    "### Exercise 4.4\n",
    "\n",
    "In the cell below:\n",
    "- Create a list named ```cuddly_animals``` with the names of at least two cuddly animals as items\n",
    "- Append the name of another cuddly animal to the end of the list\n",
    "- Insert the name of yet another cuddly animal so it is the first entry in this list\n",
    "- What happens if you use the ```+``` operator between the lists ```shopping_list``` (used above) and ```cuddly_animals```?\n",
    "- What happens if you try to print the value of an item of a list using an index greater than the number of items in the list?\n",
    "- What happens if you try to set the value of an item of a list using an index greater than the number of items in the list?"
   ]
  },
  {
   "cell_type": "code",
   "execution_count": null,
   "metadata": {},
   "outputs": [],
   "source": [
    "# Sample Solution\n",
    "shopping_list = [\"apples\", \"bananas\", \"bread\", \"mushrooms\"]\n",
    "\n",
    "\n",
    "#Create the initial list of cuddly animals\n",
    "cuddly_animals = [\"rabbit\", \"hamster\"]\n",
    "print(cuddly_animals)\n",
    "\n",
    "#Append another cuddly animal\n",
    "cuddly_animals.append(\"rat\")\n",
    "print(cuddly_animals)\n",
    "\n",
    "#Insert another cuddly animal to the start of the list\n",
    "cuddly_animals.insert(0, \"chinchilla\")\n",
    "print(cuddly_animals)\n",
    "\n",
    "#Join the cuddly animals and shopping lists\n",
    "joined_list = cuddly_animals + shopping_list\n",
    "print(joined_list)\n",
    "\n",
    "#Either of the following two lines will produce an error. Comment out each line to see the error produced by the other\n",
    "#Index error tends to be very common when working with lists\n",
    "print(cuddly_animals[99])\n",
    "#cuddly_animals[99]=\"alligators\""
   ]
  },
  {
   "cell_type": "markdown",
   "metadata": {},
   "source": [
    "### Extension Exercise 4.5\n",
    "In the code cell below, experiment with assignment and changing the values of:\n",
    "\n",
    "* A float\n",
    "* An int\n",
    "* A complex number (if you did the relevant extension exercise above)\n",
    "* A dictionary\n",
    "\n",
    "Use the ```hex(id())``` functions to examine the memory addresses of each variable. Experiment with different operators and assignments on variables with these types to see which will create a new object and which won't. Can you work out (or make an educated guess) which of these types of mutable and immutable? What happens when you independently assign the same value to two separate ```int``` objects (i.e. don't assign either ```int``` to the other)? Can you think why might Python do this?"
   ]
  },
  {
   "cell_type": "code",
   "execution_count": null,
   "metadata": {},
   "outputs": [],
   "source": [
    "# Sample Solution\n",
    "\n",
    "#Define the variables\n",
    "float1 = 1.2\n",
    "int1 = 2\n",
    "complex1 = complex(1,1.2)\n",
    "\n",
    "\n",
    "#Floats are immutable, so all we can do is reassign to the float, which changes the id:\n",
    "print(\"Float\")\n",
    "print(hex(id(float1)))\n",
    "float1 = float1 + 1.0\n",
    "print(hex(id(float1)))\n",
    "\n",
    "#Ints are immutable, so all we can do is reassign to the float, which changes the id:\n",
    "print(\"Int\")\n",
    "print(hex(id(int1)))\n",
    "int1 = int1 + 1\n",
    "print(hex(id(int1)))\n",
    "\n",
    "#Complex numbers are immutable, so all we can do is reassign to the complex number, which changes the id:\n",
    "print(\"Complex number\")\n",
    "print(hex(id(complex1)))\n",
    "complex1 = complex1 + 1.0\n",
    "print(hex(id(complex1)))\n"
   ]
  }
 ],
 "metadata": {
  "kernelspec": {
   "display_name": "Python 3",
   "language": "python",
   "name": "python3"
  },
  "language_info": {
   "codemirror_mode": {
    "name": "ipython",
    "version": 3
   },
   "file_extension": ".py",
   "mimetype": "text/x-python",
   "name": "python",
   "nbconvert_exporter": "python",
   "pygments_lexer": "ipython3",
   "version": "3.7.3"
  },
  "orig_nbformat": 4
 },
 "nbformat": 4,
 "nbformat_minor": 2
}
