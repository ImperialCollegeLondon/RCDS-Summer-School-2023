{
 "cells": [
  {
   "cell_type": "markdown",
   "metadata": {},
   "source": [
    "# Absolute Value of Values with Highest Absolute Value"
   ]
  },
  {
   "cell_type": "code",
   "execution_count": 1,
   "metadata": {},
   "outputs": [
    {
     "name": "stdout",
     "output_type": "stream",
     "text": [
      "4\n",
      "3\n",
      "5\n",
      "12.1\n",
      "1\n"
     ]
    }
   ],
   "source": [
    "def abs_max_abs(values):\n",
    "    # Find the minimum and maximum values in the list\n",
    "    # The value with the maximum absolute value will be one of these two values\n",
    "    minimum = min(values)\n",
    "    maximum = max(values)\n",
    "\n",
    "    # Calculate the absolute value of the minimum and maximum\n",
    "    # Return the maximum of the two\n",
    "    return max(abs(minimum), abs(maximum))\n",
    "\n",
    "# Sample code that should print the value \"4\"\n",
    "print(abs_max_abs([1, 2, 3, 4]))\n",
    "\n",
    "# Sample code that should print the value \"3\"\n",
    "print(abs_max_abs([-1, -2, -3, -3]))\n",
    "\n",
    "# Sample code that should print the value \"5\"\n",
    "print(abs_max_abs([-5, 0, 4, 1]))\n",
    "\n",
    "# Sample code that should print the value \"12.1\"\n",
    "print(abs_max_abs([-2.3, 12.1, 4.0, -1.1]))\n",
    "\n",
    "# Sample code that should print the value \"1\"\n",
    "print(abs_max_abs([1, -1, 1, 1]))"
   ]
  },
  {
   "cell_type": "markdown",
   "metadata": {},
   "source": [
    "# Means and Standard Deviations"
   ]
  },
  {
   "cell_type": "code",
   "execution_count": 1,
   "metadata": {},
   "outputs": [
    {
     "name": "stdout",
     "output_type": "stream",
     "text": [
      "2.5\n",
      "0.00020000000000000036\n",
      "31.93569928604803\n"
     ]
    }
   ],
   "source": [
    "def mean(values):\n",
    "    # Calculate the sum of the values in the list\n",
    "    # Use sum function to get the sum of the values\n",
    "    # Use the len function to get the number of values\n",
    "    return sum(values) / len(values)\n",
    "\n",
    "def variance(values):\n",
    "    # Calculate the mean of the values\n",
    "    mean_value = mean(values)\n",
    "    # Create an empty list to store the squared deviations\n",
    "    squared_deviations = []\n",
    "\n",
    "    # Loop over the values in the list\n",
    "    for value in values:\n",
    "        # Calculate the squared deviation of the value from the mean and store it in the list\n",
    "        squared_deviations.append((value - mean_value) ** 2)\n",
    "\n",
    "    # Calculate the mean of the squared deviations to get the variance\n",
    "    # Use the mean function we defined earlier\n",
    "    return mean(squared_deviations)\n",
    "\n",
    "def standard_deviation(values):\n",
    "    # Calculate the variance of the values and return its square root\n",
    "    return variance(values) ** 0.5\n",
    "\n",
    "# Should print the value 2.5\n",
    "print(mean([1,2,3,4]))\n",
    "\n",
    "# Should print the value  0.0002\n",
    "print(variance([0.98, 0.99, 1, 1.01, 1.02]))\n",
    "\n",
    "# Should print the value 31.9...\n",
    "print(standard_deviation([10, 30, 40, 29, 100, 83]))"
   ]
  },
  {
   "cell_type": "markdown",
   "metadata": {},
   "source": [
    "# Fibonacci"
   ]
  },
  {
   "cell_type": "code",
   "execution_count": 2,
   "metadata": {},
   "outputs": [
    {
     "name": "stdout",
     "output_type": "stream",
     "text": [
      "This function is for positive ints only\n",
      "None\n",
      "This function is for positive ints only\n",
      "None\n",
      "0\n",
      "1\n",
      "1\n",
      "21\n"
     ]
    }
   ],
   "source": [
    "# Define a function to return the fibonacci value of x\n",
    "def fibonacci(x):\n",
    "  #Check the value is a positive int\n",
    "  if type(x) != int or x < 0:\n",
    "    # If the value is not an int or is negative, give a warning and return (with the value None being returned)\n",
    "    print(\"This function is for positive ints only\")\n",
    "    return\n",
    "  # If x is 0, return 0\n",
    "  if x == 0:\n",
    "    return(0)\n",
    "  # If x is 1, return 1\n",
    "  if x == 1:\n",
    "    return(1)\n",
    "  # x is a positive integer larger than 1, so return the sum of F(x-1) and F(x-2)\n",
    "  else:\n",
    "    return(fibonacci(x - 1) + fibonacci(x - 2))\n",
    "\n",
    "# Check it with a few values\n",
    "# A warning message should be displayed for a negative number\n",
    "print(fibonacci(-4))\n",
    "# A warning message should be displayed for a non-integer\n",
    "print(fibonacci(1.2))\n",
    "# Should return 0\n",
    "print(fibonacci(0))\n",
    "# Should return 1\n",
    "print(fibonacci(1))\n",
    "# Should return 1\n",
    "print(fibonacci(2))\n",
    "# Should return 21\n",
    "print(fibonacci(8))"
   ]
  }
 ],
 "metadata": {
  "kernelspec": {
   "display_name": "Python 3",
   "language": "python",
   "name": "python3"
  },
  "language_info": {
   "codemirror_mode": {
    "name": "ipython",
    "version": 3
   },
   "file_extension": ".py",
   "mimetype": "text/x-python",
   "name": "python",
   "nbconvert_exporter": "python",
   "pygments_lexer": "ipython3",
   "version": "3.11.4"
  },
  "orig_nbformat": 4
 },
 "nbformat": 4,
 "nbformat_minor": 2
}
