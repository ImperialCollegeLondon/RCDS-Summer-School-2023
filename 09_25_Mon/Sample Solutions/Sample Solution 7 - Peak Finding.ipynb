{
 "cells": [
  {
   "cell_type": "markdown",
   "metadata": {},
   "source": [
    "# Task 1"
   ]
  },
  {
   "cell_type": "code",
   "execution_count": 32,
   "metadata": {},
   "outputs": [
    {
     "name": "stdout",
     "output_type": "stream",
     "text": [
      "[-0.0, 0.0, 0.0]\n",
      "[5.5511151231258054e-14, 2.999999999999518, -22.699999999998955]\n",
      "[2.0, 0.0, 0.0]\n",
      "[-6.0, 64.0, -150.0]\n"
     ]
    }
   ],
   "source": [
    "def get_quadratic_coefficients(x1, y1, x2, y2, x3, y3):\n",
    "    a = (x1 * (y3 - y2) + x2 * (y1 - y3) + x3 * (y2 - y1)) / ((x1 - x2) * (x1 - x3) * (x2 - x3))\n",
    "\n",
    "    b = (y2 - y1) / (x2 - x1) - a * (x1 + x2)\n",
    "\n",
    "    c = y1 - a * x1 ** 2 - b * x1\n",
    "\n",
    "    coefficients = [a, b, c]\n",
    "\n",
    "    return coefficients\n",
    "\n",
    "# Test Cases\n",
    "print(get_quadratic_coefficients(-1, 0, 0, 0, 1, 0)) # Should return [0.0, 0.0, 0.0]\n",
    "\n",
    "print(get_quadratic_coefficients(4.2, -10.1, 4.4, -9.5, 4.6, -8.9)) # Should return [0.0, 3.0, -22.7]\n",
    "\n",
    "print(get_quadratic_coefficients(-10, 200, 0, 0, 10, 200)) # Should return [2.0, 0.0, 0.0]\n",
    "\n",
    "print(get_quadratic_coefficients(4, 10, 5, 20, 6, 18)) # Should return [-6.0, 64.0, -150.0]"
   ]
  },
  {
   "cell_type": "markdown",
   "metadata": {},
   "source": [
    "# Task 2"
   ]
  },
  {
   "cell_type": "code",
   "execution_count": 33,
   "metadata": {},
   "outputs": [
    {
     "name": "stdout",
     "output_type": "stream",
     "text": [
      "[1.0, 1.0]\n",
      "[3.5, -8.625]\n",
      "None\n",
      "None\n",
      "None\n",
      "None\n"
     ]
    }
   ],
   "source": [
    "def get_peak_from_quadratic_coefficients(a, b, c):\n",
    "    return -b / (2 * a)\n",
    "\n",
    "def evaluate_quadratic_function(x, a, b, c):\n",
    "    return a * x ** 2 + b * x + c\n",
    "\n",
    "def get_peak_in_region(x1, y1, x2, y2, x3, y3):\n",
    "    coefficients = get_quadratic_coefficients(x1, y1, x2, y2, x3, y3)\n",
    "\n",
    "    a = coefficients[0]\n",
    "    b = coefficients[1]\n",
    "    c = coefficients[2]\n",
    "\n",
    "    if a >= 0:\n",
    "        return\n",
    "    \n",
    "    x_peak = get_peak_from_quadratic_coefficients(a, b, c)\n",
    "\n",
    "    if x_peak >= x1 and x_peak <= x3:\n",
    "        return [x_peak, evaluate_quadratic_function(x_peak, a, b, c)]\n",
    "    \n",
    "# Test Cases\n",
    "print(get_peak_in_region(0.8, 0, 1, 1, 1.2, 0)) # Should return [1.0, 1.0]\n",
    "\n",
    "print(get_peak_in_region(3, -9, 4, -9, 5, -12)) # Should return [3.5, -8.625]\n",
    "\n",
    "print(get_peak_in_region(5, 1.2, 5.1, 1.3, 5.2, 1.4)) # Should return None (the approximation should be straight)\n",
    "\n",
    "print(get_peak_in_region(1, 1, 2, 0, 3, -2)) # Should be None (the peak is to the before the region we're approximating)\n",
    "\n",
    "print(get_peak_in_region(-10, 0, -5, 10, 0, 15)) # Should be None (the peak is after the region we're approximating)\n",
    "\n",
    "print(get_peak_in_region(0, 2, 1, 1, 2, 2)) # Should be None (the flat section of the approximation is a trough not a peak)\n"
   ]
  },
  {
   "cell_type": "markdown",
   "metadata": {},
   "source": [
    "# Task 3"
   ]
  },
  {
   "cell_type": "code",
   "execution_count": 34,
   "metadata": {},
   "outputs": [
    {
     "name": "stdout",
     "output_type": "stream",
     "text": [
      "[1.0, 1.0]\n",
      "[3.0, 2.0]\n",
      "[1.0, 3.5]\n",
      "[5.333333333333333, 20.666666666666657]\n",
      "None\n"
     ]
    }
   ],
   "source": [
    "def get_peak_dataset(x, y):\n",
    "    peak_coordinates_dataset = None\n",
    "\n",
    "    for i_centre in range(1, len(x) - 1):\n",
    "        peak_coordinates_region = get_peak_in_region(x[i_centre - 1], y[i_centre - 1], x[i_centre], y[i_centre], x[i_centre + 1], y[i_centre + 1])\n",
    "\n",
    "        if peak_coordinates_region != None:\n",
    "            if peak_coordinates_dataset == None:\n",
    "                peak_coordinates_dataset = peak_coordinates_region\n",
    "            elif peak_coordinates_region[1] > peak_coordinates_dataset[1]:\n",
    "                peak_coordinates_dataset = peak_coordinates_region\n",
    "\n",
    "    return peak_coordinates_dataset\n",
    "\n",
    "# Test Cases\n",
    "x = [0, 1, 2]\n",
    "y = [0, 1, 0]\n",
    "print(get_peak_dataset(x, y)) # Should return the value [1.0, 1.0]\n",
    "\n",
    "x = [0, 1, 2, 3, 4]\n",
    "y = [0, 1, 0, 2, 0]\n",
    "print(get_peak_dataset(x, y)) # Should return the value [3.0, 1.0]\n",
    "\n",
    "x = [0, 1, 2, 3, 4]\n",
    "y = [1, 3.5, 1, 3, 1]\n",
    "print(get_peak_dataset(x, y)) # Should return the value [1.0, 3.5]\n",
    "\n",
    "x = [0, 1, 2, 3, 4, 5, 6, 7, 8, 9, 10, 11, 12, 13, 14, 15, 16, 17, 18, 19, 20]\n",
    "y = [0, 1, 2, 5, 10, 20, 18, 14, 12, 11, 10, 10, 11, 13, 15, 17, 19, 20.5, 19, 17, 14]\n",
    "print(get_peak_dataset(x, y)) # Should return the value [5.33.., 20.66...]\n",
    "\n",
    "x = [0, 1, 2, 3, 4]\n",
    "y = [0, -1, -2, -1, 0]\n",
    "print(get_peak_dataset(x, y)) # Should return None as there is no peak"
   ]
  }
 ],
 "metadata": {
  "kernelspec": {
   "display_name": "Python 3",
   "language": "python",
   "name": "python3"
  },
  "language_info": {
   "codemirror_mode": {
    "name": "ipython",
    "version": 3
   },
   "file_extension": ".py",
   "mimetype": "text/x-python",
   "name": "python",
   "nbconvert_exporter": "python",
   "pygments_lexer": "ipython3",
   "version": "3.11.4"
  },
  "orig_nbformat": 4
 },
 "nbformat": 4,
 "nbformat_minor": 2
}
