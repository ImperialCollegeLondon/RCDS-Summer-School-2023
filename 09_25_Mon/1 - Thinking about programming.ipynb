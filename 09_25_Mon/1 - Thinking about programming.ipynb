{
 "cells": [
  {
   "cell_type": "markdown",
   "metadata": {},
   "source": [
    "## Thinking about programming\n",
    "\n",
    "Research computing and data science are an integral part of research. Whether it is putting together a short scipt, managing big data or developing a full-blown software package, programming cannot be avoided. \n",
    "\n",
    "Programming is an essential part of the research computing ecosystem and, often, the first skill that is learned. Before we dive into Python syntax, let's think about what it means to program. Everyone of you have a different problem that you would like to address. \n",
    "\n",
    "Regardless the problem, you all need to decompose the problem into smaller manageable steps (similarly to giving someone directions). When you design the steps, you have to keep in mind how they would map them onto available \"tools\" that a programming language offers. When you are facing a large programming project, \"modularity\" comes into play. Broadly speaking it is about deciding how to meaningfully divide your solution into parts (or modules) so that the code can be reused and built on.\n",
    "\n",
    "You will get a chance to solve various problems this week, and I would encourage you to think about this course as a course in programmatic thinking that happens to be in Python rather than simply a Python course."
   ]
  },
  {
   "cell_type": "markdown",
   "metadata": {},
   "source": [
    "***"
   ]
  },
  {
   "cell_type": "markdown",
   "metadata": {},
   "source": [
    "## Needed terms\n",
    "\n",
    "Lines of programming code are referred to as **statements** - a unit of code that has an effect, for example, calculating a value and assigning it to a variable ```a = b + 2```. Within statements, one can find **expressions**, for example, the addition of two numbers ```b + 2```. Expressions can contain values ```2``` and variables ```b``` and **operators** ```+```. Allowed operators depend on the type of the value or variable. For example, numeric operators include addition."
   ]
  },
  {
   "cell_type": "markdown",
   "metadata": {},
   "source": [
    "***"
   ]
  },
  {
   "cell_type": "markdown",
   "metadata": {},
   "source": [
    "## Building blocks of programming languages\n",
    "\n",
    "It is safe to say that most programming languages are designed using the same conceptual building blocks. Of course, syntax and details may vary but the basic idea stays the same.\n",
    "\n",
    "* variables\n",
    "* functions\n",
    "* conditionals\n",
    "* loops\n",
    "* comments\n",
    "\n",
    "**Variables**. Imagine you wrote a program that converts degrees Celsius to Fahrenheit. If the program was able to operate only on a single value, it would not be practical at all. Your program becomes significantly more useful by introducing a variable that can take on different values in your computation. The program can now convert any value that you need to be converted!\n",
    "\n",
    "**Functions** let you call multiple statements (or lines of code) by one name. Most of us know what ```print(\"Hello world!\")``` means. By using the ```print``` function, you evoke a sequence of statements that results in the obligatory \"Hello world\" on your screen. Functions help to keep our code concise and efficient. Identifying statement sequences that tend to be often used together and turning them into a function will always benefit your coding style. Python and Python modules provide many functions and you can define your own.\n",
    "\n",
    "**Conditionals and loops**. If your code contains no conditionals or loops, it will always run line by line from top to bottom. Often, however, one needs to make decisions \"on the fly\"; for example, depending on a result of a calculation inside the program.\n",
    "\n",
    "Let's think back to converting Celsius to Fahrenheit values. Imagine that you would like the program to tell the user if the value is above the boiling point of water. Conditionals enable you to do just this - different lines of code are executed for different values.\n",
    "\n",
    "A loop will repeat statements in the \"body\" of the loop. One can select different types of loops depending on a task. ```For``` loops are good for repeating a sequence of statements for a predetermined number of times; for example, on a list of items. ```While``` loops are good for repeating code while a certain condition holds true.\n",
    "\n",
    "**Comments** usually do not appear in this list of basic building blocks but they definitely should. Comments in your code are lines that are not executed. They are included to help you or whoever will use the code understand what it does. A good practice is to comment on why a line of code is included rather than commenting on what it does.\n"
   ]
  },
  {
   "cell_type": "markdown",
   "metadata": {},
   "source": [
    "***"
   ]
  },
  {
   "cell_type": "markdown",
   "metadata": {},
   "source": [
    "## Debugging\n",
    "\n",
    "Debugging refers to looking for errors or \"bugs\". The moment you start programming, you will encounter errors. This is completely normal and should not discourage you from embracing programming. The idea is to realise the inescapable nature of this phenomenon and adopt a level-headed attitude - emotions are not likely to help here.\n",
    "\n",
    "In principle, one can distinguish three types of errors:\n",
    "\n",
    "### Syntax errors \n",
    "The code does not follow the language syntax rules. These errors plague us all but beginners tend to be more prone to committing them. If a program contains a syntax error, it refuses to run and produces an error message. It is a very good idea to read those closely and get used to decoding them.\n",
    "\n",
    "### Runtime errors\n",
    "The program is syntactically correct and starts running. If, however, an instruction that cannot be completed is encountered, the program stops with an error message. For example, one tries to use a variable that has not been assigned a value.\n",
    "\n",
    "### Semantic errors\n",
    "These are the worst! The program runs and produces a result. BUT it also includes a logical flaw - a flaw in the \"meaning\" of the code - and the result is actually wrong. This brings us to testing. For now, do remember that good programming practice involves producing tests for each meaningful piece of code that one writes. These tests \"exercise\" the code on different values and extreme cases to uncover any potential logical flaws.\n"
   ]
  },
  {
   "cell_type": "markdown",
   "metadata": {},
   "source": [
    "***"
   ]
  },
  {
   "cell_type": "markdown",
   "metadata": {},
   "source": [
    "## Food for thought - natural and formal languages\n",
    "\n",
    "Have you ever contemplated a comparative analysis of programming and spoken languages? Paraphrasing Allen B. Downey in \"Think Python\":\n",
    "\n",
    "Programming languages are formal languages. Other examples of formal languages include mathematic notation or chemical formulas. Formal languages have no ambiguity and high literalness (each line means exactly what it says). \n",
    "\n",
    "The opposite example is natural languages (spoken languages), which are highly ambiguous and often not literal at all. For example, when we say that someone has \"bats in the belfry\", it means that they are acting eccentric, not that they keep bats. Natural languages are also highly redundant - there are many ways to express one idea. High redundancy makes up for high ambiguity. \n",
    "\n",
    "The high literalness of programming languages is achieved by strict syntax and interpretation. Each line of code follows the language syntax and implies a single interpretation. \n"
   ]
  },
  {
   "cell_type": "markdown",
   "metadata": {},
   "source": [
    "***"
   ]
  },
  {
   "cell_type": "markdown",
   "metadata": {},
   "source": [
    "## Future directions \n",
    "\n",
    "Beyond programming, additional knowledge and skills may be required to complete the computational aspects of your projects. \n",
    "\n",
    "We recommend that you review [RCDS courses](https://www.imperial.ac.uk/students/academic-support/graduate-school/professional-development/doctoral-students/research-computing-data-science/courses/) for topics that may be useful. \n",
    "\n",
    "Below, I list a couple of topics that should be on your radar:\n",
    "\n",
    "* Research software engineering good practice - check out this [page](https://www.imperial.ac.uk/students/academic-support/graduate-school/professional-development/doctoral-students/research-computing-data-science/useful-resources/introduction-to-rcds-good-practice/) for introduction. This [page](https://www.imperial.ac.uk/computational-methods/software-data/) goes a bit deeper and contains many useful links.\n",
    "\n",
    "* Many research problems require long computations or big data processing. If you need to scale up, check out the [Research Computing Service](https://www.imperial.ac.uk/admin-services/ict/self-service/research-support/rcs/) that takes care of Imperial's high performance computing cluster. Remember that you will need to have some knowledge of the Linux command line take advantage of it.\n"
   ]
  },
  {
   "cell_type": "markdown",
   "metadata": {},
   "source": [
    "### Acknowledgement:\n",
    "Many of the ideas were derived from reading Think Python by Allen B. Downey."
   ]
  },
  {
   "cell_type": "markdown",
   "metadata": {},
   "source": []
  }
 ],
 "metadata": {
  "kernelspec": {
   "display_name": "Python 3",
   "language": "python",
   "name": "python3"
  },
  "language_info": {
   "codemirror_mode": {
    "name": "ipython",
    "version": 3
   },
   "file_extension": ".py",
   "mimetype": "text/x-python",
   "name": "python",
   "nbconvert_exporter": "python",
   "pygments_lexer": "ipython3",
   "version": "3.7.3"
  },
  "orig_nbformat": 4
 },
 "nbformat": 4,
 "nbformat_minor": 2
}
