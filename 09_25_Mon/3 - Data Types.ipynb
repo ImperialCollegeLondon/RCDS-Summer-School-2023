{
 "cells": [
  {
   "cell_type": "markdown",
   "metadata": {},
   "source": [
    "# Data Types\n",
    "\n",
    "Every variable and expression in Python will reference an example of a particular type of data. There are a large number of variable types in Python and it's possible to define your own variable types.  The example of a type which referenced by a variable is called an \"object\" . Objects of different types will have different properties and may behave differently to each other when different operators are used with them.\n",
    "\n",
    "You can check which type of object any variable references using the ```type``` command. For example:"
   ]
  },
  {
   "cell_type": "code",
   "execution_count": null,
   "metadata": {},
   "outputs": [],
   "source": [
    "print(type(1))\n",
    "print(type(1.1))\n",
    "print(type(False))"
   ]
  },
  {
   "cell_type": "markdown",
   "metadata": {},
   "source": [
    "This section will familiarise you with some common types in Python."
   ]
  },
  {
   "cell_type": "markdown",
   "metadata": {},
   "source": [
    "## Numeric values\n",
    "A family of types (```int```, ```float``` and ```complex```) deals with different numeric types.\n",
    "\n",
    "Python will automatically use different precisions and lengths of numbers, allowing a very wide range of values to be represented. If you don't understand this statement, you don't need to worry about it, this is more to inform students who are already familiar with other coding languages where this might not be the case.\n",
    "\n",
    "Operations using one type of number will not always produce the same type of number. For instance:"
   ]
  },
  {
   "cell_type": "code",
   "execution_count": null,
   "metadata": {},
   "outputs": [],
   "source": [
    "int1 = 4\n",
    "int2 = 3\n",
    "int3 = 2\n",
    "\n",
    "print(type(int1))\n",
    "print(type(int2))\n",
    "print(type(int3))\n",
    "\n",
    "print(\"Subtraction:\")\n",
    "print(int1 - int2)\n",
    "print(type(int1 - int2))\n",
    "\n",
    "print(\"Division:\")\n",
    "print(int1 / int2)\n",
    "print(type(int1 / int2))\n",
    "\n",
    "print(int1 / int3)\n",
    "print(type(int1 / int3))\n",
    "\n",
    "print(\"Integer Division:\")\n",
    "print(int1 // int2)\n",
    "print(type(int1 // int2))\n",
    "\n",
    "print(int1 // int3)\n",
    "print(type(int1 // int3))"
   ]
  },
  {
   "cell_type": "markdown",
   "metadata": {},
   "source": [
    "In the example above, Python returned an ```int``` for most operations using integers, but the division operator produced a ```float``` result, even when the result is expressible as an integer (for instance, $4/2=2$). Integer division, meanwhile, always produces an ```int``.\n",
    "\n",
    "This may sound complicated, but the good news is that Python generally does smart things when working with the numerical types so you don't need to worry about the conversions most of the time.\n",
    "\n",
    "Sometimes, you will want to convert between different ```int```s and ```float```s. You may obtain a float version of the variable ```x``` by writing:\n",
    "\n",
    "```python\n",
    "float(x)\n",
    "```\n",
    "\n",
    "By writing:\n",
    "\n",
    "```python\n",
    "int(x)\n",
    "```\n",
    "\n",
    "you will convert a number to an integer (rounding toward zero). If you want to round to the nearest number, you can instead write:\n",
    "\n",
    "```python\n",
    "round(x)\n",
    "```\n",
    "\n",
    "### Exercise\n",
    "\n",
    "At each stage of the following, use print statements to check you get the result you expect:\n",
    "* In the cell below, create a variable named ```my_number``` and set its value to 2.6\n",
    "* Create a copy of it called ```round_down``` which is an int, rounded toward zero\n",
    "* Create another copy of it called ```round_nearest``` which is an int, rounded to the nearest integer\n",
    "* Create a copy of ```round_nearest``` called ```new_float``` which is a float.\n",
    "* Change the value of ```my_number``` to -3.6 and re-run the cell"
   ]
  },
  {
   "cell_type": "code",
   "execution_count": null,
   "metadata": {},
   "outputs": [],
   "source": []
  },
  {
   "cell_type": "code",
   "execution_count": null,
   "metadata": {},
   "outputs": [],
   "source": [
    "# Sample Solutions\n",
    "\n",
    "#Create a variable called my_number. Change it to -3.6 for the final part of the exercise\n",
    "my_number = 2.6\n",
    "print(my_number)\n",
    "\n",
    "#Create round_down\n",
    "round_down = int(my_number)\n",
    "print(round_down)\n",
    "\n",
    "#Create round_nearest\n",
    "round_nearest = round(my_number)\n",
    "print(round_nearest)\n",
    "\n",
    "#Create new_float\n",
    "new_float = float(round_nearest)\n",
    "print(new_float)"
   ]
  },
  {
   "cell_type": "markdown",
   "metadata": {},
   "source": [
    "### Extension: Complex numbers\n",
    "You can create a complex number using the syntax:\n",
    "\n",
    "```python\n",
    "c = complex(real_part, imaginary_part)\n",
    "```\n",
    "Alternatively, you can use the following syntax to define a purely imaginary number\n",
    "```python\n",
    "c = 1j\n",
    "```\n",
    "\n",
    "For example:"
   ]
  },
  {
   "cell_type": "code",
   "execution_count": null,
   "metadata": {},
   "outputs": [],
   "source": [
    "c1 = complex(1,2)\n",
    "c2 = 2-4j\n",
    "\n",
    "print(c1)\n",
    "print(type(c1))\n",
    "print(c2)\n",
    "print(type(c1))"
   ]
  },
  {
   "cell_type": "markdown",
   "metadata": {},
   "source": [
    "You can also perform operations on complex numbers using the normal mathematical operators. For example:"
   ]
  },
  {
   "cell_type": "code",
   "execution_count": null,
   "metadata": {},
   "outputs": [],
   "source": [
    "c1 = complex(1,2)\n",
    "c2 = 2-4j\n",
    "\n",
    "print(c1 + c2)\n",
    "print(type(c1 + c2))\n",
    "\n",
    "print(c1 * c2)\n",
    "print(type(c1 * c2))"
   ]
  },
  {
   "cell_type": "markdown",
   "metadata": {},
   "source": [
    "#### Extension Exercise\n",
    "In the code cell below, create six variables, two each of: an integer, a float and a complex number. Check their type is correct. Try different combinations of these variables using the exponent operator ```**``` and observe the type of variable returned in each case."
   ]
  },
  {
   "cell_type": "code",
   "execution_count": null,
   "metadata": {},
   "outputs": [],
   "source": []
  },
  {
   "cell_type": "code",
   "execution_count": null,
   "metadata": {},
   "outputs": [],
   "source": [
    "# Sample Solution\n",
    "\n",
    "#Create the ints, floats and complex numbers\n",
    "int1 = 2\n",
    "int2 = 3\n",
    "float1 = 1.2\n",
    "float2 = 1.9\n",
    "complex1 = complex(1,2)\n",
    "complex2 = complex(0,1)\n",
    "\n",
    "#Cases where the base is an int\n",
    "print(\"Int Base\")\n",
    "intint = int1 ** int2\n",
    "print(intint)\n",
    "intfloat = int1**float1\n",
    "print(intfloat)\n",
    "intcomplex = int1**complex1\n",
    "print(intcomplex)\n",
    "\n",
    "#Cases where the base is a float\n",
    "print(\"Float Base\")\n",
    "floatint = float1 ** int1\n",
    "print(floatint)\n",
    "floatfloat = float1 ** float2\n",
    "print(floatfloat)\n",
    "floatcomplex = float1 ** complex1\n",
    "print(floatcomplex)\n",
    "\n",
    "#Cases where the base is an int\n",
    "print(\"Complex Base\")\n",
    "complexint = complex1 ** int1\n",
    "print(complexint)\n",
    "complexfloat = complex1 ** float1\n",
    "print(complexfloat)\n",
    "complexcomplex = complex1 ** complex2\n",
    "print(complexcomplex)"
   ]
  },
  {
   "cell_type": "markdown",
   "metadata": {},
   "source": [
    "### Booleans\n",
    "In Python, you may define a value to be a ```bool``` (i.e. true or false), using the syntax:\n",
    "\n",
    "```python\n",
    "bool1 = True\n",
    "bool2 = False\n",
    "```\n",
    "\n",
    "This will become useful when considering conditionals, which will be covered in a future notebook."
   ]
  }
 ],
 "metadata": {
  "language_info": {
   "name": "python"
  },
  "orig_nbformat": 4
 },
 "nbformat": 4,
 "nbformat_minor": 2
}
