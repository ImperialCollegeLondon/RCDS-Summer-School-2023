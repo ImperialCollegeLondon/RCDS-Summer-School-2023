{
 "cells": [
  {
   "cell_type": "markdown",
   "metadata": {},
   "source": [
    "# Data Types\n",
    "\n",
    "Every variable and expression in Python will reference an example of a particular type of data. There are a number of variable types in Python - numerical types, text (stings), and collections of varibles. It's also possible to define your own variable types.  \n",
    "\n",
    "\n",
    "Inside Python, data types are treated as \"objects\" . Objects of different types will have different properties and behave differently. Predefined data types also come with allowed operations that can be done on them.\n",
    "\n",
    "You can check which type of object any variable references using the ```type``` command. Python responds with showing a ```class``` that is used to define the object. Below, you can see objects of class ```integer``` (whole number), ```float``` (decimal number), and ```bool``` (Boolean value)."
   ]
  },
  {
   "cell_type": "code",
   "execution_count": null,
   "metadata": {},
   "outputs": [],
   "source": [
    "print(type(1))\n",
    "print(type(1.1))\n",
    "print(type(False))"
   ]
  },
  {
   "cell_type": "markdown",
   "metadata": {},
   "source": [
    "## Python built-in types\n",
    "This section below deals with some common types that are defined as part of core Python."
   ]
  },
  {
   "cell_type": "markdown",
   "metadata": {},
   "source": [
    "### Numeric values\n",
    "A family of types (```int```, ```float``` and ```complex```) deals with different numeric types.\n",
    "\n",
    "Python will automatically use different precisions and lengths of numbers, allowing a very wide range of values to be represented. If you don't understand this statement, you don't need to worry about it, this is more to inform students who are already familiar with other coding languages where this might not be the case.\n",
    "\n",
    "Operations using one type of number will not always produce the same type of number. For instance:"
   ]
  },
  {
   "cell_type": "code",
   "execution_count": null,
   "metadata": {},
   "outputs": [],
   "source": [
    "int1 = 4\n",
    "int2 = 3\n",
    "int3 = 2\n",
    "\n",
    "print(type(int1))\n",
    "print(type(int2))\n",
    "print(type(int3))\n",
    "\n",
    "print(\"Subtraction:\")\n",
    "print(int1 - int2)\n",
    "print(type(int1 - int2))\n",
    "\n",
    "print(\"Divisions:\")\n",
    "print(int1 / int2)\n",
    "print(type(int1 / int2))\n",
    "\n",
    "print(int1 / int3)\n",
    "print(type(int1 / int3))\n",
    "\n",
    "print(\"Integer Divisions:\")\n",
    "print(int1 // int2)\n",
    "print(type(int1 // int2))\n",
    "\n",
    "print(int1 // int3)\n",
    "print(type(int1 // int3))"
   ]
  },
  {
   "cell_type": "markdown",
   "metadata": {},
   "source": [
    "In the example above, Python returned an ```int``` for most operations using integers, but the division operator produced a ```float``` result, even when the result is expressible as an integer (for instance, $4/2=2$). Integer division, meanwhile, always produces an ```int``.\n",
    "\n",
    "This may sound complicated, but the good news is that Python generally does smart things when working with the numerical types so you don't need to worry about the conversions most of the time.\n",
    "\n",
    "### Type conversions\n",
    "\n",
    "Sometimes, you will want to convert between different ```int```s and ```float```s. You may obtain a float version of the variable ```x``` by writing:\n",
    "\n",
    "```python\n",
    "float(x)\n",
    "```\n",
    "\n",
    "By writing:\n",
    "\n",
    "```python\n",
    "int(x)\n",
    "```\n",
    "\n",
    "you will convert a number to an integer (rounding toward zero). \n",
    "\n",
    "\n",
    "If you want to round to the nearest number, you can use ```round``` function.\n",
    "\n",
    "```python\n",
    "round(x)\n",
    "```\n",
    "\n"
   ]
  },
  {
   "cell_type": "markdown",
   "metadata": {},
   "source": [
    "### Exercise 3.1\n",
    "\n",
    "At each stage of the following, use print statements to check you get the result you expect:\n",
    "* In the cell below, create a variable named ```my_number``` and set its value to 2.6\n",
    "* Create a copy of it called ```round_down``` which is an int, rounded toward zero\n",
    "* Create another copy of it called ```round_nearest``` which is an int, rounded to the nearest integer\n",
    "* Create a copy of ```round_nearest``` called ```new_float``` which is a float.\n",
    "* Change the value of ```my_number``` to -3.6 and re-run the cell"
   ]
  },
  {
   "cell_type": "code",
   "execution_count": null,
   "metadata": {},
   "outputs": [],
   "source": [
    "# type your code here  "
   ]
  },
  {
   "cell_type": "markdown",
   "metadata": {},
   "source": [
    "### Extension: Complex numbers\n",
    "You can create a complex number using the syntax:\n",
    "\n",
    "```python\n",
    "c = complex(real_part, imaginary_part)\n",
    "```\n",
    "Alternatively, you can use the following syntax to define a purely imaginary number\n",
    "```python\n",
    "c = 1j\n",
    "```\n",
    "\n",
    "For example:"
   ]
  },
  {
   "cell_type": "code",
   "execution_count": null,
   "metadata": {},
   "outputs": [],
   "source": [
    "c1 = complex(1,2)\n",
    "c2 = 2-4j\n",
    "\n",
    "print(c1)\n",
    "print(type(c1))\n",
    "print(c2)\n",
    "print(type(c1))"
   ]
  },
  {
   "cell_type": "markdown",
   "metadata": {},
   "source": [
    "You can also perform operations on complex numbers using the normal mathematical operators. For example:"
   ]
  },
  {
   "cell_type": "code",
   "execution_count": null,
   "metadata": {},
   "outputs": [],
   "source": [
    "c1 = complex(1,2)\n",
    "c2 = 2-4j\n",
    "print(c1)\n",
    "print(c2)\n",
    "\n",
    "print(\"Addition:\")\n",
    "print(c1 + c2)\n",
    "print(type(c1 + c2))\n",
    "\n",
    "print(\"Multiplication:\") \n",
    "print(c1 * c2)\n",
    "print(type(c1 * c2))"
   ]
  },
  {
   "cell_type": "markdown",
   "metadata": {},
   "source": [
    "### Exercise 3.2\n",
    "In the code cell below, create six variables, two each of: an integer, a float and a complex number. Check their type is correct. Try different combinations of these variables using the exponent operator ```**``` and observe the type of variable returned in each case."
   ]
  },
  {
   "cell_type": "code",
   "execution_count": null,
   "metadata": {},
   "outputs": [],
   "source": [
    "# type your code here "
   ]
  },
  {
   "cell_type": "markdown",
   "metadata": {},
   "source": [
    "### Booleans\n",
    "In Python, you may define a value to be a ```bool``` (i.e. true or false), using the syntax:\n",
    "\n",
    "```python\n",
    "bool1 = True\n",
    "bool2 = False\n",
    "```\n",
    "\n",
    "This will become useful when considering conditionals, which will be covered in a future notebook."
   ]
  }
 ],
 "metadata": {
  "kernelspec": {
   "display_name": "Python 3",
   "language": "python",
   "name": "python3"
  },
  "language_info": {
   "codemirror_mode": {
    "name": "ipython",
    "version": 3
   },
   "file_extension": ".py",
   "mimetype": "text/x-python",
   "name": "python",
   "nbconvert_exporter": "python",
   "pygments_lexer": "ipython3",
   "version": "3.7.3"
  },
  "orig_nbformat": 4
 },
 "nbformat": 4,
 "nbformat_minor": 2
}
