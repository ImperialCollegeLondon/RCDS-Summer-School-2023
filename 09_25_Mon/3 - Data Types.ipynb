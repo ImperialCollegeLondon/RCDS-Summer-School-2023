{
 "cells": [
  {
   "cell_type": "markdown",
   "metadata": {},
   "source": [
    "# Data Types\n",
    "\n",
    "Every variable and expression in Python will reference an example of a particular type of data. There are a large number of variable types in Python and it's possible to define your own variable types.  The example of a type which referenced by a variable is called an \"object\" . Objects of different types will have different properties and may behave differently to each other when different operators are used with them.\n",
    "\n",
    "You can check which type of object any variable references using the ```type``` command. For example:"
   ]
  },
  {
   "cell_type": "code",
   "execution_count": null,
   "metadata": {},
   "outputs": [],
   "source": [
    "print(type(1))\n",
    "print(type(1.1))\n",
    "print(type(False))"
   ]
  },
  {
   "cell_type": "markdown",
   "metadata": {},
   "source": [
    "This section will familiarise you with some common types in Python."
   ]
  },
  {
   "cell_type": "markdown",
   "metadata": {},
   "source": [
    "## Numeric values\n",
    "A family of types (```int```, ```float``` and ```complex```) deals with different numeric types.\n",
    "\n",
    "Python will automatically use different precisions and lengths of numbers, allowing a very wide range of values to be represented. If you don't understand this statement, you don't need to worry about it, this is more to inform students who are already familiar with other coding languages where this might not be the case.\n",
    "\n",
    "Operations using one type of number will not always produce the same type of number. For instance:"
   ]
  },
  {
   "cell_type": "code",
   "execution_count": null,
   "metadata": {},
   "outputs": [],
   "source": [
    "int1 = 4\n",
    "int2 = 3\n",
    "int3 = 2\n",
    "\n",
    "print(type(int1))\n",
    "print(type(int2))\n",
    "print(type(int3))\n",
    "\n",
    "print(\"Subtraction:\")\n",
    "print(int1 - int2)\n",
    "print(type(int1 - int2))\n",
    "\n",
    "print(\"Division:\")\n",
    "print(int1 / int2)\n",
    "print(type(int1 / int2))\n",
    "\n",
    "print(int1 / int3)\n",
    "print(type(int1 / int3))\n",
    "\n",
    "print(\"Integer Division:\")\n",
    "print(int1 // int2)\n",
    "print(type(int1 // int2))\n",
    "\n",
    "print(int1 // int3)\n",
    "print(type(int1 // int3))"
   ]
  },
  {
   "cell_type": "markdown",
   "metadata": {},
   "source": [
    "In the example above, Python returned an ```int``` for most operations using integers, but the division operator produced a ```float``` result, even when the result is expressible as an integer (for instance, $4/2=2$). Integer division, meanwhile, always produces an ```int``.\n",
    "\n",
    "This may sound complicated, but the good news is that Python generally does smart things when working with the numerical types so you don't need to worry about the conversions most of the time.\n",
    "\n",
    "Sometimes, you will want to convert between different ```int```s and ```float```s. You may obtain a float version of the variable ```x``` by writing:\n",
    "\n",
    "```python\n",
    "float(x)\n",
    "```\n",
    "\n",
    "By writing:\n",
    "\n",
    "```python\n",
    "int(x)\n",
    "```\n",
    "\n",
    "you will convert a number to an integer (rounding toward zero). If you want to round to the nearest number, you can instead write:\n",
    "\n",
    "```python\n",
    "round(x)\n",
    "```\n",
    "\n",
    "### Exercise\n",
    "\n",
    "At each stage of the following, use print statements to check you get the result you expect:\n",
    "* In the cell below, create a variable named ```my_number``` and set its value to 2.6\n",
    "* Create a copy of it called ```round_down``` which is an int, rounded toward zero\n",
    "* Create another copy of it called ```round_nearest``` which is an int, rounded to the nearest integer\n",
    "* Create a copy of ```round_nearest``` called ```new_float``` which is a float.\n",
    "* Change the value of ```my_number``` to -3.6 and re-run the cell"
   ]
  },
  {
   "cell_type": "code",
   "execution_count": null,
   "metadata": {},
   "outputs": [],
   "source": []
  },
  {
   "cell_type": "code",
   "execution_count": null,
   "metadata": {},
   "outputs": [],
   "source": [
    "# Sample Solutions\n",
    "\n",
    "#Create a variable called my_number. Change it to -3.6 for the final part of the exercise\n",
    "my_number = 2.6\n",
    "print(my_number)\n",
    "\n",
    "#Create round_down\n",
    "round_down = int(my_number)\n",
    "print(round_down)\n",
    "\n",
    "#Create round_nearest\n",
    "round_nearest = round(my_number)\n",
    "print(round_nearest)\n",
    "\n",
    "#Create new_float\n",
    "new_float = float(round_nearest)\n",
    "print(new_float)"
   ]
  },
  {
   "cell_type": "markdown",
   "metadata": {},
   "source": [
    "### Extension: Complex numbers\n",
    "You can create a complex number using the syntax:\n",
    "\n",
    "```python\n",
    "c = complex(real_part, imaginary_part)\n",
    "```\n",
    "Alternatively, you can use the following syntax to define a purely imaginary number\n",
    "```python\n",
    "c = 1j\n",
    "```\n",
    "\n",
    "For example:"
   ]
  },
  {
   "cell_type": "code",
   "execution_count": null,
   "metadata": {},
   "outputs": [],
   "source": [
    "c1 = complex(1,2)\n",
    "c2 = 2-4j\n",
    "\n",
    "print(c1)\n",
    "print(type(c1))\n",
    "print(c2)\n",
    "print(type(c1))"
   ]
  },
  {
   "cell_type": "markdown",
   "metadata": {},
   "source": [
    "You can also perform operations on complex numbers using the normal mathematical operators. For example:"
   ]
  },
  {
   "cell_type": "code",
   "execution_count": null,
   "metadata": {},
   "outputs": [],
   "source": [
    "c1 = complex(1,2)\n",
    "c2 = 2-4j\n",
    "\n",
    "print(c1 + c2)\n",
    "print(type(c1 + c2))\n",
    "\n",
    "print(c1 * c2)\n",
    "print(type(c1 * c2))"
   ]
  },
  {
   "cell_type": "markdown",
   "metadata": {},
   "source": [
    "#### Extension Exercise\n",
    "In the code cell below, create six variables, two each of: an integer, a float and a complex number. Check their type is correct. Try different combinations of these variables using the exponent operator ```**``` and observe the type of variable returned in each case."
   ]
  },
  {
   "cell_type": "code",
   "execution_count": null,
   "metadata": {},
   "outputs": [],
   "source": []
  },
  {
   "cell_type": "code",
   "execution_count": null,
   "metadata": {},
   "outputs": [],
   "source": [
    "# Sample Solution\n",
    "\n",
    "#Create the ints, floats and complex numbers\n",
    "int1 = 2\n",
    "int2 = 3\n",
    "float1 = 1.2\n",
    "float2 = 1.9\n",
    "complex1 = complex(1,2)\n",
    "complex2 = complex(0,1)\n",
    "\n",
    "#Cases where the base is an int\n",
    "print(\"Int Base\")\n",
    "intint = int1 ** int2\n",
    "print(intint)\n",
    "intfloat = int1**float1\n",
    "print(intfloat)\n",
    "intcomplex = int1**complex1\n",
    "print(intcomplex)\n",
    "\n",
    "#Cases where the base is a float\n",
    "print(\"Float Base\")\n",
    "floatint = float1 ** int1\n",
    "print(floatint)\n",
    "floatfloat = float1 ** float2\n",
    "print(floatfloat)\n",
    "floatcomplex = float1 ** complex1\n",
    "print(floatcomplex)\n",
    "\n",
    "#Cases where the base is an int\n",
    "print(\"Complex Base\")\n",
    "complexint = complex1 ** int1\n",
    "print(complexint)\n",
    "complexfloat = complex1 ** float1\n",
    "print(complexfloat)\n",
    "complexcomplex = complex1 ** complex2\n",
    "print(complexcomplex)"
   ]
  },
  {
   "cell_type": "markdown",
   "metadata": {},
   "source": [
    "### Booleans\n",
    "In Python, you may define a value to be a ```bool``` (i.e. true or false), using the syntax:\n",
    "\n",
    "```python\n",
    "bool1 = True\n",
    "bool2 = False\n",
    "```\n",
    "\n",
    "This will become useful when considering conditionals, which will be covered in a future notebook."
   ]
  },
  {
   "cell_type": "markdown",
   "metadata": {},
   "source": [
    "### Collections\n",
    "Many types in Python are \"collections\". This means an instance of it actually contains references to a number of other objects. The referenced objects are known as the \"items\" of the instance of the collection.\n",
    "\n",
    "These items can be read through in order (this will be covered in the \"Loops\" notebook) or can have individual items accessed using the syntax:\n",
    "\n",
    "```python\n",
    "variable_name[item_identifier]\n",
    "```\n",
    "\n",
    "The exact nature of the item identifier varies between collections.\n",
    "\n",
    "We'll now look at the two most common collections - strings and lists. There's also an extension section relating to dictionaries - another common collection."
   ]
  },
  {
   "cell_type": "markdown",
   "metadata": {},
   "source": [
    "#### Strings\n",
    "A String is a collection of characters. Strings are defined by placing the string of characters in between a pair of double or single quotation marks. For instance:"
   ]
  },
  {
   "cell_type": "code",
   "execution_count": null,
   "metadata": {},
   "outputs": [],
   "source": [
    "print(\"Hello world\")\n",
    "a = \"Hello back!\"\n",
    "print(type(a))\n",
    "print(a)"
   ]
  },
  {
   "cell_type": "markdown",
   "metadata": {},
   "source": [
    "The ```n```th character of a string named ```string1``` may be returned (as a string with a single character) using the syntax:\n",
    "\n",
    "```python\n",
    "string1[n]\n",
    "```\n",
    "\n",
    "The index inside the square brackets is an integer. Note that, in Python the index of the first character is 0 and not 1. The reasons for this are long and convoluted and involved yacht racing. You can read one account [here](http://exple.tive.org/blarg/2013/10/22/citation-needed/). This feature of the language has lead to much confusion over the years, and a nice quotation of disputed origin:\n",
    "\n",
    "**\"There are two hard things in computing: cache invalidation, naming things and off-by-one errors\"**\n",
    "\n",
    "If this index-numbering system seems counter-inituitive to you, you're not alone. The good news is that it becomes natural after working with Python for a while.\n",
    "\n",
    "It is also possible to use a negative index. This returns an entry in the string counting backward from the end of the string. For example, to access the last character of ```string1``` you may use the syntax:\n",
    "\n",
    "```python\n",
    "string1[-1]\n",
    "```\n",
    "For example:"
   ]
  },
  {
   "cell_type": "code",
   "execution_count": null,
   "metadata": {},
   "outputs": [],
   "source": [
    "a = \"Hello back!\"\n",
    "print(a[0])\n",
    "print(a[1])\n",
    "print(a[-1])"
   ]
  },
  {
   "cell_type": "markdown",
   "metadata": {},
   "source": [
    "It's possible to create a string containing multiple characters of another string using the syntax\n",
    "\n",
    "```python\n",
    "string1[start_index:stop_index:step]\n",
    "```\n",
    "Here, the value in the start index ```start_index``` value gives the index of the first character to be included, ```stop_index``` gives the first index not to be included and ```step``` gives the frequency of characters to be included (e.g. a step of 1 means every character, 2 means every other character, etc). For example:"
   ]
  },
  {
   "cell_type": "code",
   "execution_count": null,
   "metadata": {},
   "outputs": [],
   "source": [
    "my_string = \"Hello there!\"\n",
    "print(my_string[3: 11: 2])"
   ]
  },
  {
   "cell_type": "markdown",
   "metadata": {},
   "source": [
    "\n",
    "\n",
    "If the ```start_index``` is ommitted (but the colons remain), the results will run from the start of the list. If the ```stop_index``` is ommitted (but the colons remain), the results will run until the end of the list. If the ```step``` is omitted, a step size of 1 will be assumed. Multiple values may be omitted For instance:"
   ]
  },
  {
   "cell_type": "code",
   "execution_count": null,
   "metadata": {},
   "outputs": [],
   "source": [
    "string1=\"An example\"\n",
    "a=string1[::4]\n",
    "print(a)\n",
    "\n",
    "print(string1[0::2])\n",
    "print(string1[1:2:])"
   ]
  },
  {
   "cell_type": "markdown",
   "metadata": {},
   "source": [
    "You can find the length of a string using the ```len``` function, using the syntax:\n",
    "\n",
    "```python\n",
    "len(string1)\n",
    "```\n",
    "\n",
    "For example:"
   ]
  },
  {
   "cell_type": "code",
   "execution_count": null,
   "metadata": {},
   "outputs": [],
   "source": [
    "print(len(\"snake\"))"
   ]
  },
  {
   "cell_type": "markdown",
   "metadata": {},
   "source": [
    "The ```+``` operator has a special meaning for strings. For strings, it acts as the concatenation operator, meaning it joins two string together into one larger new string. For example: "
   ]
  },
  {
   "cell_type": "code",
   "execution_count": null,
   "metadata": {},
   "outputs": [],
   "source": [
    "string1 = \"I'm the best \"\n",
    "string2 = \"at coding in Python\"\n",
    "joined_string = string1 + string2\n",
    "print(joined_string)"
   ]
  },
  {
   "cell_type": "markdown",
   "metadata": {},
   "source": [
    "There are a number of other very useful string operators and functions in Python, but we won't be examining them in this notebook.\n",
    "\n",
    "##### Exercise\n",
    "\n",
    "For the following example, write down what you think the results will be before running the example. Remember that spaces count as characters."
   ]
  },
  {
   "cell_type": "code",
   "execution_count": null,
   "metadata": {},
   "outputs": [],
   "source": [
    "string1 = \"Python\"\n",
    "string2 = \"is my favourite language\"\n",
    "\n",
    "excerpt1 = string1[-1]\n",
    "print(excerpt1)\n",
    "\n",
    "excerpt2 = string2[1:10:3]\n",
    "print(excerpt2)\n",
    "\n",
    "excerpt3 = string2[1::2]\n",
    "print(excerpt3)"
   ]
  },
  {
   "cell_type": "markdown",
   "metadata": {},
   "source": [
    "Try the following exercises in the cell below:\n",
    "- Define a string of your choice with at least ten characters\n",
    "- Print the first character of the string\n",
    "- Make two new strings\n",
    "    - One from the first three characters\n",
    "    - One from the last three characters\n",
    "- Join these strings together to form a new string\n",
    "- Make another string containing every other character of your original string beginning with the second character"
   ]
  },
  {
   "cell_type": "code",
   "execution_count": null,
   "metadata": {},
   "outputs": [],
   "source": []
  },
  {
   "cell_type": "code",
   "execution_count": null,
   "metadata": {},
   "outputs": [],
   "source": [
    "# Sample Solution\n",
    "\n",
    "#Define the string\n",
    "my_string = \"python is so fun\"\n",
    "\n",
    "#Print the first two characters of the string\n",
    "print(my_string[0:2:1])\n",
    "\n",
    "#Make the two short strings\n",
    "start_string = my_string[0:3:1]\n",
    "end_string = my_string[-3::1]\n",
    "print(start_string)\n",
    "print(end_string)\n",
    "\n",
    "#Make a new string by joining these strings together\n",
    "join_string = start_string + end_string\n",
    "print(join_string)\n",
    "\n",
    "#Create a string contianing alternating characters of the string\n",
    "alternating_string = my_string[1::2]\n",
    "print(alternating_string)"
   ]
  },
  {
   "cell_type": "markdown",
   "metadata": {},
   "source": [
    "##### Extension Exercise\n",
    "What happens if you use a negative ```step``` in the index? What happens if you do this and make your ```start_index``` value higher than your ```stop index``` value?\n",
    "\n",
    "For the variable ```code_string``` in the example below, print every third value, counting backward from the penultimate character. You should get a message."
   ]
  },
  {
   "cell_type": "code",
   "execution_count": null,
   "metadata": {},
   "outputs": [],
   "source": [
    "code_string = \"q!2refrdgho2!c73 h#eg4hfet@f gvdd4e kkfgc1dab,r3fcgh fguthofeYe\""
   ]
  },
  {
   "cell_type": "code",
   "execution_count": null,
   "metadata": {},
   "outputs": [],
   "source": [
    "# Sample Solution\n",
    "\n",
    "#Print the relevant charcters from the string\n",
    "code_string=\"q!2refrdgho2!c73 h#eg4hfet@f gvdd4e kkfgc1dab,r3fcgh fguthofeYe\"\n",
    "print(code_string[-2::-3])"
   ]
  },
  {
   "cell_type": "markdown",
   "metadata": {},
   "source": [
    "#### Lists\n",
    "Lists are another kind of collection that use an integer as their index. Lists are very useful for grouping together related data within a code.\n",
    "\n",
    "A list can be created using the syntax:\n",
    "\n",
    "```python\n",
    "list1 = [item0, item1, item2]\n",
    "```\n",
    "where you may have 0 or more items specified inside the square brackets. Thus, an empty list can be created with:\n",
    "```python\n",
    "list1 = []\n",
    "```\n",
    "\n",
    "Items within the list can be accessed in the same way as characters of a string:"
   ]
  },
  {
   "cell_type": "code",
   "execution_count": null,
   "metadata": {},
   "outputs": [],
   "source": [
    "shopping_list = [\"apples\", \"bananas\", \"bread\", \"mushrooms\"]\n",
    "print(shopping_list[0])\n",
    "print(shopping_list[-1])\n",
    "print(shopping_list[1:4:2])"
   ]
  },
  {
   "cell_type": "markdown",
   "metadata": {},
   "source": [
    "Note that, in this case, returning multiple items from the list for an index causes a list to be returned containing the relevant items. You can also add items to the end of a list using the ```append``` method. Methods are pieces of code which are part of a type which act on the contents of the type. They may be accessed using the syntax:\n",
    "\n",
    "```python\n",
    "variable_name.method_name(argument1, argument2, argument3)\n",
    "```\n",
    "\n",
    "An argument is a variable written in parentheses which tells the method what you want it to do. A method may require 0 or more arguments (depending on the requirements of the method in question).\n",
    "\n",
    "For the ```append``` method of the list class, the syntax is:\n",
    "\n",
    "```python\n",
    "list1.append(item_to_be_appended)\n",
    "```\n",
    "\n",
    "Another way to insert an item into a list is using the ```insert``` method which has two arguments and inserts a value into the list. The first is the index the value is to be inserted in, the next is the value to be inserted. Note that lists may have items of a number of different types. An item in a list can itself be any type of object, including a list. For example:\n"
   ]
  },
  {
   "cell_type": "code",
   "execution_count": null,
   "metadata": {},
   "outputs": [],
   "source": [
    "assorted_data = [\"shoes\", 1]\n",
    "\n",
    "assorted_data.append(False)\n",
    "print(assorted_data)\n",
    "\n",
    "assorted_data.insert(1, 3.14)\n",
    "print(assorted_data)\n",
    "\n",
    "assorted_data.append([1,2])\n",
    "print(assorted_data)\n",
    "\n",
    "print(type(assorted_data))\n",
    "print(type(assorted_data[0]))\n",
    "print(type(assorted_data[1]))\n",
    "print(type(assorted_data[2]))\n",
    "print(type(assorted_data[3]))\n",
    "print(type(assorted_data[4]))"
   ]
  },
  {
   "cell_type": "markdown",
   "metadata": {},
   "source": [
    "It's also possible to change the value of a list by assigning to it. For example:"
   ]
  },
  {
   "cell_type": "code",
   "execution_count": null,
   "metadata": {},
   "outputs": [],
   "source": [
    "my_list = [1,2,34]\n",
    "print(my_list)\n",
    "\n",
    "my_list[1] = 4\n",
    "print(my_list)"
   ]
  },
  {
   "cell_type": "markdown",
   "metadata": {},
   "source": [
    "##### Exercise\n",
    "\n",
    "In the cell below:\n",
    "- Create a list named ```cuddly_animals``` with the names of at least two cuddly animals as items\n",
    "- Append the name of another cuddly animal to the end of the list\n",
    "- Insert the name of yet another cuddly animal so it is the first entry in this list\n",
    "- What happens if you use the ```+``` operator between the lists ```shopping_list``` and ```cuddly_animals```?\n",
    "- What happens if you try to print the value of an item of a list using an index greater than the number of items in the list?\n",
    "- What happens if you try to set the value of an item of a list using an index greater than the number of items in the list?"
   ]
  },
  {
   "cell_type": "code",
   "execution_count": null,
   "metadata": {},
   "outputs": [],
   "source": []
  },
  {
   "cell_type": "code",
   "execution_count": null,
   "metadata": {},
   "outputs": [],
   "source": [
    "# Sample Solution\n",
    "\n",
    "#Create the initial list of cuddly animals\n",
    "cuddly_animals = [\"rabbit\", \"hamster\"]\n",
    "print(cuddly_animals)\n",
    "\n",
    "#Append another cuddly animal\n",
    "cuddly_animals.append(\"rat\")\n",
    "print(cuddly_animals)\n",
    "\n",
    "#Insert another cuddly animal to the start of the list\n",
    "cuddly_animals.insert(0, \"chinchilla\")\n",
    "print(cuddly_animals)\n",
    "\n",
    "#Join the cuddly animals and shopping lists\n",
    "joined_list = cuddly_animals + shopping_list\n",
    "print(joined_list)\n",
    "\n",
    "#Either of the following two lines will produce an error. Comment out each line to see the error produced by the other\n",
    "print(cuddly_animals[99])\n",
    "#cuddly_animals[99]=\"alligators\""
   ]
  },
  {
   "cell_type": "markdown",
   "metadata": {},
   "source": [
    "#### Extension: Dictionaries\n",
    "Dictionaries are similar to lists, except that they use a \"key\" instead of an \"index\". This key does not need to be an integer, as with a list. Instead, it may be any \"hashable\" value. We won't go into the details of what this means here, but this includes strings, integers, reals and bools. The syntax for creating a dictionary is:\n",
    "\n",
    "```python\n",
    "dict1 = {key1:item1, key2:item2, key3:item3}\n",
    "```\n",
    "\n",
    "where you may have 0 or more key-item pairs specified in the curly brackets. You may access an item within a dictionary using the syntax:\n",
    "\n",
    "```python\n",
    "dict1[key]\n",
    "```\n",
    "\n",
    "You can also set an item in the dictionary (including using a new key) using the syntax:\n",
    "\n",
    "```python\n",
    "dict1[key] = item\n",
    "```\n",
    "\n",
    "In the below example, we're going to create a dictionary which contains the atomic numbers of the frst few elements of the periodic table, using their symbols as keys."
   ]
  },
  {
   "cell_type": "code",
   "execution_count": null,
   "metadata": {},
   "outputs": [],
   "source": [
    "atomic_numbers = {\"H\":1, \"He\":2, \"Li\":3}\n",
    "\n",
    "print(atomic_numbers)\n",
    "print(atomic_numbers[\"He\"])\n",
    "print(atomic_numbers[\"H\"])\n",
    "\n",
    "atomic_numbers[\"Be\"] = 4\n",
    "\n",
    "print(atomic_numbers)"
   ]
  },
  {
   "cell_type": "markdown",
   "metadata": {},
   "source": [
    "You can return the keys used in a dictionary using the ```keys``` method of the dictionary. They are not returned as a list, but may be easily converted into a list:"
   ]
  },
  {
   "cell_type": "markdown",
   "metadata": {},
   "source": []
  },
  {
   "cell_type": "code",
   "execution_count": null,
   "metadata": {},
   "outputs": [],
   "source": [
    "dict1 = {1: \"integer_keyed_item\", \"a\": \"string_keyed_item\", False:\"boolean_keyed_item\", 3.14:\"Pi\"}\n",
    "print(dict1.keys())\n",
    "print(list(dict1.keys()))"
   ]
  },
  {
   "cell_type": "markdown",
   "metadata": {},
   "source": [
    "##### Extension Exercise\n",
    "In the cell below, create a dictionary of your own call ```contacts```. It should have two entries, each having the key of a person's name. The entries themselves should also be dictionaries and have keys ```phone_number```, ```address``` and ```email``` with appropriate values."
   ]
  },
  {
   "cell_type": "code",
   "execution_count": null,
   "metadata": {},
   "outputs": [],
   "source": []
  },
  {
   "cell_type": "code",
   "execution_count": null,
   "metadata": {},
   "outputs": [],
   "source": [
    "#@title\n",
    "\n",
    "#Make individual contacts\n",
    "contact1 = {\"phone_number\":\"07752831498\", \"address\":\"11 Made Up Street, London, SW7 2AZ\", \"email\":\"xXcute_email_addressXx@hotgmail.com\"}\n",
    "contact2 = {\"phone_number\":\"999\", \"address\":\"999 Letsby Avenue, Police Town\", \"email\":\"a_policeman@police.gov.uk\"}\n",
    "\n",
    "#Create the dictionary of contacts\n",
    "contacts = {\"Ian Cognito\": contact1, \"Andrew Policeman\":contact2}\n",
    "print(contacts)"
   ]
  },
  {
   "cell_type": "markdown",
   "metadata": {},
   "source": [
    "## Extension: Immutable and Mutable Types\n",
    "\n",
    "We've now discussed a number of different types of variables. In Python, every variable will always reference an object, which is a specific instance of a type. For example, a variable which has the value ```3``` actually references an object of the ```int``` type which has the value of 3.\n",
    "\n",
    "One useful subdivision within objects is the distinction between mutable and immutable objects. A string is an example of an immutable object and a list is an example of an mutable object. Mutable objects may have their value or part of their value changed, but immutable objects may not. However, the following code is valid:"
   ]
  },
  {
   "cell_type": "code",
   "execution_count": null,
   "metadata": {},
   "outputs": [],
   "source": [
    "string1 = \"bananas\"\n",
    "print(string1)\n",
    "string1 = \"oranges\"\n",
    "print(string1)"
   ]
  },
  {
   "cell_type": "markdown",
   "metadata": {},
   "source": [
    "We saw that the value of the variable ```string1``` changed in the second assignment, but we just said that a string was immutable and so couldn't have its value changed. So what's going on?\n",
    "\n",
    "In the first assignment, we create a variable named ```string1``` and a string object for it to reference with the value \"bananas\". This object will exist in a location of the memory of your machine. This string object cannot then be altered. In the second assignment, we create an entirely new string object and reference it with the variable name ```string1```, discarding the old one. To demonstrate this, we can use the functions ``id()`` which returns the memory address of the object passed as an argument and the ```hex()``` function which turns the number into a hexidecimal format (this is a common form for memory addresses).\n"
   ]
  },
  {
   "cell_type": "code",
   "execution_count": null,
   "metadata": {},
   "outputs": [],
   "source": [
    "string1 = \"bananas\"\n",
    "print(hex(id(string1)))\n",
    "string1 = \"oranges\"\n",
    "print(hex(id(string1)))"
   ]
  },
  {
   "cell_type": "markdown",
   "metadata": {},
   "source": [
    "We see that the memory address of the object referenced by the variable named ```string1``` changes after the second assignment - the variable is referencing an entirely new object.\n",
    "\n",
    "The immutability of strings is the reason why they lack methods such as ```.insert()``` or ```.append()``` that a list has.\n",
    "\n",
    "When we try something similar with a list, the following happens:"
   ]
  },
  {
   "cell_type": "code",
   "execution_count": null,
   "metadata": {},
   "outputs": [],
   "source": [
    "list1 = [\"turnips\"]\n",
    "print(list1)\n",
    "print(hex(id(list1)))\n",
    "\n",
    "list1.append(\"swede\")\n",
    "print(list1)\n",
    "print(hex(id(list1)))\n",
    "\n",
    "list1 = [\"avocado\"]\n",
    "print(list1)\n",
    "print(hex(id(list1)))"
   ]
  },
  {
   "cell_type": "markdown",
   "metadata": {},
   "source": [
    "We see that appending a new value to the list does not change its address - we are modifying the same object in place in the memory. However, assigning a new list to the variable named ```list1``` still creates a new ```list``` object at a new location in the memory.\n",
    "\n",
    "But what happens to the first ```list``` object we created? The answer is that Python employs a software tool named \"garbage collection\". Python will periodically check through the stored objects in the memory. If an object is not referred to by a variable that exists in the program then there is no way to access this object, but it's taking up memory. As a result, Python will delete this object from the memory, freeing up the space to be used for something else.\n",
    "\n",
    "Most of this happens automatically and you won't need to think about it. But you do need to think about the relationship between variables and the objects they relate to and mutability is important in this discussion. First, consider the following, which occurs for a string (which is immutable):"
   ]
  },
  {
   "cell_type": "code",
   "execution_count": null,
   "metadata": {},
   "outputs": [],
   "source": [
    "string1 = \"bananas\"\n",
    "print(string1)\n",
    "print(hex(id(string1)))\n",
    "\n",
    "string2 = string1\n",
    "print(string1)\n",
    "print(string2)\n",
    "print(hex(id(string1)))\n",
    "print(hex(id(string2)))\n",
    "\n",
    "string1 = \"apples\"\n",
    "print(string1)\n",
    "print(string2)\n",
    "print(hex(id(string1)))\n",
    "print(hex(id(string2)))"
   ]
  },
  {
   "cell_type": "markdown",
   "metadata": {},
   "source": [
    "When we create the variable ```string2``` and assigned ```string1``` to it, we didn't create a new object in memory with the same value as ```string1```, we actually created a variable which references the **same** object as ```string1```. Then, when we create a new string reference it with ```string1```, ```string2``` still references the same object.\n",
    "\n",
    "Now, we will try to do something similar for a list (which is mutable):"
   ]
  },
  {
   "cell_type": "code",
   "execution_count": null,
   "metadata": {},
   "outputs": [],
   "source": [
    "list1 = [\"bananas\"]\n",
    "print(list1)\n",
    "print(hex(id(list1)))\n",
    "\n",
    "list2 = list1\n",
    "print(list1)\n",
    "print(list2)\n",
    "print(hex(id(list1)))\n",
    "print(hex(id(list2)))\n",
    "\n",
    "list2.append(\"oranges\")\n",
    "print(list1)\n",
    "print(list2)\n",
    "print(hex(id(list1)))\n",
    "print(hex(id(list2)))\n",
    "\n",
    "list2[0] = \"mangoes\"\n",
    "print(list1)\n",
    "print(list2)\n",
    "print(hex(id(list1)))\n",
    "print(hex(id(list2)))\n",
    "\n",
    "list1 = [\"apples\"]\n",
    "print(list1)\n",
    "print(list2)\n",
    "print(hex(id(list1)))\n",
    "print(hex(id(list2)))"
   ]
  },
  {
   "cell_type": "markdown",
   "metadata": {},
   "source": [
    "The behaviour of which variable points to which object remains the same. However, because lists are mutable, we're able to change some properties of the object midway through. When we append \"oranges\" to the list by accessing the ```.append()``` method of ```list2``` or assign a new value to the zeroth entry of the list, we actually change the object that both ```list1``` and ```list2``` reference in-place (i.e. without changing the relationships between the variable names and the underlying object).\n",
    "\n",
    "This is an important concept to grasp as you may have multiple different variables all referencing the same object and, if the object is mutable, changing it by referencing one of these variables will change the underlying object that is referenced by all of these variables.\n",
    "\n",
    "### Extension Exercise\n",
    "In the code cell below, experiment with assignment and changing the values of:\n",
    "\n",
    "* A float\n",
    "* An int\n",
    "* A complex number (if you did the relevant extension exercise above)\n",
    "* A dictionary\n",
    "\n",
    "Use the ```hex(id())``` functions to examine the memory addresses of each variable. Experiment with different operators and assignments on variables with these types to see which will create a new object and which won't. Can you work out (or make an educated guess) which of these types of mutable and immutable? What happens when you independently assign the same value to two separate ```int``` objects (i.e. don't assign either ```int``` to the other)? Can you think why might Python do this?"
   ]
  },
  {
   "cell_type": "code",
   "execution_count": null,
   "metadata": {},
   "outputs": [],
   "source": []
  },
  {
   "cell_type": "code",
   "execution_count": null,
   "metadata": {},
   "outputs": [],
   "source": [
    "# Sample Solution\n",
    "\n",
    "#Define the variables\n",
    "float1 = 1.2\n",
    "int1 = 2\n",
    "complex1 = complex(1,1.2)\n",
    "dict1 = {\"key1\":\"value1\"}\n",
    "\n",
    "#Floats are immutable, so all we can do is reassign to the float, which changes the id:\n",
    "print(\"Float\")\n",
    "print(hex(id(float1)))\n",
    "float1 = float1 + 1.0\n",
    "print(hex(id(float1)))\n",
    "\n",
    "#Ints are immutable, so all we can do is reassign to the float, which changes the id:\n",
    "print(\"Int\")\n",
    "print(hex(id(int1)))\n",
    "int1 = int1 + 1\n",
    "print(hex(id(int1)))\n",
    "\n",
    "#Complex numbers are immutable, so all we can do is reassign to the complex number, which changes the id:\n",
    "print(\"Complex number\")\n",
    "print(hex(id(complex1)))\n",
    "complex1 = complex1 + 1.0\n",
    "print(hex(id(complex1)))\n",
    "\n",
    "#Dictionaries are mutable, so we can change values in the dictionary without changing its id:\n",
    "print(\"Dictionary\")\n",
    "print(hex(id(dict1)))\n",
    "dict1[\"key2\"] = \"value2\"\n",
    "print(hex(id(dict1)))\n",
    "dict1[\"key1\"] = \"updated_value\"\n",
    "print(hex(id(dict1)))\n",
    "#However, assigning a new variable to the dictionary creates a new object with a new id:\n",
    "dict1 = {\"new_key\":\"new_value\"}\n",
    "print(hex(id(dict1)))"
   ]
  }
 ],
 "metadata": {
  "language_info": {
   "name": "python"
  },
  "orig_nbformat": 4
 },
 "nbformat": 4,
 "nbformat_minor": 2
}
