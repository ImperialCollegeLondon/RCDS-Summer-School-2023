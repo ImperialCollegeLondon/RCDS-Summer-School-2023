{
 "cells": [
  {
   "cell_type": "markdown",
   "metadata": {},
   "source": [
    "# Collections\n",
    "Many types in Python are \"collections\". Collections can be used to hold and operate on multiple objects at once. An example of a simple example would be an list of integers.\n",
    "\n",
    "Inside Python, this means an instance of a collection actually contains \"references\" to a number of other objects that hold individual \"items\".\n",
    "\n",
    "Items in collections can be \"read through\" in order (this will be covered in the \"Loops\" notebook).Alternatively, one can access individual items accessed using the syntax:\n",
    "\n",
    "```python\n",
    "collections_name[item_identifier]\n",
    "```\n",
    "\n",
    "The exact nature of the item identifier varies between collections.\n",
    "\n",
    "We'll now look at the two most common collections - strings and lists. There's also a collection called dictionaries."
   ]
  },
  {
   "cell_type": "markdown",
   "metadata": {},
   "source": [
    "## Strings\n",
    "A String is used to store text - it is a collection of individual characters (for exaple, single letter or number). Strings are defined by placing the string of characters in between a pair of double or single quotation marks. For instance:"
   ]
  },
  {
   "cell_type": "code",
   "execution_count": null,
   "metadata": {},
   "outputs": [],
   "source": [
    "a = \"Hello world!\"\n",
    "print(a)\n",
    "print(type(a))"
   ]
  },
  {
   "cell_type": "markdown",
   "metadata": {},
   "source": [
    "### Accessing elements of a string\n",
    "\n",
    "The ```n```th character of a string named ```string1``` may be returned (as a string with a single character) using the syntax:\n",
    "\n",
    "```python\n",
    "string1[n]\n",
    "```\n",
    "\n",
    "The index inside the square brackets is an integer. Note that, in Python the index of the first character is 0 and not 1. This is true for many programming languages but some start index numbering at 1.\n",
    "\n",
    "If this index-numbering system seems counter-inituitive to you, you're not alone. The good news is that it becomes natural after working with Python for a while. It may also help to think about the index as an \"offset\" from the start of the collection.\n",
    "\n",
    "In Python, it is also possible to use a negative index. This returns an entry in the string counting backward from the end of the string. For example, to access the last character of ```string1``` you may use the syntax:\n",
    "\n",
    "```python\n",
    "string1[-1]\n",
    "```\n",
    "For example:"
   ]
  },
  {
   "cell_type": "code",
   "execution_count": null,
   "metadata": {},
   "outputs": [],
   "source": [
    "a = \"Hello back!\"\n",
    "print(a[0])\n",
    "print(a[1])\n",
    "print(a[-1])"
   ]
  },
  {
   "cell_type": "markdown",
   "metadata": {},
   "source": [
    "### String slicing\n",
    "\n",
    "It's possible to use indices to create a string containing multiple characters of another string using the following syntax:\n",
    "\n",
    "```python\n",
    "string1[start_index:stop_index:step]\n",
    "```\n",
    "Here, the value in the start index ```start_index``` value gives the index of the first character to be included, ```stop_index``` gives the first index not to be included and ```step``` gives the frequency of characters to be included (e.g. a step of 1 means every character, 2 means every other character, etc). For example:"
   ]
  },
  {
   "cell_type": "code",
   "execution_count": null,
   "metadata": {},
   "outputs": [],
   "source": [
    "my_string = \"Hello there!\"\n",
    "print(my_string[3: 11: 2])"
   ]
  },
  {
   "cell_type": "markdown",
   "metadata": {},
   "source": [
    "\n",
    "\n",
    "If the ```start_index``` is ommitted (but the colons remain), the results will run from the start of the list. If the ```stop_index``` is ommitted (but the colons remain), the results will run until the end of the list. If the ```step``` is omitted, a step size of 1 will be assumed. Multiple values may be omitted For instance:"
   ]
  },
  {
   "cell_type": "code",
   "execution_count": null,
   "metadata": {},
   "outputs": [],
   "source": [
    "string1=\"An example\"\n",
    "a=string1[::4]\n",
    "print(a)\n",
    "\n",
    "print(string1[0::2])\n",
    "print(string1[1:2:])\n",
    "print(string1[::])"
   ]
  },
  {
   "cell_type": "markdown",
   "metadata": {},
   "source": [
    "### String length\n",
    "\n",
    "You can find the length of a string using the ```len``` function, using the syntax:\n",
    "\n",
    "```python\n",
    "len(string1)\n",
    "```\n",
    "\n",
    "For example:"
   ]
  },
  {
   "cell_type": "code",
   "execution_count": null,
   "metadata": {},
   "outputs": [],
   "source": [
    "print(len(\"snake\"))"
   ]
  },
  {
   "cell_type": "markdown",
   "metadata": {},
   "source": [
    "### String operators\n",
    "\n",
    "The ```+``` operator has a special meaning for strings. For strings, it acts as the concatenation operator, meaning it joins two string together into one larger new string. \n",
    "\n",
    "The ```*``` operator concatenates a string together multiple times. For example \n",
    "\n",
    "```python\n",
    "string1 + string1\n",
    "```\n",
    "is the same as\n",
    "\n",
    "```python\n",
    "string1 * 2\n",
    "```"
   ]
  },
  {
   "cell_type": "code",
   "execution_count": null,
   "metadata": {},
   "outputs": [],
   "source": [
    "string1 = \"I'm the best \"\n",
    "string2 = \"at coding in Python\"\n",
    "joined_string = string1 + string2\n",
    "print(joined_string)\n",
    "\n",
    "string3 = \"Definitely! \"\n",
    "print(string3 * 3)"
   ]
  },
  {
   "cell_type": "markdown",
   "metadata": {},
   "source": [
    "There are a number of other very useful string operators and functions in Python, but we won't be examining them in this notebook."
   ]
  },
  {
   "cell_type": "markdown",
   "metadata": {},
   "source": [
    "### Exercise 4.1\n",
    "\n",
    "For the following example, write down what you think the results will be before running the example. Remember that spaces count as characters."
   ]
  },
  {
   "cell_type": "code",
   "execution_count": null,
   "metadata": {},
   "outputs": [],
   "source": [
    "string1 = \"Python\"\n",
    "string2 = \"is my favourite language\"\n",
    "\n",
    "excerpt1 = string1[-1]\n",
    "print(excerpt1)\n",
    "\n",
    "excerpt2 = string2[1:10:3]\n",
    "print(excerpt2)\n",
    "\n",
    "excerpt3 = string2[1::2]\n",
    "print(excerpt3)"
   ]
  },
  {
   "cell_type": "markdown",
   "metadata": {},
   "source": [
    "### Exercise 4.2\n",
    "\n",
    "Try the following exercises in the cell below:\n",
    "- Define a string of your choice with at least ten characters\n",
    "- Print the first character of the string\n",
    "- Make two new strings\n",
    "    - One from the first three characters\n",
    "    - One from the last three characters\n",
    "- Join these strings together to form a new string\n",
    "- Make another string containing every other character of your original string beginning with the second character"
   ]
  },
  {
   "cell_type": "code",
   "execution_count": null,
   "metadata": {},
   "outputs": [],
   "source": [
    "# type your code here"
   ]
  },
  {
   "cell_type": "markdown",
   "metadata": {},
   "source": [
    "### Exercise 4.3\n",
    "What happens if you use a negative ```step``` in the index? What happens if you do this and make your ```start_index``` value higher than your ```stop index``` value?\n",
    "\n",
    "For the variable ```code_string``` in the example below, print every third value, counting backward from the penultimate character. You should get a message."
   ]
  },
  {
   "cell_type": "code",
   "execution_count": null,
   "metadata": {},
   "outputs": [],
   "source": [
    "# add your code here \n",
    "code_string = \"q!2refrdgho2!c73 h#eg4hfet@f gvdd4e kkfgc1dab,r3fcgh fguthofeYe\""
   ]
  },
  {
   "cell_type": "markdown",
   "metadata": {},
   "source": [
    "## Lists\n",
    "Lists are another kind of collection that use an integer as their index. Lists are very useful for grouping together related data within a code.\n",
    "\n",
    "A list can be created using the syntax:\n",
    "\n",
    "```python\n",
    "list1 = [item0, item1, item2]\n",
    "```\n",
    "where you may have 0 or more items specified inside the square brackets (think of the square brackets as putting items in a \"box\"). An empty list can be created with:\n",
    "```python\n",
    "list1 = []\n",
    "```\n",
    "\n",
    "Items within the list can be accessed in the same way as characters of a string:"
   ]
  },
  {
   "cell_type": "code",
   "execution_count": null,
   "metadata": {},
   "outputs": [],
   "source": [
    "shopping_list = [\"apples\", \"bananas\", \"bread\", \"mushrooms\"]\n",
    "print(shopping_list[0])\n",
    "print(shopping_list[-1])\n",
    "print(shopping_list[1:4:2])"
   ]
  },
  {
   "cell_type": "markdown",
   "metadata": {},
   "source": [
    "Note that, in this case, returning multiple items from the list for an index causes a list to be returned containing the relevant items. "
   ]
  },
  {
   "cell_type": "markdown",
   "metadata": {},
   "source": [
    "### List methods\n",
    "\n",
    "You can also add items to the end of a list using the ```append``` method. Methods are pieces of code that are part of a type class, which act on the contents of the type. They may be accessed using the syntax:\n",
    "\n",
    "```python\n",
    "variable_name.method_name(argument1)\n",
    "```\n",
    "\n",
    "An argument is a variable written in parentheses which tells the method what you want it to do. A method may require 0 or more arguments (depending on the requirements of the method in question).\n",
    "\n",
    "For the ```append``` method of the list class, the syntax is:\n",
    "\n",
    "```python\n",
    "list1.append(item_to_be_appended)\n",
    "```\n",
    "\n",
    "Another way to insert an item into a list is using the ```insert``` method which has two arguments and inserts a value into the list. The first is the index the value is to be inserted in, the next is the value to be inserted. Note that lists may have items of a number of different types. An item in a list can itself be any type of object, including a list. For example:\n"
   ]
  },
  {
   "cell_type": "code",
   "execution_count": null,
   "metadata": {},
   "outputs": [],
   "source": [
    "assorted_data = [\"shoes\", 1]\n",
    "\n",
    "assorted_data.append(False)\n",
    "print(assorted_data)\n",
    "\n",
    "assorted_data.insert(1, 3.14)\n",
    "print(assorted_data)\n",
    "\n",
    "assorted_data.append([1,2])\n",
    "print(assorted_data)\n",
    "\n",
    "print(type(assorted_data))\n",
    "print(type(assorted_data[0]))\n",
    "print(type(assorted_data[1]))\n",
    "print(type(assorted_data[2]))\n",
    "print(type(assorted_data[3]))\n",
    "print(type(assorted_data[4]))"
   ]
  },
  {
   "cell_type": "markdown",
   "metadata": {},
   "source": [
    "### Changing items inside a list\n",
    "\n",
    "It's possible to change the value of a list by assigning a new value to it. For example:"
   ]
  },
  {
   "cell_type": "code",
   "execution_count": null,
   "metadata": {},
   "outputs": [],
   "source": [
    "my_list = [1,2,34]\n",
    "print(my_list)\n",
    "\n",
    "my_list[1] = 4\n",
    "print(my_list)"
   ]
  },
  {
   "cell_type": "markdown",
   "metadata": {},
   "source": [
    "### Exercise 4.4\n",
    "\n",
    "In the cell below:\n",
    "- Create a list named ```cuddly_animals``` with the names of at least two cuddly animals as items\n",
    "- Append the name of another cuddly animal to the end of the list\n",
    "- Insert the name of yet another cuddly animal so it is the first entry in this list\n",
    "- What happens if you use the ```+``` operator between the lists ```shopping_list``` and ```cuddly_animals```?\n",
    "- What happens if you try to print the value of an item of a list using an index greater than the number of items in the list?\n",
    "- What happens if you try to set the value of an item of a list using an index greater than the number of items in the list?"
   ]
  },
  {
   "cell_type": "code",
   "execution_count": null,
   "metadata": {},
   "outputs": [],
   "source": [
    "# type your code here"
   ]
  },
  {
   "cell_type": "markdown",
   "metadata": {},
   "source": [
    "## Immutable and Mutable Types\n",
    "\n",
    "We've now discussed a number of different types of variables. In Python, every variable will always reference an object, which is a specific instance of a type. For example, a variable which has the value ```3``` actually references an object of the ```int``` type which has the value of 3.\n",
    "\n",
    "One useful subdivision within objects is the distinction between mutable and immutable objects. "
   ]
  },
  {
   "cell_type": "markdown",
   "metadata": {},
   "source": [
    "### Immutable strings\n",
    "\n",
    "A string is an example of an immutable object and a list is an example of an mutable object. Mutable objects may have their value or part of their value changed, but immutable objects may not. However, the following code is valid:"
   ]
  },
  {
   "cell_type": "code",
   "execution_count": null,
   "metadata": {},
   "outputs": [],
   "source": [
    "string1 = \"bananas\"\n",
    "print(string1)\n",
    "string1 = \"oranges\"\n",
    "print(string1)"
   ]
  },
  {
   "cell_type": "markdown",
   "metadata": {},
   "source": [
    "We saw that the value of the variable ```string1``` changed in the second assignment, but we just said that a string was immutable and so couldn't have its value changed. So what's going on?\n",
    "\n",
    "### Objects are stored in computer memory\n",
    "\n",
    "To consider the \"bananas\" and \"oranges\" conundrum, we have to talk about computer memory or RAM (random access memory). This is a fast (usually not so large) temporary storage that is closed to the computers central processing unit. When your program is being executed, your data (in form of objects) are read in RAM. To organise all objects, every position in RAM has an address associated with it. So, variable names are essentially attached to different memory addresses.\n",
    "\n",
    "In the first assignment in the code cell above, we create a variable named ```string1``` that is attached to an object \"bananas\". This object will exist in a location of the memory of your machine. This string object cannot be altered - it is immutable. In the second assignment, we create an entirely new string object and reference it with the variable name ```string1```, discarding the old one.\n",
    "\n",
    "We can use the functions ``id()`` which returns the memory address of the object. We also use ```hex()``` function that turns this value into a hexidecimal format - a commonly accepted form for memory addresses.\n",
    "\n",
    "When we say immutable, it means that the original memory location where \"bananas\" were stored cannot be modified."
   ]
  },
  {
   "cell_type": "code",
   "execution_count": null,
   "metadata": {},
   "outputs": [],
   "source": [
    "string1 = \"bananas\"\n",
    "print(hex(id(string1)))\n",
    "string1 = \"oranges\"\n",
    "print(hex(id(string1)))"
   ]
  },
  {
   "cell_type": "markdown",
   "metadata": {},
   "source": [
    "We see that the memory address of the object referenced by the variable named ```string1``` changes after the second assignment - the variable is referencing an entirely new object. It Python's way of dealing with immmutable data types.\n",
    "\n",
    "The immutability of strings is the reason why they lack methods such as ```.insert()``` or ```.append()``` that a list has.\n",
    "\n"
   ]
  },
  {
   "cell_type": "markdown",
   "metadata": {},
   "source": [
    "### Mutable lists\n",
    "\n",
    "When we try something similar with a list, the following happens:"
   ]
  },
  {
   "cell_type": "code",
   "execution_count": null,
   "metadata": {},
   "outputs": [],
   "source": [
    "# create a list\n",
    "list1 = [\"turnips\"]\n",
    "print(list1)\n",
    "print(hex(id(list1)))\n",
    "\n",
    "# append to a list\n",
    "list1.append(\"swede\")\n",
    "print(list1)\n",
    "print(hex(id(list1)))\n",
    "\n",
    "# assign a new list to the same variable\n",
    "list1 = [\"avocado\"]\n",
    "print(list1)\n",
    "print(hex(id(list1)))"
   ]
  },
  {
   "cell_type": "markdown",
   "metadata": {},
   "source": [
    "We see that appending a new value to the list does not change its address - we are modifying the same object in place in the memory. However, assigning a new list to the variable named ```list1``` still creates a new ```list``` object at a new location in the memory.\n",
    "\n",
    "But what happens to the first ```list``` object we created? The answer is that Python employs a software tool named \"garbage collection\". Python will periodically check through the stored objects in the memory. If an object is not referred to by a variable that exists in the program then there is no way to access this object, but it's taking up memory. As a result, Python will delete this object from the memory, freeing up the space to be used for something else.\n",
    "\n",
    "Most of this happens automatically and you won't need to think about it. But you do need to think about the relationship between variables and the objects they relate to and mutability is important in this discussion. First, consider the following, which occurs for a string (which is immutable):"
   ]
  },
  {
   "cell_type": "code",
   "execution_count": null,
   "metadata": {},
   "outputs": [],
   "source": [
    "# instantiate a varible that references a string\n",
    "string1 = \"bananas\"\n",
    "print(string1)\n",
    "print(hex(id(string1)))\n",
    "print(\"\")\n",
    "\n",
    "# make a new variable that references the same string\n",
    "string2 = string1\n",
    "print(string1)\n",
    "print(string2)\n",
    "print(hex(id(string1)))\n",
    "print(hex(id(string2)))\n",
    "print(\"\")\n",
    "\n",
    "# change the value of the first variable\n",
    "string1 = \"apples\"\n",
    "print(string1)\n",
    "print(string2)\n",
    "print(hex(id(string1)))\n",
    "print(hex(id(string2)))\n",
    "print(\"\")"
   ]
  },
  {
   "cell_type": "markdown",
   "metadata": {},
   "source": [
    "When we create the variable ```string2``` and assigned ```string1``` to it, we didn't create a new object in memory with the same value as ```string1```, we actually created a variable which references the **same** object as ```string1```. Then, when we create a new string reference it with ```string1```. While ```string1``` references a new object, ```string2``` still references the old object.\n",
    "\n",
    "Now, we will try to do something similar for a list (which is mutable):"
   ]
  },
  {
   "cell_type": "code",
   "execution_count": null,
   "metadata": {},
   "outputs": [],
   "source": [
    "# create a list\n",
    "list1 = [\"bananas\"]\n",
    "print(list1)\n",
    "print(hex(id(list1)))\n",
    "print(\"\")\n",
    "\n",
    "# make a second variable that references the same list\n",
    "list2 = list1\n",
    "print(list1)\n",
    "print(list2)\n",
    "print(hex(id(list1)))\n",
    "print(hex(id(list2)))\n",
    "print(\"\")\n",
    "\n",
    "# append to the list using the second variable name\n",
    "list2.append(\"oranges\")\n",
    "print(list1)\n",
    "print(list2)\n",
    "print(hex(id(list1)))\n",
    "print(hex(id(list2)))\n",
    "print(\"\")\n",
    "\n",
    "# change the value of an item in the list using the second variable name\n",
    "list2[0] = \"mangoes\"\n",
    "print(list1)\n",
    "print(list2)\n",
    "print(hex(id(list1)))\n",
    "print(hex(id(list2)))\n",
    "print(\"\")\n",
    "\n",
    "# assign a new list to the first variable\n",
    "list1 = [\"apples\"]\n",
    "print(list1)\n",
    "print(list2)\n",
    "print(hex(id(list1)))\n",
    "print(hex(id(list2)))"
   ]
  },
  {
   "cell_type": "markdown",
   "metadata": {},
   "source": [
    "The behaviour of which variable points to which object remains the same. However, because lists are mutable, we're able to change some properties of the object midway through. When we append \"oranges\" to the list by accessing the ```.append()``` method of ```list2``` or assign a new value to the zeroth entry of the list, we actually change the object that both ```list1``` and ```list2``` reference in-place (i.e. without changing the relationships between the variable names and the underlying object).\n",
    "\n",
    "This is an important concept to grasp as you may have multiple different variables all referencing the same object and, if the object is mutable, changing it by referencing one of these variables will change the underlying object that is referenced by all of these variables.\n",
    "\n"
   ]
  },
  {
   "cell_type": "markdown",
   "metadata": {},
   "source": [
    "### Extension Exercise 4.5\n",
    "In the code cell below, experiment with assignment and changing the values of:\n",
    "\n",
    "* A float\n",
    "* An int\n",
    "* A complex number (if you did the relevant extension exercise above)\n",
    "\n",
    "Use the ```hex(id())``` functions to examine the memory addresses of each variable. Experiment with different operators and assignments on variables with these types to see which will create a new object and which won't. Can you work out (or make an educated guess) which of these types of mutable and immutable? What happens when you independently assign the same value to two separate ```int``` objects (i.e. don't assign either ```int``` to the other)? Can you think why might Python do this?"
   ]
  },
  {
   "cell_type": "code",
   "execution_count": null,
   "metadata": {},
   "outputs": [],
   "source": [
    "# type your code here"
   ]
  },
  {
   "cell_type": "markdown",
   "metadata": {},
   "source": [
    "### Why is this important?\n",
    "\n",
    "Thinking about your program in terms of memory locations is a good practice that will develop with your experience. \n",
    "\n",
    "For example, some programming languages do not have \"garbage collection\" and you have to make sure that you don't leave any objects that cannot be accessed lying around in your RAM. \n",
    "\n",
    "Keeping memory lean and changing objects in-place is often leveraged when optimising code (making it as efficient and fast as possible). Optimisation is an important part of tackling large problems involving long computations and big data.\n"
   ]
  }
 ],
 "metadata": {
  "kernelspec": {
   "display_name": "Python 3",
   "language": "python",
   "name": "python3"
  },
  "language_info": {
   "codemirror_mode": {
    "name": "ipython",
    "version": 3
   },
   "file_extension": ".py",
   "mimetype": "text/x-python",
   "name": "python",
   "nbconvert_exporter": "python",
   "pygments_lexer": "ipython3",
   "version": "3.7.3"
  },
  "orig_nbformat": 4
 },
 "nbformat": 4,
 "nbformat_minor": 2
}
