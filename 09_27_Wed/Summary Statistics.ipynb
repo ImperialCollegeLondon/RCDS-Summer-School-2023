{
 "cells": [
  {
   "cell_type": "markdown",
   "metadata": {},
   "source": [
    "# Summary Statistics\n",
    "\n",
    "In this section, we will revise some of the basic statistics used to summarise data.\n",
    "\n",
    "Here is a sample of (discrete) data:"
   ]
  },
  {
   "cell_type": "code",
   "execution_count": null,
   "metadata": {},
   "outputs": [],
   "source": [
    "import numpy as np\n",
    "data = [0. , 1.5, 2. , 1. , 2. , 0.5, 1.5, 1. , 1.5, 1. , 1. , 1. , 3. ,\n",
    "       2. , 1.5, 1. , 1.5, 1. , 0. , 1.5, 2. , 4. , 1.5, 2. , 0. , 2.5,\n",
    "       1. , 2. , 1.5, 0.5, 2. , 1.5, 2.5, 1.5, 2.5, 1.5, 1.5, 3. , 0.5,\n",
    "       2. , 1.5, 1. , 1. , 1.5, 1. , 3.5, 1. , 0.5, 2. , 1. , 1. , 1. ,\n",
    "       1.5, 1.5, 2. , 0. , 3. , 2. , 1. , 1. , 0.5, 1. , 1. , 1.5, 1.5,\n",
    "       1.5, 2.5, 1.5, 1.5, 2. , 1. , 1. , 2. , 1. , 1. , 1. , 0.5, 1.5,\n",
    "       1.5, 2. , 0. , 0.5, 1. , 2. , 2. , 1. , 2. , 1.5, 1. , 3.5, 0.5,\n",
    "       1. , 1.5, 1.5, 2. , 0.5, 1. , 2. , 0. , 3. , 0.5, 1.5, 1.5, 2. ,\n",
    "       2. , 0.5, 3. , 3.5, 2. , 3.5, 1.5, 1.5, 1. , 2. , 0. , 1. , 2. ,\n",
    "       1. , 1. , 0.5, 0.5, 2. , 3. , 3. , 1.5, 1. , 2. , 1. , 4. , 1.5,\n",
    "       1.5, 0. , 0.5, 0.5, 2.5, 3. , 2. , 1. , 2.5, 2. , 1. , 2. , 2. ,\n",
    "       0.5, 3. , 3. , 0.5, 0.5, 0.5, 1. , 0.5, 1.5, 2. , 1.5, 0.5, 0.5,\n",
    "       1. , 2.5, 1. , 4. , 2. , 1.5, 1. , 0.5, 1. , 1. , 1.5, 0.5, 1.5,\n",
    "       2. , 1.5, 1. , 1.5, 1.5, 1. , 1.5, 2. , 3. , 3. , 1. , 0. , 2. ,\n",
    "       0.5, 2. , 1.5, 2. , 1. , 1.5, 1. , 1.5, 1. , 1. , 0.5, 1. , 1.5,\n",
    "       2. , 1. , 0.5, 1.5, 2.5, 0. , 1. , 0.5, 4. , 0. , 4.5, 1.5, 2.5,\n",
    "       1. , 1.5, 1. , 3. , 1. , 0.5, 2.5, 2. , 1.5, 2.5, 1.5, 0.5, 2. ,\n",
    "       1.5, 2.5, 1. , 0. , 2. , 3. , 1.5, 1. , 1. , 2. , 0.5, 0.5, 2. ,\n",
    "       1. , 1.5, 3. , 2.5, 3.5, 0.5, 0.5, 0.5, 4. , 1. , 1.5, 1. , 3.5,\n",
    "       1.5, 1.5, 2.5, 2.5, 0.5, 1.5, 1. , 1. , 0.5, 1.5, 4. , 0.5, 2.5,\n",
    "       2.5, 1.5, 1. , 1. , 2. , 1.5, 2. , 2. , 1.5, 1.5, 0.5, 1.5, 2. ,\n",
    "       2. , 2.5, 1. , 2. , 2.5, 1.5, 1. , 1.5, 1.5, 1.5, 1.5, 1.5, 2. ,\n",
    "       0.5, 1.5, 2. , 1. , 3.5, 0.5, 2.5, 1. , 1. , 1.5, 2.5, 0.5, 1. ,\n",
    "       1.5, 0.5, 1. , 0.5, 0.5, 2. , 0.5, 1. , 1. , 1.5, 2. , 1. , 0.5,\n",
    "       2. , 0.5, 2.5, 0.5, 2.5, 0.5, 1.5, 2. , 0.5, 0.5, 2. , 0.5, 0.5,\n",
    "       3. , 1.5, 1.5, 0.5, 0.5, 2.5, 2. , 1.5, 1.5, 1.5, 1. , 1.5, 2. ,\n",
    "       1. , 0.5, 1. , 0.5, 1.5, 3. , 1.5, 0. , 1.5, 2. , 1.5, 0.5, 2. ,\n",
    "       1. , 0.5, 1.5, 1. , 1.5, 1. , 0.5, 1.5, 3. , 0.5, 2. , 1.5, 2. ,\n",
    "       2.5, 2.5, 1.5, 1. , 1.5, 1. , 1.5, 0.5, 3. , 1. , 0.5, 1.5, 2. ,\n",
    "       3. , 1. , 1. , 2. , 1. , 1. , 1.5, 1. , 2. , 1. , 2. , 0.5, 0.5,\n",
    "       1. , 1. , 0. , 1. , 3. , 2. , 2. , 1. , 1. , 1. , 0.5, 1. , 2. ,\n",
    "       1.5, 2. , 1. , 1. , 1. , 2. , 1.5, 1.5, 2. , 1. , 0.5, 2. , 1. ,\n",
    "       0.5, 1. , 0.5, 2.5, 1.5, 1.5, 1. , 0.5, 1. , 1. , 1.5, 1. , 2. ,\n",
    "       0.5, 2. , 3.5, 2. , 1. , 0. , 1.5, 2.5, 2. , 1. , 4.5, 1. , 1.5,\n",
    "       3.5, 0.5, 1. , 1.5, 2. , 3. , 0.5, 2.5, 1. , 2. , 1.5, 1.5, 2.5,\n",
    "       2.5, 0.5, 1.5, 2. , 1. , 1. , 1. , 1. , 2.5, 2. , 0.5, 2. , 1. ,\n",
    "       1.5, 1. , 2. , 0.5, 1.5, 0.5, 3. , 0.5, 0.5, 0.5, 1. , 1. , 2.5,\n",
    "       3.5, 1. , 1. , 1. , 0.5, 1. , 1.5, 1. , 3. , 2.5, 2.5, 1. , 1. ,\n",
    "       1. , 1. , 0.5, 2.5, 1. , 1.5, 2.5, 3.5, 1.5, 1.5, 0.5, 0.5, 1. ,\n",
    "       1. , 1. , 1.5, 1.5, 0.5, 1. , 1. , 2. , 1.5, 1.5, 3. , 1.5, 1. ,\n",
    "       1. , 2. , 0. , 3. , 2.5, 2. , 0.5, 2.5, 1. , 3. , 1.5, 3. , 1.5,\n",
    "       1.5, 0.5, 0. , 0.5, 0.5, 1. , 1.5, 0.5, 2. , 1.5, 1.5, 0.5, 2.5,\n",
    "       1. , 4. , 2. , 1. , 1. , 0.5, 1. , 2. , 0.5, 0.5, 1. , 1.5, 3. ,\n",
    "       2.5, 1.5, 1. , 2. , 1. , 0.5, 0.5, 1. , 2. , 3.5, 2.5, 1. , 2.5,\n",
    "       0.5, 1. , 1.5, 0.5, 1.5, 0.5, 1. , 3. , 2. , 1. , 3. , 1.5, 2.5,\n",
    "       1. , 0.5, 2. , 2.5, 1.5, 2.5, 1.5, 2.5, 2.5, 0. , 2.5, 1.5, 2.5,\n",
    "       0.5, 0.5, 2.5, 0.5, 2.5, 1.5, 1.5, 0.5, 0.5, 2.5, 1. , 1.5, 3.5,\n",
    "       1.5, 1. , 0.5, 1. , 3.5, 0.5, 0.5, 1. , 0. , 1.5, 0.5, 0.5, 1. ,\n",
    "       1. , 0.5, 1. , 3.5, 0. , 1. , 1. , 2. , 3. , 0.5, 0. , 1.5, 2. ,\n",
    "       2.5, 2. , 0.5, 2.5, 2.5, 1. , 0.5, 0.5, 1.5, 3. , 2.5, 1.5, 1. ,\n",
    "       1.5, 1. , 1.5, 1.5, 1. , 1. , 3. , 2. , 0.5, 1.5, 1. , 2. , 1. ,\n",
    "       0. , 1.5, 3. , 1. , 1.5, 2. , 0.5, 2. , 1. , 1. , 0. , 3. , 0.5,\n",
    "       1.5, 1. , 1. , 1. , 1.5, 1. , 1.5, 0.5, 0.5, 1.5, 1. , 1.5, 1.5,\n",
    "       1.5, 1.5, 2. , 1. , 0.5, 0.5, 2. , 1.5, 2.5, 2.5, 1.5, 2. , 1. ,\n",
    "       2. , 2.5, 0.5, 1.5, 0.5, 2. , 1. , 2. , 1.5, 1.5, 3.5, 1. , 1. ,\n",
    "       0.5, 1. , 3. , 2.5, 0. , 2.5, 1. , 1. , 4. , 2. , 2. , 1. , 3.5,\n",
    "       0.5, 1. , 1.5, 1.5, 0.5, 0.5, 0.5, 0. , 1. , 2.5, 0. , 1. , 3. ,\n",
    "       1.5, 1.5, 0. , 0.5, 2. , 1. , 1.5, 2.5, 2. , 2.5, 0. , 3. , 0.5,\n",
    "       1.5, 1. , 2.5, 1. , 2.5, 2.5, 2. , 0.5, 1. , 0. , 2.5, 1. , 1. ,\n",
    "       0.5, 2. , 1. , 2. , 1.5, 0.5, 1. , 1. , 1. , 2.5, 2. , 1.5, 2. ,\n",
    "       0.5, 1. , 3. , 1. , 2. , 2.5, 1. , 2.5, 1.5, 2.5, 3. , 2. , 0. ,\n",
    "       2.5, 1. , 1. , 0.5, 1.5, 2.5, 1. , 3.5, 1.5, 1. , 3. , 2. , 0.5,\n",
    "       0.5, 1.5, 2. , 2.5, 1.5, 1.5, 0.5, 1. , 2. , 2. , 0. , 3. , 1.5,\n",
    "       1. , 1.5, 3. , 3. , 1. , 1. , 0.5, 0.5, 0.5, 2. , 1. , 1.5, 0. ,\n",
    "       3. , 1.5, 1.5, 1.5, 0.5, 0.5, 0.5, 1.5, 1.5, 1. , 1. , 2.5, 1.5,\n",
    "       0.5, 1.5, 2. , 1.5, 0. , 1. , 1. , 1. , 2.5, 2.5, 1.5, 1.5, 1.5,\n",
    "       0.5, 1.5, 2.5, 0.5, 3. , 2.5, 1.5, 1.5, 0.5, 2. , 1. , 3. , 1. ,\n",
    "       0.5, 1.5, 1.5, 2.5, 1.5, 2.5, 0.5, 3. , 1. , 2. , 1.5, 1.5, 1. ,\n",
    "       1. , 1.5, 2. , 1. , 0.5, 2.5, 2. , 1.5, 1.5, 1. , 0.5, 1. , 0.5,\n",
    "       0.5, 2.5, 1. , 2. , 2.5, 1.5, 2. , 0.5, 2. , 2. , 0. , 2. , 2.5,\n",
    "       1.5, 1. , 1. , 1. , 2.5, 1. , 3. , 1.5, 1.5, 2. , 1.5, 0. , 1.5,\n",
    "       0. , 1. , 2.5, 2. , 2. , 1. , 2.5, 2.5, 3.5, 3. , 0.5, 2. , 1.5,\n",
    "       2. , 2.5, 2. , 1.5, 2.5, 0. , 1. , 0.5, 1. , 1.5, 0.5, 2. , 2. ,\n",
    "       2.5, 0.5, 1. , 1.5, 2.5, 1.5, 1. , 2. , 0.5, 1. , 0.5, 3. , 3. ,\n",
    "       1.5, 2.5, 3. , 0. , 2. , 0.5, 0.5, 0.5, 2.5, 1. , 1.5, 2. , 1.5,\n",
    "       0.5, 2. , 1.5, 1. , 1.5, 0.5, 2. , 1.5, 1. , 1.5, 1.5, 1. , 3. ,\n",
    "       3. , 0.5, 2.5, 2.5, 0. , 1.5, 1. , 2. , 1. , 0.5, 1. , 1. ]"
   ]
  },
  {
   "cell_type": "code",
   "execution_count": null,
   "metadata": {},
   "outputs": [],
   "source": [
    "import matplotlib.pyplot as plt\n",
    "plt.hist(data)\n",
    "plt.show()"
   ]
  },
  {
   "cell_type": "markdown",
   "metadata": {},
   "source": [
    "---"
   ]
  },
  {
   "cell_type": "markdown",
   "metadata": {},
   "source": [
    "## Central Tendency\n",
    "\n",
    "These three measures all aim to describe the \"average\" value of the data distribution. Each one is relevant under different circumstances."
   ]
  },
  {
   "cell_type": "markdown",
   "metadata": {},
   "source": [
    "### Arithmetic mean\n",
    "*(quantitative data)*\n",
    "\n",
    "$$\n",
    "\\bar{x} = \\frac{1}{n} \\sum_{i=1}^{n} x_{i} ,\n",
    "$$\n",
    "where $x$ is the set of values in the sample and $n$ is the sample size.\n",
    "\n",
    "NB The mean can be a real (decimal) number even if the data themselves are discrete."
   ]
  },
  {
   "cell_type": "markdown",
   "metadata": {},
   "source": [
    "**Exercise**: using your knowledge of basic python (i.e. *without* additional libraries), find the mean of the data supplied."
   ]
  },
  {
   "cell_type": "code",
   "execution_count": null,
   "metadata": {},
   "outputs": [],
   "source": []
  },
  {
   "cell_type": "markdown",
   "metadata": {},
   "source": [
    "Of course, it will be helpful to have some pre-built statistics functions :)\n",
    "\n",
    "* [numpy stats functions](https://numpy.org/doc/stable/reference/routines.statistics.html)\n",
    "* [scipy.stats](https://docs.scipy.org/doc/scipy/reference/stats.html)"
   ]
  },
  {
   "cell_type": "markdown",
   "metadata": {},
   "source": [
    "**Exercise**: repeat the above exercise using `numpy.mean()`"
   ]
  },
  {
   "cell_type": "code",
   "execution_count": null,
   "metadata": {},
   "outputs": [],
   "source": []
  },
  {
   "cell_type": "markdown",
   "metadata": {},
   "source": [
    "You could mark the mean on the histogram like so:"
   ]
  },
  {
   "cell_type": "code",
   "execution_count": null,
   "metadata": {},
   "outputs": [],
   "source": [
    "xbar = np.mean(data)\n",
    "\n",
    "plt.hist(data)\n",
    "plt.vlines( xbar, 0, 250, colors='blue' )\n",
    "plt.text( xbar + 0.1, 250, 'mean=' + str(xbar), color='blue', fontsize='large')\n",
    "plt.show()"
   ]
  },
  {
   "cell_type": "markdown",
   "metadata": {},
   "source": [
    "### Median\n",
    "*(quantitative data)*\n",
    "\n",
    "The median is the middle observation, such that  50% of data lies below its value.\n",
    "\n",
    "Order the data and select the middle value (if the sample size *n* is even, take the midpoint of the middle two values)\n"
   ]
  },
  {
   "cell_type": "markdown",
   "metadata": {},
   "source": [
    "**Exercise**: using only basic python, write a function `median()` to find the median value of a list of numbers. *Hint*: you will need to use `sorted()`"
   ]
  },
  {
   "cell_type": "code",
   "execution_count": null,
   "metadata": {},
   "outputs": [],
   "source": []
  },
  {
   "cell_type": "markdown",
   "metadata": {},
   "source": [
    "**Exercise**: try your function on the data provided above and compare to the result from `numpy.median()`"
   ]
  },
  {
   "cell_type": "code",
   "execution_count": null,
   "metadata": {},
   "outputs": [],
   "source": []
  },
  {
   "cell_type": "markdown",
   "metadata": {},
   "source": [
    "### Mode\n",
    "*(categorical OR discrete data)*\n",
    "\n",
    "The mode is the value that occurs most frequently in the sample."
   ]
  },
  {
   "cell_type": "markdown",
   "metadata": {},
   "source": [
    "**Exercise**: using only basic python, write a function `mode()` to find the median value of a list of values."
   ]
  },
  {
   "cell_type": "code",
   "execution_count": null,
   "metadata": {},
   "outputs": [],
   "source": []
  },
  {
   "cell_type": "markdown",
   "metadata": {},
   "source": [
    "**Exercise**: try your function on the data provided and compare to the result from `scipy.stats.mode()` "
   ]
  },
  {
   "cell_type": "code",
   "execution_count": null,
   "metadata": {},
   "outputs": [],
   "source": []
  },
  {
   "cell_type": "markdown",
   "metadata": {},
   "source": [
    "---"
   ]
  },
  {
   "cell_type": "markdown",
   "metadata": {},
   "source": [
    "## Dispersion\n",
    "Dispersion measures aim to describe the *variability* of quantitative data - i.e. the degree to which it is spread out from the \"average\"."
   ]
  },
  {
   "cell_type": "markdown",
   "metadata": {},
   "source": [
    "### Variance\n",
    "$$\n",
    "s^2 = \\frac{1}{n} \\sum_{i=1}^{n} (x_i - \\bar{x})^2\n",
    "$$"
   ]
  },
  {
   "cell_type": "markdown",
   "metadata": {},
   "source": [
    "**Exercise**: using only basic python, write a function `var()` to calculate the variance of a list of numbers."
   ]
  },
  {
   "cell_type": "code",
   "execution_count": null,
   "metadata": {},
   "outputs": [],
   "source": []
  },
  {
   "cell_type": "markdown",
   "metadata": {},
   "source": [
    "**Exercise**: try your function on the data provided and compare to the result from `np.var()` "
   ]
  },
  {
   "cell_type": "code",
   "execution_count": null,
   "metadata": {},
   "outputs": [],
   "source": []
  },
  {
   "cell_type": "markdown",
   "metadata": {},
   "source": [
    "### Standard Deviation\n",
    "The standard deviation, $s$, is simply the square root of the variance, $s^2$. You can use `numpy.std()`"
   ]
  },
  {
   "cell_type": "code",
   "execution_count": null,
   "metadata": {},
   "outputs": [],
   "source": [
    "np.std(data)"
   ]
  },
  {
   "cell_type": "markdown",
   "metadata": {},
   "source": [
    "---"
   ]
  }
 ],
 "metadata": {
  "kernelspec": {
   "display_name": "Python 3",
   "language": "python",
   "name": "python3"
  },
  "language_info": {
   "codemirror_mode": {
    "name": "ipython",
    "version": 3
   },
   "file_extension": ".py",
   "mimetype": "text/x-python",
   "name": "python",
   "nbconvert_exporter": "python",
   "pygments_lexer": "ipython3",
   "version": "3.8.3"
  }
 },
 "nbformat": 4,
 "nbformat_minor": 4
}
