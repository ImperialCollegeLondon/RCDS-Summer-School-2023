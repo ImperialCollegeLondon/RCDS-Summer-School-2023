{
 "cells": [
  {
   "cell_type": "markdown",
   "metadata": {},
   "source": [
    "# Protein Structure Exercise\n",
    "\n",
    "In this notebook we will use `matplotlib` to investigate some real experimental data."
   ]
  },
  {
   "cell_type": "markdown",
   "metadata": {},
   "source": [
    "Protein structures can be determined by X-ray crystallography experiments and are conventionally recorded as [PDB files](https://en.wikipedia.org/wiki/Protein_Data_Bank_(file_format)), which are structured text files details about the experiment itself, together with the 3D coordinates of each atom within the structure."
   ]
  },
  {
   "cell_type": "markdown",
   "metadata": {},
   "source": [
    "We will work with some data derived from the [1HMP](https://www.rcsb.org/structure/1HMP) structure, namely the dihedral angles, $\\phi$(phi) and $\\psi$(psi), of the carbon backbone.\n",
    "\n",
    "<center><img src=\"../Resources/dihedral.png\" style=\"height:300px\" alt=\"By Dcrjsr, vectorised Adam Rędzikowski - Own work, CC BY 3.0, https://commons.wikimedia.org/w/index.php?curid=24585750\"/></center>\n"
   ]
  },
  {
   "cell_type": "markdown",
   "metadata": {},
   "source": [
    "<div align=right>(Image by Dcrjsr, vectorised Adam Rędzikowski, CC BY 3.0)</div>\n"
   ]
  },
  {
   "cell_type": "markdown",
   "metadata": {},
   "source": [
    "The data have been provided as a plain text file containing two columns of numbers ($\\phi$ and $\\psi$), separated by tabs. There is one row for every C$\\alpha$ (i.e. backbone carbon atom) in the structure.\n",
    "\n",
    "We can easily load the data into a 2-dimensional numpy array as shown:"
   ]
  },
  {
   "cell_type": "code",
   "execution_count": 17,
   "metadata": {},
   "outputs": [
    {
     "data": {
      "text/plain": [
       "array([[ -92.926842,   12.941312],\n",
       "       [  65.796807, -162.229709],\n",
       "       [ -81.132082,  121.413022],\n",
       "       [ -85.523806,  137.173724],\n",
       "       [-124.988754,   85.242472],\n",
       "       [ -43.117225,  147.113709],\n",
       "       [ -48.307914,  -29.941388],\n",
       "       [ -88.163884,   -2.348568],\n",
       "       [ -52.848368,  130.047635],\n",
       "       [ -93.401285,   -4.973523]])"
      ]
     },
     "execution_count": 17,
     "metadata": {},
     "output_type": "execute_result"
    }
   ],
   "source": [
    "import numpy as np\n",
    "data = np.loadtxt('1hmp_mmtk.txt')\n",
    "\n",
    "# showing just the first ten rows\n",
    "data[:10,:]"
   ]
  },
  {
   "cell_type": "markdown",
   "metadata": {},
   "source": [
    "### Question: \n",
    "How many C$\\alpha$ atoms are there in this structure?"
   ]
  },
  {
   "cell_type": "code",
   "execution_count": null,
   "metadata": {},
   "outputs": [],
   "source": []
  },
  {
   "cell_type": "markdown",
   "metadata": {},
   "source": [
    "---"
   ]
  },
  {
   "cell_type": "markdown",
   "metadata": {},
   "source": [
    "### Task: Summarise the data\n",
    "Calculate summary statistics for the variables $\\phi$ and $\\psi$."
   ]
  },
  {
   "cell_type": "code",
   "execution_count": null,
   "metadata": {},
   "outputs": [],
   "source": []
  },
  {
   "cell_type": "markdown",
   "metadata": {},
   "source": [
    "---"
   ]
  },
  {
   "cell_type": "markdown",
   "metadata": {},
   "source": [
    "### Task: Visualise the data\n",
    "\n",
    "Find a suitable way to visualise the distributions of $\\phi$ and $\\psi$.\n",
    "\n",
    "Are any of your summary statistics actually useful for this data set?"
   ]
  },
  {
   "cell_type": "code",
   "execution_count": null,
   "metadata": {},
   "outputs": [],
   "source": []
  },
  {
   "cell_type": "markdown",
   "metadata": {},
   "source": [
    "---"
   ]
  },
  {
   "cell_type": "markdown",
   "metadata": {},
   "source": [
    "### Task: Joint distribution\n",
    "Use a scatter plot to investigate the relationship between $\\phi$ and $\\psi$"
   ]
  },
  {
   "cell_type": "code",
   "execution_count": null,
   "metadata": {},
   "outputs": [],
   "source": []
  },
  {
   "cell_type": "markdown",
   "metadata": {},
   "source": [
    "### Task: Gaussian mixture model\n",
    "\n",
    "You should see that there are are several distinct \"patches\" of data in the scatter plot. This implies that there are certain combinations of ($\\phi$,$\\psi$) that are preferred by the protein.\n",
    "\n",
    "One potentially useful way to summarise this joint distribution is as a mixture of 2D Gaussian (aka \"Normal\") component distributions. Each component will have its own centre on the 2D $\\phi$-$\\psi$ plane.\n",
    "\n",
    "We can fit a simple three-component [Gaussian mixture model](https://scikit-learn.org/stable/modules/generated/sklearn.mixture.GaussianMixture.html) like this:"
   ]
  },
  {
   "cell_type": "code",
   "execution_count": 184,
   "metadata": {},
   "outputs": [],
   "source": [
    "from sklearn.mixture import GaussianMixture\n",
    "gmm = GaussianMixture(n_components=3, covariance_type='diag', random_state=0).fit(data)"
   ]
  },
  {
   "cell_type": "markdown",
   "metadata": {},
   "source": [
    "The resulting model can report the coordinates of the three component centres:"
   ]
  },
  {
   "cell_type": "code",
   "execution_count": 185,
   "metadata": {},
   "outputs": [
    {
     "data": {
      "text/plain": [
       "array([[ -75.62480815,  -34.41713905],\n",
       "       [-107.38123843,  136.61407598],\n",
       "       [  79.6362865 ,    9.07039214]])"
      ]
     },
     "execution_count": 185,
     "metadata": {},
     "output_type": "execute_result"
    }
   ],
   "source": [
    "gmm.means_"
   ]
  },
  {
   "cell_type": "markdown",
   "metadata": {},
   "source": [
    "And their *variances* in $\\phi$ and $\\psi$:"
   ]
  },
  {
   "cell_type": "code",
   "execution_count": 186,
   "metadata": {},
   "outputs": [
    {
     "data": {
      "text/plain": [
       "array([[ 661.76442444, 1146.28597329],\n",
       "       [ 856.57467262,  479.22204016],\n",
       "       [ 729.39694663, 8710.25293037]])"
      ]
     },
     "execution_count": 186,
     "metadata": {},
     "output_type": "execute_result"
    }
   ],
   "source": [
    "gmm.covariances_"
   ]
  },
  {
   "cell_type": "markdown",
   "metadata": {},
   "source": [
    "Can you now redraw the scatter plot, marking the centre of each fitted component and its standard deviation in $\\phi$ and $\\psi$?"
   ]
  },
  {
   "cell_type": "code",
   "execution_count": null,
   "metadata": {},
   "outputs": [],
   "source": []
  },
  {
   "cell_type": "markdown",
   "metadata": {},
   "source": [
    "### Question:\n",
    "How could we improve on this model?"
   ]
  },
  {
   "cell_type": "markdown",
   "metadata": {},
   "source": []
  },
  {
   "cell_type": "markdown",
   "metadata": {},
   "source": [
    "---\n",
    "\n",
    "The general $\\phi$-$\\psi$ scatterplot is known as a [Ramachandran plot](https://en.wikipedia.org/wiki/Ramachandran_plot), describing the energetically favourable dihedral angles that are found in protein structures. - it is very useful for validation of structures that are computed from X-ray crystallography data.\n",
    "\n",
    "Dihedral angle dataset was taken from\n",
    "https://warwick.ac.uk/fac/sci/moac/people/students/peter_cock/r/ramachandran/\n"
   ]
  }
 ],
 "metadata": {
  "kernelspec": {
   "display_name": "Python 3",
   "language": "python",
   "name": "python3"
  },
  "language_info": {
   "codemirror_mode": {
    "name": "ipython",
    "version": 3
   },
   "file_extension": ".py",
   "mimetype": "text/x-python",
   "name": "python",
   "nbconvert_exporter": "python",
   "pygments_lexer": "ipython3",
   "version": "3.8.3"
  }
 },
 "nbformat": 4,
 "nbformat_minor": 4
}
