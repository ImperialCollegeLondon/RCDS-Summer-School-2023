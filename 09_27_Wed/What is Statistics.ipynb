{
 "cells": [
  {
   "cell_type": "markdown",
   "metadata": {},
   "source": [
    "# What is Statistics?\n"
   ]
  },
  {
   "cell_type": "markdown",
   "metadata": {},
   "source": [
    "\n",
    "\n",
    "Statistics means handling data effectively:\n",
    "collection, organisation, analysis, interpretation & presentation.\n",
    "\n",
    "We use the term \"statistics\" to describe two rather different activities:\n",
    "\n",
    "* Analysing a set of data to produce simple summary metrics (we call this **descriptive statistics**).\n",
    "\n",
    "* Calculate something we can’t directly measure (we call this **inferential statistics**)."
   ]
  },
  {
   "cell_type": "markdown",
   "metadata": {},
   "source": [
    "### Population vs sample\n",
    "\n",
    "**Population**:\n",
    "The entire set of individuals I would like to know something about.\n",
    "\n",
    "**Sample**:\n",
    "The set of individuals for which you have data (e.g. the people who answer your questionnaire).\n",
    "\n",
    "The population includes the sample… but a sample usually doesn’t cover the whole population!\n"
   ]
  },
  {
   "cell_type": "markdown",
   "metadata": {},
   "source": [
    "### Parameter vs statistic\n",
    "\n",
    "**Parameter**: a number that describes the *population* (i.e. a theoretical quantity which cannot be observed directly)\n",
    "It is a fixed number but we do not know it’s exact value.\n",
    "\n",
    "e.g. theoretical mean ($\\mu$) and variance ($\\sigma^2$) of the height of the UK population.\n",
    "\n",
    "\n",
    "**Statistic**: a number calculated from the *sample* that is used to describe/summarize the data that is actually collected.\n",
    "\n",
    "e.g. Sample mean ($\\bar{x}$) and variance ($s^2$) of the height of the students on this course.\n",
    "\n"
   ]
  },
  {
   "cell_type": "markdown",
   "metadata": {},
   "source": [
    "Although we cannot examine a large population directly, we can use statistics such as $\\bar{x}$ and $s^2$ to *estimate* unknown parameters of interest. This process is called **statistical inference**.\n"
   ]
  },
  {
   "cell_type": "markdown",
   "metadata": {},
   "source": [
    "<center><img src=\"../Resources/stats_cycle.jpg\" style=\"height:300px\" /></center>"
   ]
  },
  {
   "cell_type": "markdown",
   "metadata": {},
   "source": [
    "N.B. Because a term such as \"mean\" can be associated with both the sample and the the population, it is important to be clear exactly what we are talking about. Notice the symbols that are chosen: we tend to use Greek letters (e.g. $\\mu$) for population parameters, but Roman letters (e.g. $\\bar{x}$) for sample statistics. This can be helpful to remember!"
   ]
  },
  {
   "cell_type": "markdown",
   "metadata": {},
   "source": [
    "---\n"
   ]
  }
 ],
 "metadata": {
  "kernelspec": {
   "display_name": "Python 3",
   "language": "python",
   "name": "python3"
  },
  "language_info": {
   "codemirror_mode": {
    "name": "ipython",
    "version": 3
   },
   "file_extension": ".py",
   "mimetype": "text/x-python",
   "name": "python",
   "nbconvert_exporter": "python",
   "pygments_lexer": "ipython3",
   "version": "3.8.3"
  }
 },
 "nbformat": 4,
 "nbformat_minor": 4
}
