{
 "cells": [
  {
   "cell_type": "markdown",
   "metadata": {
    "id": "aQWihCYowOnL"
   },
   "source": [
    "# Overview and the Matplotlib Gallery\n",
    "\n",
    "[Matplotlib](https://matplotlib.org/) is a powerful and popular Python library which allows the production of highly-customisable and professional plots. It can produce a wide variety of plot types which can represent all manner of data.\n",
    "\n",
    "There are too many variations and use cases to cover them all in this course. Instead, we will look at some useful examples, cover some basic theory and discuss how you can best find a type of plot that's most relevant for your data.\n",
    "\n",
    "\n",
    "\n"
   ]
  },
  {
   "cell_type": "code",
   "execution_count": null,
   "metadata": {
    "id": "jwoD1fGAvSxn"
   },
   "outputs": [],
   "source": [
    "# A simple example of Matplotlib\n",
    "# Notice our smart use of Numpy functions here!\n",
    "import matplotlib.pyplot as plt\n",
    "import numpy as np\n",
    "\n",
    "x = np.arange(0, 10, 0.01)\n",
    "y = np.sin(x)\n",
    "\n",
    "plt.plot(x,y)"
   ]
  },
  {
   "cell_type": "markdown",
   "metadata": {
    "id": "jKM25PA7zjU6"
   },
   "source": [
    "## The Matplotlib Gallery\n",
    "\n",
    "The [Matplotlib gallery](https://matplotlib.org/stable/gallery/index.html) is a great place to discover how to produce particular effects in Matplotlib. It contains hundreds of examples of plots of different types, arranged by category, each showing off a different part of the functionality of Matplotlib. The main gallery gives a brief title and a picture of the plot, allowing it to be searched relatively easily manually.\n",
    "\n",
    "Clicking on an example opens a page showing a number of different example code sections that produce different variations of that figure. This means, in many cases, you will be able to follow this process:\n",
    "\n",
    "* Decide the rough type of graph you are looking for\n",
    "* Find an example that looks similar to how you want your graph to look on the main gallery page\n",
    "* Open the example and find the version that looks best to you\n",
    "* Copy-paste code into your project\n",
    "* Tweak the variable names so it uses your data\n",
    "* Perform any fine-tuning in terms of style\n",
    "\n",
    "This will often allow you to quickly use a graph type that you haven't seen before.\n",
    "\n",
    "The categories in the gallery at time of writing are:\n",
    "\n",
    "* Lines, bars and markers\n",
    "* Images, contours and fields\n",
    "* Subplots axes and figures\n",
    "* Statistics\n",
    "* Pie and polar charts\n",
    "* Text, labels and annotations\n",
    "* Pyplot\n",
    "* Color\n",
    "* Shapes and collections\n",
    "* Style sheets\n",
    "* Axes grid\n",
    "* Axis artist\n",
    "* Showcase\n",
    "* Animation\n",
    "* Event handling\n",
    "* Front page\n",
    "* 3D plotting\n",
    "* Scales\n",
    "* Speciality plots\n",
    "* Ticks and spines\n",
    "* Units\n",
    "* Embedding Matplotlib in graphical user interfaces\n",
    "* Userdemo\n",
    "* Widgets\n",
    "\n",
    "As you can see, there's a lot of different functionality on display here. A web search can be helpful if you're trying to find something specific. Try something like \"bar graph matplotlib gallery\".\n",
    "\n"
   ]
  },
  {
   "cell_type": "markdown",
   "metadata": {
    "id": "4CW5T-scyEWF"
   },
   "source": [
    "## Other Resources\n",
    "\n",
    "Matplotlib as offers a number of useful learning resources you might find useful:\n",
    "\n",
    "* [Tutorials](https://matplotlib.org/stable/tutorials/index.html)\n",
    "* [A List of External Resources](https://matplotlib.org/stable/resources/index.html)\n",
    "* [FAQ](https://matplotlib.org/stable/faq/index.html)\n",
    "* [Overview](https://matplotlib.org/stable/contents.html)"
   ]
  },
  {
   "cell_type": "markdown",
   "metadata": {
    "id": "Cit9n7ynzk_f"
   },
   "source": [
    "## Citing Matplotlib\n",
    "\n",
    "The creators of Matplotlib request that if you use Matplotlib to generate figures for a scientific publication (such as a journal or conference article or a thesis) the use of Matplotlib is acknowledged using [this citation](https://matplotlib.org/stable/citing.html)."
   ]
  },
  {
   "cell_type": "markdown",
   "metadata": {
    "id": "o78s0s8nRjW7"
   },
   "source": [
    "## Running Matplotlib Outside of Jupyter Notebooks\n",
    "\n",
    "When running a Matplotlib script inside a Jupyter notebook, the created plot will be displayed below the code cell. However, when running a code cell as part of a .py file, the same commands won't cause the plot to be displayed. Instead, after creating the plot, you should add the command ```plt.show()``` to cause a new window to open showing the plot. You can also use ```plt.show()``` inside a Jupyter notebook, which will simplify the output below the code cell. "
   ]
  }
 ],
 "metadata": {
  "colab": {
   "authorship_tag": "ABX9TyPr9m1tPM9+q8gJbh5/HGtm",
   "collapsed_sections": [],
   "name": "Overview and the Matplotlib Gallery.ipynb",
   "provenance": []
  },
  "kernelspec": {
   "display_name": "Python 3",
   "language": "python",
   "name": "python3"
  },
  "language_info": {
   "codemirror_mode": {
    "name": "ipython",
    "version": 3
   },
   "file_extension": ".py",
   "mimetype": "text/x-python",
   "name": "python",
   "nbconvert_exporter": "python",
   "pygments_lexer": "ipython3",
   "version": "3.9.6"
  }
 },
 "nbformat": 4,
 "nbformat_minor": 1
}
