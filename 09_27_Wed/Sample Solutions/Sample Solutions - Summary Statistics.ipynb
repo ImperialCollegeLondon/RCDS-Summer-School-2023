{
 "cells": [
  {
   "cell_type": "markdown",
   "metadata": {},
   "source": [
    "# Summary Statistics\n"
   ]
  },
  {
   "cell_type": "code",
   "execution_count": 1,
   "metadata": {},
   "outputs": [],
   "source": [
    "import numpy as np\n",
    "data = [0. , 1.5, 2. , 1. , 2. , 0.5, 1.5, 1. , 1.5, 1. , 1. , 1. , 3. ,\n",
    "       2. , 1.5, 1. , 1.5, 1. , 0. , 1.5, 2. , 4. , 1.5, 2. , 0. , 2.5,\n",
    "       1. , 2. , 1.5, 0.5, 2. , 1.5, 2.5, 1.5, 2.5, 1.5, 1.5, 3. , 0.5,\n",
    "       2. , 1.5, 1. , 1. , 1.5, 1. , 3.5, 1. , 0.5, 2. , 1. , 1. , 1. ,\n",
    "       1.5, 1.5, 2. , 0. , 3. , 2. , 1. , 1. , 0.5, 1. , 1. , 1.5, 1.5,\n",
    "       1.5, 2.5, 1.5, 1.5, 2. , 1. , 1. , 2. , 1. , 1. , 1. , 0.5, 1.5,\n",
    "       1.5, 2. , 0. , 0.5, 1. , 2. , 2. , 1. , 2. , 1.5, 1. , 3.5, 0.5,\n",
    "       1. , 1.5, 1.5, 2. , 0.5, 1. , 2. , 0. , 3. , 0.5, 1.5, 1.5, 2. ,\n",
    "       2. , 0.5, 3. , 3.5, 2. , 3.5, 1.5, 1.5, 1. , 2. , 0. , 1. , 2. ,\n",
    "       1. , 1. , 0.5, 0.5, 2. , 3. , 3. , 1.5, 1. , 2. , 1. , 4. , 1.5,\n",
    "       1.5, 0. , 0.5, 0.5, 2.5, 3. , 2. , 1. , 2.5, 2. , 1. , 2. , 2. ,\n",
    "       0.5, 3. , 3. , 0.5, 0.5, 0.5, 1. , 0.5, 1.5, 2. , 1.5, 0.5, 0.5,\n",
    "       1. , 2.5, 1. , 4. , 2. , 1.5, 1. , 0.5, 1. , 1. , 1.5, 0.5, 1.5,\n",
    "       2. , 1.5, 1. , 1.5, 1.5, 1. , 1.5, 2. , 3. , 3. , 1. , 0. , 2. ,\n",
    "       0.5, 2. , 1.5, 2. , 1. , 1.5, 1. , 1.5, 1. , 1. , 0.5, 1. , 1.5,\n",
    "       2. , 1. , 0.5, 1.5, 2.5, 0. , 1. , 0.5, 4. , 0. , 4.5, 1.5, 2.5,\n",
    "       1. , 1.5, 1. , 3. , 1. , 0.5, 2.5, 2. , 1.5, 2.5, 1.5, 0.5, 2. ,\n",
    "       1.5, 2.5, 1. , 0. , 2. , 3. , 1.5, 1. , 1. , 2. , 0.5, 0.5, 2. ,\n",
    "       1. , 1.5, 3. , 2.5, 3.5, 0.5, 0.5, 0.5, 4. , 1. , 1.5, 1. , 3.5,\n",
    "       1.5, 1.5, 2.5, 2.5, 0.5, 1.5, 1. , 1. , 0.5, 1.5, 4. , 0.5, 2.5,\n",
    "       2.5, 1.5, 1. , 1. , 2. , 1.5, 2. , 2. , 1.5, 1.5, 0.5, 1.5, 2. ,\n",
    "       2. , 2.5, 1. , 2. , 2.5, 1.5, 1. , 1.5, 1.5, 1.5, 1.5, 1.5, 2. ,\n",
    "       0.5, 1.5, 2. , 1. , 3.5, 0.5, 2.5, 1. , 1. , 1.5, 2.5, 0.5, 1. ,\n",
    "       1.5, 0.5, 1. , 0.5, 0.5, 2. , 0.5, 1. , 1. , 1.5, 2. , 1. , 0.5,\n",
    "       2. , 0.5, 2.5, 0.5, 2.5, 0.5, 1.5, 2. , 0.5, 0.5, 2. , 0.5, 0.5,\n",
    "       3. , 1.5, 1.5, 0.5, 0.5, 2.5, 2. , 1.5, 1.5, 1.5, 1. , 1.5, 2. ,\n",
    "       1. , 0.5, 1. , 0.5, 1.5, 3. , 1.5, 0. , 1.5, 2. , 1.5, 0.5, 2. ,\n",
    "       1. , 0.5, 1.5, 1. , 1.5, 1. , 0.5, 1.5, 3. , 0.5, 2. , 1.5, 2. ,\n",
    "       2.5, 2.5, 1.5, 1. , 1.5, 1. , 1.5, 0.5, 3. , 1. , 0.5, 1.5, 2. ,\n",
    "       3. , 1. , 1. , 2. , 1. , 1. , 1.5, 1. , 2. , 1. , 2. , 0.5, 0.5,\n",
    "       1. , 1. , 0. , 1. , 3. , 2. , 2. , 1. , 1. , 1. , 0.5, 1. , 2. ,\n",
    "       1.5, 2. , 1. , 1. , 1. , 2. , 1.5, 1.5, 2. , 1. , 0.5, 2. , 1. ,\n",
    "       0.5, 1. , 0.5, 2.5, 1.5, 1.5, 1. , 0.5, 1. , 1. , 1.5, 1. , 2. ,\n",
    "       0.5, 2. , 3.5, 2. , 1. , 0. , 1.5, 2.5, 2. , 1. , 4.5, 1. , 1.5,\n",
    "       3.5, 0.5, 1. , 1.5, 2. , 3. , 0.5, 2.5, 1. , 2. , 1.5, 1.5, 2.5,\n",
    "       2.5, 0.5, 1.5, 2. , 1. , 1. , 1. , 1. , 2.5, 2. , 0.5, 2. , 1. ,\n",
    "       1.5, 1. , 2. , 0.5, 1.5, 0.5, 3. , 0.5, 0.5, 0.5, 1. , 1. , 2.5,\n",
    "       3.5, 1. , 1. , 1. , 0.5, 1. , 1.5, 1. , 3. , 2.5, 2.5, 1. , 1. ,\n",
    "       1. , 1. , 0.5, 2.5, 1. , 1.5, 2.5, 3.5, 1.5, 1.5, 0.5, 0.5, 1. ,\n",
    "       1. , 1. , 1.5, 1.5, 0.5, 1. , 1. , 2. , 1.5, 1.5, 3. , 1.5, 1. ,\n",
    "       1. , 2. , 0. , 3. , 2.5, 2. , 0.5, 2.5, 1. , 3. , 1.5, 3. , 1.5,\n",
    "       1.5, 0.5, 0. , 0.5, 0.5, 1. , 1.5, 0.5, 2. , 1.5, 1.5, 0.5, 2.5,\n",
    "       1. , 4. , 2. , 1. , 1. , 0.5, 1. , 2. , 0.5, 0.5, 1. , 1.5, 3. ,\n",
    "       2.5, 1.5, 1. , 2. , 1. , 0.5, 0.5, 1. , 2. , 3.5, 2.5, 1. , 2.5,\n",
    "       0.5, 1. , 1.5, 0.5, 1.5, 0.5, 1. , 3. , 2. , 1. , 3. , 1.5, 2.5,\n",
    "       1. , 0.5, 2. , 2.5, 1.5, 2.5, 1.5, 2.5, 2.5, 0. , 2.5, 1.5, 2.5,\n",
    "       0.5, 0.5, 2.5, 0.5, 2.5, 1.5, 1.5, 0.5, 0.5, 2.5, 1. , 1.5, 3.5,\n",
    "       1.5, 1. , 0.5, 1. , 3.5, 0.5, 0.5, 1. , 0. , 1.5, 0.5, 0.5, 1. ,\n",
    "       1. , 0.5, 1. , 3.5, 0. , 1. , 1. , 2. , 3. , 0.5, 0. , 1.5, 2. ,\n",
    "       2.5, 2. , 0.5, 2.5, 2.5, 1. , 0.5, 0.5, 1.5, 3. , 2.5, 1.5, 1. ,\n",
    "       1.5, 1. , 1.5, 1.5, 1. , 1. , 3. , 2. , 0.5, 1.5, 1. , 2. , 1. ,\n",
    "       0. , 1.5, 3. , 1. , 1.5, 2. , 0.5, 2. , 1. , 1. , 0. , 3. , 0.5,\n",
    "       1.5, 1. , 1. , 1. , 1.5, 1. , 1.5, 0.5, 0.5, 1.5, 1. , 1.5, 1.5,\n",
    "       1.5, 1.5, 2. , 1. , 0.5, 0.5, 2. , 1.5, 2.5, 2.5, 1.5, 2. , 1. ,\n",
    "       2. , 2.5, 0.5, 1.5, 0.5, 2. , 1. , 2. , 1.5, 1.5, 3.5, 1. , 1. ,\n",
    "       0.5, 1. , 3. , 2.5, 0. , 2.5, 1. , 1. , 4. , 2. , 2. , 1. , 3.5,\n",
    "       0.5, 1. , 1.5, 1.5, 0.5, 0.5, 0.5, 0. , 1. , 2.5, 0. , 1. , 3. ,\n",
    "       1.5, 1.5, 0. , 0.5, 2. , 1. , 1.5, 2.5, 2. , 2.5, 0. , 3. , 0.5,\n",
    "       1.5, 1. , 2.5, 1. , 2.5, 2.5, 2. , 0.5, 1. , 0. , 2.5, 1. , 1. ,\n",
    "       0.5, 2. , 1. , 2. , 1.5, 0.5, 1. , 1. , 1. , 2.5, 2. , 1.5, 2. ,\n",
    "       0.5, 1. , 3. , 1. , 2. , 2.5, 1. , 2.5, 1.5, 2.5, 3. , 2. , 0. ,\n",
    "       2.5, 1. , 1. , 0.5, 1.5, 2.5, 1. , 3.5, 1.5, 1. , 3. , 2. , 0.5,\n",
    "       0.5, 1.5, 2. , 2.5, 1.5, 1.5, 0.5, 1. , 2. , 2. , 0. , 3. , 1.5,\n",
    "       1. , 1.5, 3. , 3. , 1. , 1. , 0.5, 0.5, 0.5, 2. , 1. , 1.5, 0. ,\n",
    "       3. , 1.5, 1.5, 1.5, 0.5, 0.5, 0.5, 1.5, 1.5, 1. , 1. , 2.5, 1.5,\n",
    "       0.5, 1.5, 2. , 1.5, 0. , 1. , 1. , 1. , 2.5, 2.5, 1.5, 1.5, 1.5,\n",
    "       0.5, 1.5, 2.5, 0.5, 3. , 2.5, 1.5, 1.5, 0.5, 2. , 1. , 3. , 1. ,\n",
    "       0.5, 1.5, 1.5, 2.5, 1.5, 2.5, 0.5, 3. , 1. , 2. , 1.5, 1.5, 1. ,\n",
    "       1. , 1.5, 2. , 1. , 0.5, 2.5, 2. , 1.5, 1.5, 1. , 0.5, 1. , 0.5,\n",
    "       0.5, 2.5, 1. , 2. , 2.5, 1.5, 2. , 0.5, 2. , 2. , 0. , 2. , 2.5,\n",
    "       1.5, 1. , 1. , 1. , 2.5, 1. , 3. , 1.5, 1.5, 2. , 1.5, 0. , 1.5,\n",
    "       0. , 1. , 2.5, 2. , 2. , 1. , 2.5, 2.5, 3.5, 3. , 0.5, 2. , 1.5,\n",
    "       2. , 2.5, 2. , 1.5, 2.5, 0. , 1. , 0.5, 1. , 1.5, 0.5, 2. , 2. ,\n",
    "       2.5, 0.5, 1. , 1.5, 2.5, 1.5, 1. , 2. , 0.5, 1. , 0.5, 3. , 3. ,\n",
    "       1.5, 2.5, 3. , 0. , 2. , 0.5, 0.5, 0.5, 2.5, 1. , 1.5, 2. , 1.5,\n",
    "       0.5, 2. , 1.5, 1. , 1.5, 0.5, 2. , 1.5, 1. , 1.5, 1.5, 1. , 3. ,\n",
    "       3. , 0.5, 2.5, 2.5, 0. , 1.5, 1. , 2. , 1. , 0.5, 1. , 1. ]"
   ]
  },
  {
   "cell_type": "code",
   "execution_count": 2,
   "metadata": {},
   "outputs": [
    {
     "data": {
      "image/png": "[encoded data removed]",
      "text/plain": [
       "<Figure size 432x288 with 1 Axes>"
      ]
     },
     "metadata": {
      "needs_background": "light"
     },
     "output_type": "display_data"
    }
   ],
   "source": [
    "import matplotlib.pyplot as plt\n",
    "plt.hist(data)\n",
    "plt.show()"
   ]
  },
  {
   "cell_type": "markdown",
   "metadata": {},
   "source": [
    "---"
   ]
  },
  {
   "cell_type": "markdown",
   "metadata": {},
   "source": [
    "## Central Tendency\n"
   ]
  },
  {
   "cell_type": "markdown",
   "metadata": {},
   "source": [
    "### Arithmetic mean\n"
   ]
  },
  {
   "cell_type": "code",
   "execution_count": 3,
   "metadata": {},
   "outputs": [
    {
     "name": "stdout",
     "output_type": "stream",
     "text": [
      "mean = 1.4695\n"
     ]
    }
   ],
   "source": [
    "def mean(data):\n",
    "    total = 0\n",
    "    for i in range(len(data)):\n",
    "        total += data[i]\n",
    "    return total/len(data)\n",
    "\n",
    "print('mean =', mean(data))"
   ]
  },
  {
   "cell_type": "code",
   "execution_count": 4,
   "metadata": {},
   "outputs": [
    {
     "data": {
      "text/plain": [
       "1.4695"
      ]
     },
     "execution_count": 4,
     "metadata": {},
     "output_type": "execute_result"
    }
   ],
   "source": [
    "np.mean(data)"
   ]
  },
  {
   "cell_type": "markdown",
   "metadata": {},
   "source": [
    "### Median\n"
   ]
  },
  {
   "cell_type": "code",
   "execution_count": 5,
   "metadata": {},
   "outputs": [],
   "source": [
    "def median(data):\n",
    "    data = sorted(data)\n",
    "    n = len(data)\n",
    "    if n % 2 == 1:\n",
    "        return data[n//2]\n",
    "    else:\n",
    "        return (data[n//2] + data[n//2 - 1]) / 2"
   ]
  },
  {
   "cell_type": "code",
   "execution_count": 6,
   "metadata": {},
   "outputs": [
    {
     "data": {
      "text/plain": [
       "1.5"
      ]
     },
     "execution_count": 6,
     "metadata": {},
     "output_type": "execute_result"
    }
   ],
   "source": [
    "median(data)"
   ]
  },
  {
   "cell_type": "code",
   "execution_count": 7,
   "metadata": {},
   "outputs": [
    {
     "data": {
      "text/plain": [
       "1.5"
      ]
     },
     "execution_count": 7,
     "metadata": {},
     "output_type": "execute_result"
    }
   ],
   "source": [
    "np.median(data)"
   ]
  },
  {
   "cell_type": "markdown",
   "metadata": {},
   "source": [
    "### Mode"
   ]
  },
  {
   "cell_type": "code",
   "execution_count": 8,
   "metadata": {},
   "outputs": [],
   "source": [
    "def mode(data):\n",
    "    counts = {}\n",
    "    for x in data:\n",
    "        if x in counts:\n",
    "            counts[x] += 1\n",
    "        else:\n",
    "            counts[x] = 0\n",
    "    max_count = max(counts.values())\n",
    "    for key in iter(counts):\n",
    "        if counts[key] == max_count:\n",
    "            return key"
   ]
  },
  {
   "cell_type": "code",
   "execution_count": 9,
   "metadata": {},
   "outputs": [
    {
     "data": {
      "text/plain": [
       "1.0"
      ]
     },
     "execution_count": 9,
     "metadata": {},
     "output_type": "execute_result"
    }
   ],
   "source": [
    "mode(data)"
   ]
  },
  {
   "cell_type": "code",
   "execution_count": 10,
   "metadata": {},
   "outputs": [
    {
     "data": {
      "text/plain": [
       "ModeResult(mode=array([1.]), count=array([244]))"
      ]
     },
     "execution_count": 10,
     "metadata": {},
     "output_type": "execute_result"
    }
   ],
   "source": [
    "from scipy import stats\n",
    "stats.mode(data)"
   ]
  },
  {
   "cell_type": "markdown",
   "metadata": {},
   "source": [
    "---"
   ]
  },
  {
   "cell_type": "markdown",
   "metadata": {},
   "source": [
    "## Dispersion"
   ]
  },
  {
   "cell_type": "markdown",
   "metadata": {},
   "source": [
    "### Variance"
   ]
  },
  {
   "cell_type": "code",
   "execution_count": 11,
   "metadata": {},
   "outputs": [],
   "source": [
    "def var(data):\n",
    "    xbar = mean(data)\n",
    "    total = 0.\n",
    "    for x in data:\n",
    "        total += (x - xbar)**2\n",
    "    return total / len(data)"
   ]
  },
  {
   "cell_type": "code",
   "execution_count": 12,
   "metadata": {},
   "outputs": [
    {
     "data": {
      "text/plain": [
       "0.7233197500000037"
      ]
     },
     "execution_count": 12,
     "metadata": {},
     "output_type": "execute_result"
    }
   ],
   "source": [
    "var(data)"
   ]
  },
  {
   "cell_type": "code",
   "execution_count": 13,
   "metadata": {},
   "outputs": [
    {
     "data": {
      "text/plain": [
       "0.7233197499999999"
      ]
     },
     "execution_count": 13,
     "metadata": {},
     "output_type": "execute_result"
    }
   ],
   "source": [
    "np.var( data )"
   ]
  },
  {
   "cell_type": "markdown",
   "metadata": {},
   "source": [
    "---"
   ]
  }
 ],
 "metadata": {
  "kernelspec": {
   "display_name": "Python 3",
   "language": "python",
   "name": "python3"
  },
  "language_info": {
   "codemirror_mode": {
    "name": "ipython",
    "version": 3
   },
   "file_extension": ".py",
   "mimetype": "text/x-python",
   "name": "python",
   "nbconvert_exporter": "python",
   "pygments_lexer": "ipython3",
   "version": "3.8.3"
  }
 },
 "nbformat": 4,
 "nbformat_minor": 4
}
