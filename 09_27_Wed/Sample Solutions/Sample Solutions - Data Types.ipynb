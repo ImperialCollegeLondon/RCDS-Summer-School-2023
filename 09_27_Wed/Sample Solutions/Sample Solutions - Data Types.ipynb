{
 "cells": [
  {
   "cell_type": "markdown",
   "metadata": {},
   "source": [
    "## Data Types\n",
    "\n",
    "#### 1. Number of insects caught in a trap\n",
    "\n",
    "Discrete (integers 0,1,...).\n",
    "\n",
    "#### 2. Blood pressure\n",
    "\n",
    "Intrinsically continuous. Sometimes the precision of recorded blood pressure is limited by equipment, in which case the values might be discretised (e.g. to nearest 5 mmHg)\n",
    "\n",
    "#### 3. Colour\n",
    "\n",
    "Depends on context:\n",
    "* Colour of a laser could be indicated by a single wavelength, so would be continuous. \n",
    "* Colour of a display pixel might be indicated by discrete RGB values, i.e. 3 integer coordinates for (red, green, blue) in the range [0,255]. \n",
    "* Generally, colour is a subjective quantity so only nominal values (colour names) are useful.\n",
    "\n",
    "#### 4. Change in number of coal-fired power stations in a country, 2000-2020\n",
    "\n",
    "Discrete (negative values are allowed for discrete variables).\n",
    "\n",
    "#### 5. Amount of mRNA\n",
    "\n",
    "Depends on context:\n",
    "* Generally, bulk mRNA could be quantified by mass, so continuous.\n",
    "* Number of mRNAs of a specific gene within a specific cell is an integer, so discrete.\n",
    "\n",
    "\n",
    "#### 6. Happiness\n",
    "\n",
    "Subjective happiness is probably best measured using an ordinal scale. There are [many options](https://www.pursuit-of-happiness.org/science-of-happiness/measuring-happiness/).\n",
    "\n",
    "#### 7. Energy change\n",
    "\n",
    "Generally continuous in the range (-infinity,infinity). But in quantum contexts will be discrete values, e.g. difference between orbital energy levels.\n",
    "\n",
    "#### 8. Type of a rock\n",
    "\n",
    "Nominal (e.g. igneous, sedimentary, metamorphic).\n",
    "\n",
    "#### 9. Petal length in the iris dataset\n",
    "\n",
    "Intrinsically continuous but heavily discretised because rounded to the nearest 0.5cm. This does have an affect on subsequent analyses such as hypothesis testing.\n",
    "\n",
    "#### 10. Developmental stage of an animal\n",
    "\n",
    "Ordinal (e.g. infant / larva / pupa / adult)."
   ]
  },
  {
   "cell_type": "markdown",
   "metadata": {},
   "source": [
    "---"
   ]
  }
 ],
 "metadata": {
  "kernelspec": {
   "display_name": "Python 3",
   "language": "python",
   "name": "python3"
  },
  "language_info": {
   "codemirror_mode": {
    "name": "ipython",
    "version": 3
   },
   "file_extension": ".py",
   "mimetype": "text/x-python",
   "name": "python",
   "nbconvert_exporter": "python",
   "pygments_lexer": "ipython3",
   "version": "3.8.3"
  }
 },
 "nbformat": 4,
 "nbformat_minor": 4
}
