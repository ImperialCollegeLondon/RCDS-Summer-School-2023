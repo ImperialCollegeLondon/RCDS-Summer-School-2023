{
 "cells": [
  {
   "cell_type": "markdown",
   "metadata": {},
   "source": [
    "# Protein Structure"
   ]
  },
  {
   "cell_type": "code",
   "execution_count": 1,
   "metadata": {},
   "outputs": [
    {
     "data": {
      "text/plain": [
       "array([[ -92.926842,   12.941312],\n",
       "       [  65.796807, -162.229709],\n",
       "       [ -81.132082,  121.413022],\n",
       "       [ -85.523806,  137.173724],\n",
       "       [-124.988754,   85.242472],\n",
       "       [ -43.117225,  147.113709],\n",
       "       [ -48.307914,  -29.941388],\n",
       "       [ -88.163884,   -2.348568],\n",
       "       [ -52.848368,  130.047635],\n",
       "       [ -93.401285,   -4.973523]])"
      ]
     },
     "execution_count": 1,
     "metadata": {},
     "output_type": "execute_result"
    }
   ],
   "source": [
    "import numpy as np\n",
    "data = np.loadtxt('1hmp_mmtk.txt')\n",
    "\n",
    "# showing just the first ten rows\n",
    "data[:10,:]"
   ]
  },
  {
   "cell_type": "markdown",
   "metadata": {},
   "source": [
    "### Question: \n",
    "How many C$\\alpha$ atoms are there in this structure?"
   ]
  },
  {
   "cell_type": "code",
   "execution_count": 2,
   "metadata": {},
   "outputs": [
    {
     "data": {
      "text/plain": [
       "419"
      ]
     },
     "execution_count": 2,
     "metadata": {},
     "output_type": "execute_result"
    }
   ],
   "source": [
    "len(data)"
   ]
  },
  {
   "cell_type": "markdown",
   "metadata": {},
   "source": [
    "---"
   ]
  },
  {
   "cell_type": "markdown",
   "metadata": {},
   "source": [
    "### Task: Summarise the data"
   ]
  },
  {
   "cell_type": "code",
   "execution_count": 3,
   "metadata": {},
   "outputs": [],
   "source": [
    "phi = data[:,0]\n",
    "psi = data[:,1]"
   ]
  },
  {
   "cell_type": "markdown",
   "metadata": {},
   "source": [
    "$\\phi$:"
   ]
  },
  {
   "cell_type": "code",
   "execution_count": 4,
   "metadata": {},
   "outputs": [
    {
     "name": "stdout",
     "output_type": "stream",
     "text": [
      "mean: -76.66391544868735\n"
     ]
    }
   ],
   "source": [
    "phi_mean = np.mean(phi)\n",
    "print('mean:', phi_mean)"
   ]
  },
  {
   "cell_type": "code",
   "execution_count": 5,
   "metadata": {},
   "outputs": [
    {
     "name": "stdout",
     "output_type": "stream",
     "text": [
      "median: -82.172016\n"
     ]
    }
   ],
   "source": [
    "phi_median = np.median(phi)\n",
    "print('median:', phi_median)"
   ]
  },
  {
   "cell_type": "code",
   "execution_count": 6,
   "metadata": {},
   "outputs": [
    {
     "name": "stdout",
     "output_type": "stream",
     "text": [
      "sd: 55.32604155041411\n"
     ]
    }
   ],
   "source": [
    "phi_std = np.std(phi)\n",
    "print('sd:', phi_std)"
   ]
  },
  {
   "cell_type": "markdown",
   "metadata": {},
   "source": [
    "$\\psi$:"
   ]
  },
  {
   "cell_type": "code",
   "execution_count": 7,
   "metadata": {},
   "outputs": [
    {
     "name": "stdout",
     "output_type": "stream",
     "text": [
      "mean: 40.277060840095466\n"
     ]
    }
   ],
   "source": [
    "psi_mean = np.mean(psi)\n",
    "print('mean:', psi_mean)"
   ]
  },
  {
   "cell_type": "code",
   "execution_count": 8,
   "metadata": {},
   "outputs": [
    {
     "name": "stdout",
     "output_type": "stream",
     "text": [
      "median 9.247443\n"
     ]
    }
   ],
   "source": [
    "psi_median = np.median(psi)\n",
    "print('median', psi_median)"
   ]
  },
  {
   "cell_type": "code",
   "execution_count": 9,
   "metadata": {},
   "outputs": [
    {
     "name": "stdout",
     "output_type": "stream",
     "text": [
      "sd: 90.67835602080288\n"
     ]
    }
   ],
   "source": [
    "psi_std = np.std(psi)\n",
    "print('sd:', psi_std)"
   ]
  },
  {
   "cell_type": "markdown",
   "metadata": {},
   "source": [
    "---"
   ]
  },
  {
   "cell_type": "markdown",
   "metadata": {},
   "source": [
    "### Task: Visualise the data\n"
   ]
  },
  {
   "cell_type": "code",
   "execution_count": 10,
   "metadata": {},
   "outputs": [],
   "source": [
    "import matplotlib.pyplot as plt"
   ]
  },
  {
   "cell_type": "markdown",
   "metadata": {},
   "source": [
    "$\\phi$:"
   ]
  },
  {
   "cell_type": "code",
   "execution_count": 11,
   "metadata": {},
   "outputs": [
    {
     "data": {
      "image/png": "[encoded data removed]",
      "text/plain": [
       "<Figure size 432x288 with 1 Axes>"
      ]
     },
     "metadata": {
      "needs_background": "light"
     },
     "output_type": "display_data"
    }
   ],
   "source": [
    "plt.hist(phi,bins=100,color='gray')\n",
    "plt.xlabel('phi')\n",
    "plt.vlines( phi_mean, 0, 21, colors='blue' )\n",
    "plt.text( phi_mean + 1, 20, 'mean=' + str(np.round(phi_mean,3)), color='blue', fontsize='large')\n",
    "plt.vlines( phi_median, 0, 25, colors='green' )\n",
    "plt.text( phi_median + 1, 24, 'median=' + str(np.round(phi_median,3)), color='green', fontsize='large')\n",
    "plt.show()"
   ]
  },
  {
   "cell_type": "markdown",
   "metadata": {},
   "source": [
    "The mean is not really useful for a skewed distribution, but the median is a reasonable representative point for most of the data here. The relatively small number of positive values have not drastically affected the position of the median:"
   ]
  },
  {
   "cell_type": "code",
   "execution_count": 12,
   "metadata": {},
   "outputs": [
    {
     "data": {
      "text/plain": [
       "-85.7109445"
      ]
     },
     "execution_count": 12,
     "metadata": {},
     "output_type": "execute_result"
    }
   ],
   "source": [
    "np.median(phi[(phi < 0)])"
   ]
  },
  {
   "cell_type": "markdown",
   "metadata": {},
   "source": [
    "$\\psi$:"
   ]
  },
  {
   "cell_type": "code",
   "execution_count": 13,
   "metadata": {},
   "outputs": [
    {
     "data": {
      "image/png": "[encoded data removed]",
      "text/plain": [
       "<Figure size 432x288 with 1 Axes>"
      ]
     },
     "metadata": {
      "needs_background": "light"
     },
     "output_type": "display_data"
    }
   ],
   "source": [
    "plt.hist(psi,bins=100,color='gray')\n",
    "plt.xlabel('psi')\n",
    "plt.vlines( psi_mean, 0, 17, colors='blue' )\n",
    "plt.text( psi_mean + 1, 16, 'mean=' + str(np.round(psi_mean,3)), color='blue', fontsize='large')\n",
    "plt.vlines( psi_median, 0, 20, colors='green' )\n",
    "plt.text( psi_median + 1, 19, 'median=' + str(np.round(psi_median,3)), color='green', fontsize='large')\n",
    "plt.show()"
   ]
  },
  {
   "cell_type": "markdown",
   "metadata": {},
   "source": [
    "In this bimodal distribution, neither the mean nor the median are useful summary statistics. We will need to model the data in a way that captures this more complex shape."
   ]
  },
  {
   "cell_type": "markdown",
   "metadata": {},
   "source": [
    "---"
   ]
  },
  {
   "cell_type": "markdown",
   "metadata": {},
   "source": [
    "### Task: Joint distribution\n"
   ]
  },
  {
   "cell_type": "code",
   "execution_count": 14,
   "metadata": {},
   "outputs": [
    {
     "data": {
      "image/png": "[encoded data removed]",
      "text/plain": [
       "<Figure size 432x288 with 1 Axes>"
      ]
     },
     "metadata": {
      "needs_background": "light"
     },
     "output_type": "display_data"
    }
   ],
   "source": [
    "plt.scatter(phi, psi, color='gray', marker='.')\n",
    "plt.xlabel('phi')\n",
    "plt.ylabel('psi')\n",
    "plt.show()"
   ]
  },
  {
   "cell_type": "markdown",
   "metadata": {},
   "source": [
    "### Task: Gaussian mixture model\n"
   ]
  },
  {
   "cell_type": "code",
   "execution_count": 15,
   "metadata": {},
   "outputs": [],
   "source": [
    "from sklearn.mixture import GaussianMixture\n",
    "gmm = GaussianMixture(n_components=3, covariance_type='diag', random_state=0).fit(data)"
   ]
  },
  {
   "cell_type": "code",
   "execution_count": 16,
   "metadata": {},
   "outputs": [
    {
     "data": {
      "image/png": "[encoded data removed]",
      "text/plain": [
       "<Figure size 432x288 with 1 Axes>"
      ]
     },
     "metadata": {
      "needs_background": "light"
     },
     "output_type": "display_data"
    }
   ],
   "source": [
    "plt.scatter(phi,psi, color='gray', marker='.')\n",
    "plt.xlabel('phi')\n",
    "plt.ylabel('psi')\n",
    "for i in range(len(gmm.means_)):\n",
    "    phi_bar = gmm.means_[i,0]\n",
    "    psi_bar = gmm.means_[i,1]\n",
    "    sd = np.sqrt(gmm.covariances_)\n",
    "    plt.plot(phi_bar,psi_bar, marker='o')\n",
    "    plt.hlines(psi_bar,phi_bar-sd[i,0],phi_bar+sd[i,0])\n",
    "    plt.vlines(phi_bar,psi_bar-sd[i,1],psi_bar+sd[i,1])\n",
    "\n",
    "plt.show()"
   ]
  },
  {
   "cell_type": "markdown",
   "metadata": {},
   "source": [
    "### Question:\n",
    "How could we improve on this model?"
   ]
  },
  {
   "cell_type": "markdown",
   "metadata": {},
   "source": [
    "The top-left component seems quite well represented by the model, but the others less so. We can improve the model by changing the `covariance_type` to capture the dependence between $\\phi$ and $\\psi$ - e.g. for the bottom-left component the two variables seem to be negatively correlated.\n",
    "\n",
    "Additionally, we could consider adding more Gaussian components, to more accurately capture the distribution on the right side of the plot."
   ]
  },
  {
   "cell_type": "markdown",
   "metadata": {},
   "source": [
    "---"
   ]
  }
 ],
 "metadata": {
  "kernelspec": {
   "display_name": "Python 3",
   "language": "python",
   "name": "python3"
  },
  "language_info": {
   "codemirror_mode": {
    "name": "ipython",
    "version": 3
   },
   "file_extension": ".py",
   "mimetype": "text/x-python",
   "name": "python",
   "nbconvert_exporter": "python",
   "pygments_lexer": "ipython3",
   "version": "3.8.3"
  }
 },
 "nbformat": 4,
 "nbformat_minor": 4
}
