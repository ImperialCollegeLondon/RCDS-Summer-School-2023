{
 "cells": [
  {
   "cell_type": "markdown",
   "metadata": {},
   "source": [
    "# Types of data\n",
    "\n",
    "Before diving into the various statistics we can use to describe sampled data, we need to think carefully about the different *types* of data we might have collected. There are two basic data types used in statistics: **quantitative** and **categorical**:"
   ]
  },
  {
   "cell_type": "markdown",
   "metadata": {},
   "source": [
    "## Quantitative data\n",
    "Quantitative data arise from a *measurement* or a *counting* process. We can distinguish between two subtypes:"
   ]
  },
  {
   "cell_type": "markdown",
   "metadata": {},
   "source": [
    "### Continuous data \n",
    "(*any value is allowed, within a relevant interval*)\n",
    "\n",
    "* Relative humidity\n",
    "* Maximum velocity achieved by a projectile\n"
   ]
  },
  {
   "cell_type": "markdown",
   "metadata": {},
   "source": [
    "### Discrete data \n",
    "(*only specific values are allowed*)\n",
    "\n",
    "* Number of chlorine atoms in a molecule\n",
    "* Shoe size (including UK half sizes!)\n"
   ]
  },
  {
   "cell_type": "markdown",
   "metadata": {},
   "source": [
    "## Categorical data\n",
    "With categorical data, there are *no relevant numerical relationships* between the values that we might collect. Once again, we distinguish between two subtypes:"
   ]
  },
  {
   "cell_type": "markdown",
   "metadata": {},
   "source": [
    "### Nominal data \n",
    "(*values have no relevant ordering*)\n",
    "\n",
    "* Manufacturer of a SARS-CoV-2 vaccine\n",
    "* Genus of an insect\n"
   ]
  },
  {
   "cell_type": "markdown",
   "metadata": {},
   "source": [
    "### Ordinal data \n",
    "(*values have a relevant ordering*)\n",
    "\n",
    "* Degree of agreement (e.g. a [Likert scale](https://en.wikipedia.org/wiki/Likert_scale))\n",
    "* Perceived expertise (e.g. beginner / intermediate / advanced)\n"
   ]
  },
  {
   "cell_type": "markdown",
   "metadata": {},
   "source": [
    "## Exercise\n",
    "Describe the (conceptual, not python!) data types of the following:\n",
    "\n",
    "1. Number of insects caught in a trap\n",
    "2. Blood pressure\n",
    "3. Colour\n",
    "4. Change in number of coal-fired power stations in a country, 2000-2020\n",
    "5. Amount of mRNA\n",
    "6. Happiness\n",
    "7. Energy change\n",
    "8. Type of a rock\n",
    "9. Petal length in the iris dataset\n",
    "10. Developmental stage of an animal\n",
    "\n",
    "\n",
    "Discuss your answers with a neighbour :)"
   ]
  },
  {
   "cell_type": "markdown",
   "metadata": {},
   "source": []
  },
  {
   "cell_type": "markdown",
   "metadata": {},
   "source": [
    "---"
   ]
  }
 ],
 "metadata": {
  "kernelspec": {
   "display_name": "Python 3",
   "language": "python",
   "name": "python3"
  },
  "language_info": {
   "codemirror_mode": {
    "name": "ipython",
    "version": 3
   },
   "file_extension": ".py",
   "mimetype": "text/x-python",
   "name": "python",
   "nbconvert_exporter": "python",
   "pygments_lexer": "ipython3",
   "version": "3.8.3"
  }
 },
 "nbformat": 4,
 "nbformat_minor": 4
}
