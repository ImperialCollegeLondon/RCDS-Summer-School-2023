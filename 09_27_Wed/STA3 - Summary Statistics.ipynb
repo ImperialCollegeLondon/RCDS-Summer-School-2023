{
 "cells": [
  {
   "cell_type": "markdown",
   "metadata": {},
   "source": [
    "# Summary Statistics\n",
    "\n",
    "In this section, we will revise some of the basic statistics used to summarise data.\n",
    "\n",
    "Here is a sample of (discrete) data:"
   ]
  },
  {
   "cell_type": "code",
   "execution_count": null,
   "metadata": {},
   "outputs": [],
   "source": [
    "import numpy as np\n",
    "\n",
    "data = np.array([ 31,  57,  27,  65,  16,  46,  35,  57,  43,  35,  53,  40,  32,\n",
    "        26,  39,  18,  42,  37,  35,  38,  61,  61,  31,  43,  25,  54,\n",
    "        29,  24,  11,  61,  27,   7,  30,  46,  22,  14,  46,  48,  21,\n",
    "        41,  44,  18,  45,  10,  22,  53,  26,  43,  56,  48,  43,   8,\n",
    "        55,  37,  24,  12,  21,  16,  34,  21,  19, 105,  12,  39,  25,\n",
    "        84,  68,  49,  51,  26,  40,  22,  42,  72,  68,   5,  19,  21,\n",
    "        53,  25,  50,  57,  25,  54,  39,  68,  15,  65,  68,  30,  16,\n",
    "        51,  27,  14,  44,  30,  62,  26,  73,  76,  32,  48,  43,  29,\n",
    "        49,  20,  35,  33,  75,  20,  25,  21,  26,  24,  64,  34,  81,\n",
    "        10,  19,  29,  37,  42,  62,  68,  56,  35,  75,  22, 109,  54,\n",
    "        10,  26,  33,  29,  15,  40,  25,  18,  27,  43,  28,  24,  40,\n",
    "        34,  87,  15,  70,  44,  48,   9,  28,  24,  21,   7,  83,  32,\n",
    "        45,  45,  33,  27,  20,  14,  28,  78,  30,  46,  39,  28,  56,\n",
    "        11,  12,  12,  18,  30,  35,  18,  31,  12,  33,  25,   9,  16,\n",
    "        16,  58,  17,  63,  39,  28,  43,  39,  41,  49,  96,  57,  20,\n",
    "        20,  28,  36,  39,  16,  48,  27,  40,  58,  43,  17,  33,  29,\n",
    "        19,  46,  40,  17,  19,  23,  45,  53,  55,  27,  41,  23,  24,\n",
    "        23,  57,  15,  35,  27,  62,  12,  24,  13,  52,  63,  49,  63,\n",
    "         9,   4,   3,  33,  51,  49,  42,  49,   8,  46,  38,  49,   5,\n",
    "        29,  66,  43,  28,  17,  56,  55,  39,  31,  21,  37,  41,  15,\n",
    "        21,  22, 118,  21,  36,  16,  51,  75,  18,  17,  29,  70,  51,\n",
    "        36,  43,  17,  42,  53,  58,  35,  58,  26,  20,  29,  29,  21,\n",
    "        21,  30,  14,  27,  39,  42,  22,  54,  39,  56,  59,  37,  67,\n",
    "        33,  37,  14,  46,  18,  30,  31,  16,  12,  54,  33,  18,  21,\n",
    "        50,  39,  15,  30,  45,  36,  41,  15,  33,  63,  59,  40,  32,\n",
    "        16,  27,  65,  76,  32,  27,  61,  25,  24,  21,  64,  78,  16,\n",
    "        26,  57,  13,   7,  45,  39,  42,  18,  10,  61,  33,  28,  24,\n",
    "        18,  37,  65,  42,  23,  24,  50,  44,  83,  55,  27,  29,  74,\n",
    "        53,  21,  19,  60,  15,  60,  31,  43,  25,  56,  67,  14,  28,\n",
    "        29,  29,  36,  15,  29,  30,  28,  40,  43,  58,  12,  58,   9,\n",
    "        48,  25,  54,  65,  11,   9,  12,  48,  40,  43,  21,  66,  27,\n",
    "        44,  53,  14,  20,  34,  31,  26,  23,  50,  43,  45,  45,  33,\n",
    "        64,  18,  18,  56,  21,  25,  29,  59,  37,  62,  29,  50,  15,\n",
    "        36,  39,  19,  10,  30,  41,  40,  12,  29,  35,  58,  27,  38,\n",
    "        44,  32,  30,  31,  44,   6,  12,  62,  23,  45,  36,  32,  43,\n",
    "        43,  44,  23,  65,  29,  11,  39,  35,  22,  35,  41,  28,  56,\n",
    "        33,  27,  35,   4,  57,  37,  33,  16,  51,  11,  42,  48, 100,\n",
    "        51,  38,  36,  46,  45,  29,  32,  12,  36,  34,  12,  47,  88,\n",
    "        38,  82,  41,  28,  56,  41,  27,  57,   9,  38,  29,  29,  28,\n",
    "        39,  29,  42,  70,  52,  18,  76,  32,  11,  33,  21,  77,  42,\n",
    "        40,  19,  19,  41,  51,  26,  67,  16,  17,  66,  89,  62,  26,\n",
    "        46,  50,  21,  36,  21,  23,  35,  58,  23,  37,  40,  58,  55,\n",
    "        21,  19,  36,  36,  30,  19,  15,  91,  57,  11,  20,  13,  29,\n",
    "        17,  24,  50,  48,  48,  62,  43,  27,  36,  91,  13,  25,  35,\n",
    "         3,  13,  42,  19,  48,  12,  59,  60,  25,  32,  22,  25,  36,\n",
    "        42,  19,  25,  24,   9,  12,  70,  36,  15,  76,  29,  34,  35,\n",
    "        13,  23,  51,  52,  78,  12,  18,  65,  42,  39,  19,  80,  22,\n",
    "        37,  32,  31,  26,   6,  65,  37,  20,  57,  52,  33,  50,  83,\n",
    "        28,  23,  24,   7,  44,  46,  20,  61,  52,  88,  34,  52,  36,\n",
    "        24,  38,  26,  69,   5,  16,  13,  52,  23,  20,  32,  13,  18,\n",
    "        12,  50,  24,   8,  77,  39,  30,  44,  59,  17,  42,  32,  52,\n",
    "        34,  24,  11,  46,  39,  41,  31,  15,  42,  47,  22,  53,  94,\n",
    "         9,  36,  19,  28,  13,  45,  71,  18,  27,  34,  31,  31,  84,\n",
    "        20,   8,  23,  49,  46,  59,  16,  29,  33,  27,  21,  86,  36,\n",
    "        31,  32,  29,  34,  18,  33,  24,  18,  17,  22,  12,  27,  52,\n",
    "        33,  19,  50,  59,  37,  45,  44,  30,  35,  61,  22,  47,  70,\n",
    "        14,  26,  35,  45,  15,  25,  44,  19,  46,  29,  50,  24,  27,\n",
    "        30,  27,  25,  19,  38,  28,   9,  21,  22,  31,  17,  44,  20,\n",
    "         8,  14,  71,  85,  48,  45,  36,  27,  61,  32,  43,  22,  15,\n",
    "        48,  19,  56,  52,  14,  21,  21,  26,  18,  56,  34,  19,  20,\n",
    "        48,  61,  43,  58,  72,  32,  66,  23,  35,  40,  39,  31,  72,\n",
    "        14,  27,  19,  25,  23,  38,  14,  83,  86,  38,  55,  19,  25,\n",
    "        37,  23,  41,  77,  46,   9,  10,  19,  22,  74,  24,  15,  24,\n",
    "        45,  30,  32,   3,   8,   9,  46,  24,  59,  46,  30,  48,  33,\n",
    "        16,  29,  69,  28,  53, 121,  50,  36,  90,  32,  53,  14,  27,\n",
    "        31,  22,  46,  35,  29,  50,  41,  23,  62,  47,  31,  41,  21,\n",
    "        43,  73,  36,  26,  35,  35,  21,  16,  18,  56,  56,  26,  18,\n",
    "        57,  30,  31,  35,  38,  39,  80,  42,  51,  47,  26,  21,  34,\n",
    "        38,  38,  22,  12,  42,  17,  15,  26,  44,  40,  19,  19,  33,\n",
    "        64,  11,  27,  32,  35,  28,  64,  28,  52,  38,  58,  47,  69,\n",
    "        40,  17,  29,  48,  18,  65,  14,  16,  15,  69,  39,  19,  21,\n",
    "        31,  42,  12,   8,  36,  12,  36,  35,  38,  17,  15,  33,  71,\n",
    "        70,  14,  29,  12,  10,  44,  41,  49,  32,  55,  24,  27,  73,\n",
    "        42,  70,  35,  27,  37,  30,  32,  81,  63,  64,  20,  33,  10,\n",
    "        25,  30,  36,  68,  43,  23,  45,  21,  18,  25,  54,  16,  48,\n",
    "        40,  64,  38,  24,  44,  16,  27,  29,  48,  24,  25,  13,  48,\n",
    "        35,  31,  15,  57,  29,  65,  54,  31,  40,   8,  66,  43])\n"
   ]
  },
  {
   "cell_type": "code",
   "execution_count": null,
   "metadata": {},
   "outputs": [],
   "source": [
    "import matplotlib.pyplot as plt\n",
    "plt.hist(data)\n",
    "plt.show()"
   ]
  },
  {
   "cell_type": "markdown",
   "metadata": {},
   "source": [
    "---"
   ]
  },
  {
   "cell_type": "markdown",
   "metadata": {},
   "source": [
    "## Central Tendency\n",
    "\n",
    "These three measures all aim to describe the \"average\" value of the data distribution. Each one is relevant under different circumstances."
   ]
  },
  {
   "cell_type": "markdown",
   "metadata": {},
   "source": [
    "### Arithmetic mean\n",
    "*(quantitative data)*\n",
    "\n",
    "$$\n",
    "\\bar{x} = \\frac{1}{n} \\sum_{i=1}^{n} x_{i} ,\n",
    "$$\n",
    "where $x$ is the set of values in the sample and $n$ is the sample size.\n",
    "\n",
    "NB The mean can be a real (decimal) number even if the data themselves are discrete."
   ]
  },
  {
   "cell_type": "markdown",
   "metadata": {},
   "source": [
    "#### Exercise\n",
    "On Monday you wrote your own function to calculate the mean of a list of values. Check that it also works on the data above, which is a numpy array. "
   ]
  },
  {
   "cell_type": "code",
   "execution_count": null,
   "metadata": {},
   "outputs": [],
   "source": []
  },
  {
   "cell_type": "markdown",
   "metadata": {},
   "source": [
    "Of course, it will be helpful to have some pre-built statistics functions :)\n",
    "\n",
    "* [numpy stats functions](https://numpy.org/doc/stable/reference/routines.statistics.html)\n",
    "* [scipy.stats](https://docs.scipy.org/doc/scipy/reference/stats.html)"
   ]
  },
  {
   "cell_type": "markdown",
   "metadata": {},
   "source": [
    " repeat the above exercise using `numpy.mean()`"
   ]
  },
  {
   "cell_type": "code",
   "execution_count": null,
   "metadata": {},
   "outputs": [],
   "source": []
  },
  {
   "cell_type": "markdown",
   "metadata": {},
   "source": [
    "You could mark the mean on the histogram like so:"
   ]
  },
  {
   "cell_type": "code",
   "execution_count": null,
   "metadata": {},
   "outputs": [],
   "source": [
    "xbar = np.mean(data)\n",
    "\n",
    "plt.hist(data)\n",
    "plt.vlines( xbar, 0, 280, colors='blue' )\n",
    "plt.text( xbar + 2, 270, 'mean=' + str(xbar), color='blue', fontsize='large')\n",
    "plt.show()"
   ]
  },
  {
   "cell_type": "markdown",
   "metadata": {},
   "source": [
    "### Median\n",
    "*(quantitative data)*\n",
    "\n",
    "The median is the middle observation, such that  50% of data lies below its value. We order the data and select the middle value. If the sample size *n* is even, take the midpoint of the middle two values.\n"
   ]
  },
  {
   "cell_type": "markdown",
   "metadata": {},
   "source": [
    "#### Exercise \n",
    "Using only basic python, write a function `median()` to find the median value of a list of numbers. *Hint*: you will need to use `sorted()`"
   ]
  },
  {
   "cell_type": "code",
   "execution_count": null,
   "metadata": {},
   "outputs": [],
   "source": []
  },
  {
   "cell_type": "markdown",
   "metadata": {},
   "source": [
    "Try your function on the data provided above and compare to the result from `numpy.median()`"
   ]
  },
  {
   "cell_type": "code",
   "execution_count": null,
   "metadata": {},
   "outputs": [],
   "source": []
  },
  {
   "cell_type": "markdown",
   "metadata": {},
   "source": [
    "Clearly mark both the median and the mean on the histogram."
   ]
  },
  {
   "cell_type": "code",
   "execution_count": null,
   "metadata": {},
   "outputs": [],
   "source": []
  },
  {
   "cell_type": "markdown",
   "metadata": {},
   "source": [
    "Which of the two is a more representative value for this data set?"
   ]
  },
  {
   "cell_type": "markdown",
   "metadata": {},
   "source": []
  },
  {
   "cell_type": "markdown",
   "metadata": {},
   "source": [
    "### Mode\n",
    "*(categorical OR discrete data)*\n",
    "\n",
    "The mode is the value that occurs most frequently in the sample."
   ]
  },
  {
   "cell_type": "markdown",
   "metadata": {},
   "source": [
    "#### Exercise\n",
    "Using only basic python, write a function `mode()` to find the median value of a list of values."
   ]
  },
  {
   "cell_type": "code",
   "execution_count": null,
   "metadata": {},
   "outputs": [],
   "source": []
  },
  {
   "cell_type": "markdown",
   "metadata": {},
   "source": [
    "Try your function on the data provided and compare to the result from `scipy.stats.mode()` "
   ]
  },
  {
   "cell_type": "code",
   "execution_count": null,
   "metadata": {},
   "outputs": [],
   "source": []
  },
  {
   "cell_type": "markdown",
   "metadata": {},
   "source": [
    "---"
   ]
  },
  {
   "cell_type": "markdown",
   "metadata": {},
   "source": [
    "## Dispersion\n",
    "Dispersion measures aim to describe the *variability* of quantitative data - i.e. the degree to which it is spread out from the \"average\"."
   ]
  },
  {
   "cell_type": "markdown",
   "metadata": {},
   "source": [
    "### Inter-quartile range\n",
    "Similarly to the median, we can calculate *percentile* values that are greater than a specified proportion of the sampled data. The median is the same as the 50th percentile. *Quantile* is another name for percentile - we simply use a decimal value instead of a percentage."
   ]
  },
  {
   "cell_type": "code",
   "execution_count": null,
   "metadata": {},
   "outputs": [],
   "source": [
    "np.median(data)"
   ]
  },
  {
   "cell_type": "code",
   "execution_count": null,
   "metadata": {},
   "outputs": [],
   "source": [
    "np.quantile(data, 0.5)"
   ]
  },
  {
   "cell_type": "markdown",
   "metadata": {},
   "source": [
    "The difference between the 75th percentile (aka the upper quartile) and the 25th percentile (aka the lower quartile) is called the *inter-quartile range* (IQR), which is a good basic measure of dispersion"
   ]
  },
  {
   "cell_type": "code",
   "execution_count": null,
   "metadata": {},
   "outputs": [],
   "source": [
    "lq = np.quantile(data,0.25)\n",
    "uq = np.quantile(data,0.75)\n",
    "\n",
    "print(\"lower quartile:\",lq)\n",
    "print(\"upper quartile:\",uq)\n",
    "print(\"IQR:\",uq-lq)"
   ]
  },
  {
   "cell_type": "code",
   "execution_count": null,
   "metadata": {},
   "outputs": [],
   "source": [
    "from scipy.stats import iqr\n",
    "iqr(data)"
   ]
  },
  {
   "cell_type": "markdown",
   "metadata": {},
   "source": [
    "The IQR is the basis for the box-and-whisker plot:\n",
    "* the median is marked with a line\n",
    "* the upper and lower quartiles are marked with a box\n",
    "* the last data points within 1.5 $\\times$ IQR away from the box are marked with whiskers.\n",
    "* Any \"outlier\" values that are beyond the whiskers are marked with circles. "
   ]
  },
  {
   "cell_type": "code",
   "execution_count": null,
   "metadata": {},
   "outputs": [],
   "source": [
    "plt.boxplot(data)\n",
    "plt.show()"
   ]
  },
  {
   "cell_type": "markdown",
   "metadata": {},
   "source": [
    "The box plot can be a useful tool for summarising and comparing distributions, but bear in mind that it completely hides the *shape* of the distribution, so it can sometimes be misleading."
   ]
  },
  {
   "cell_type": "markdown",
   "metadata": {},
   "source": [
    "### Variance\n",
    "$$\n",
    "s^2 = \\frac{1}{n} \\sum_{i=1}^{n} (x_i - \\bar{x})^2\n",
    "$$"
   ]
  },
  {
   "cell_type": "markdown",
   "metadata": {},
   "source": [
    "#### Exercise\n",
    "On Monday you wrote your own function to calculate the variance of a list of values. Check that it also works on the data above, and compare to the result from `np.var()`."
   ]
  },
  {
   "cell_type": "code",
   "execution_count": null,
   "metadata": {},
   "outputs": [],
   "source": []
  },
  {
   "cell_type": "markdown",
   "metadata": {},
   "source": [
    "The above definition of variance is used to *describe* the variance of the data sample itself. When we want to *infer* the variance of the population, we should use a slightly adjusted definition:\n",
    "\n",
    "$$\n",
    "\\sigma^2 = \\frac{1}{n - 1} \\sum_{i=1}^{n} (x_i - \\bar{x})^2\n",
    "$$\n",
    "\n",
    "You can switch to this definition using `ddof=1` as shown:"
   ]
  },
  {
   "cell_type": "code",
   "execution_count": null,
   "metadata": {},
   "outputs": [],
   "source": [
    "np.var(data, ddof=1)"
   ]
  },
  {
   "cell_type": "markdown",
   "metadata": {},
   "source": [
    "### Standard Deviation\n",
    "The standard deviation, $s$, is simply the square root of the variance, $s^2$. You can use"
   ]
  },
  {
   "cell_type": "code",
   "execution_count": null,
   "metadata": {},
   "outputs": [],
   "source": [
    "np.std(data)"
   ]
  },
  {
   "cell_type": "markdown",
   "metadata": {},
   "source": [
    "or to estimate the population standard deviation $\\sigma$, use"
   ]
  },
  {
   "cell_type": "code",
   "execution_count": null,
   "metadata": {},
   "outputs": [],
   "source": [
    "np.std(data, ddof=1)"
   ]
  },
  {
   "cell_type": "markdown",
   "metadata": {},
   "source": [
    "(this is often called the *sample standard deviation*, though this is a fairly ambiguous name!)"
   ]
  },
  {
   "cell_type": "markdown",
   "metadata": {},
   "source": [
    "---"
   ]
  },
  {
   "cell_type": "markdown",
   "metadata": {},
   "source": [
    "## Standard Error of the Mean\n",
    "\n",
    "If we want to use the sample mean $\\bar{x}$ as an estimate of the population mean $\\mu$ then it can be helpful to know how accurate this estimate is likely to be. If we have a very large sample size $n$ (and the sampling is random!) then it is clear that we will get a better estimate than if we only had two or three data points. The **standard error** is calculated from the (estimated) population standard deviation $\\sigma$ as\n",
    "$$\n",
    "\\text{SE} = \\frac{\\sigma}{\\sqrt{n}}\n",
    "$$"
   ]
  },
  {
   "cell_type": "code",
   "execution_count": null,
   "metadata": {},
   "outputs": [],
   "source": [
    "np.std(data, ddof=1)/np.sqrt(len(data))"
   ]
  },
  {
   "cell_type": "markdown",
   "metadata": {},
   "source": [
    "We make use of the standard error in a concise presentation of the estimated population mean, e.g.\n",
    "$$\n",
    "\\mu = 3.76 \\pm 0.84\n",
    "$$"
   ]
  },
  {
   "cell_type": "markdown",
   "metadata": {},
   "source": [
    "Another important use of the standard error is for calculating error bars on bar charts, when the height of each bar is representing a mean of several observed values - e.g. when an experiment has been repeated several times."
   ]
  },
  {
   "cell_type": "markdown",
   "metadata": {},
   "source": [
    "### Exercise\n",
    "Below are observations for each of three variables (a, b, c) from an experiment that was repeated three times.\n",
    "Draw a bar chart to show the estimated population means for a, b and c. Include error bars."
   ]
  },
  {
   "cell_type": "code",
   "execution_count": null,
   "metadata": {},
   "outputs": [],
   "source": [
    "a = [1.5, 1.6, 1.5]\n",
    "b = [8.3, 5.0, 9.0]\n",
    "c = [10.0, 11.0, 8.5]\n"
   ]
  },
  {
   "cell_type": "markdown",
   "metadata": {},
   "source": [
    "---"
   ]
  },
  {
   "cell_type": "markdown",
   "metadata": {},
   "source": [
    "## Pearson's Product Moment Correlation Coefficient"
   ]
  },
  {
   "cell_type": "markdown",
   "metadata": {},
   "source": [
    "This is another useful summary statistic when we are looking at paired sets of values $(x,y)$ - i.e. any pair of variables that we could plot on a scatter plot\n",
    "\n",
    "$$\n",
    "r = \\frac{ \\sum{ x_{i} y_{i} } - n \\bar{x} \\bar{y} } {(n - 1) s_{x} s_{y}},\n",
    "$$\n",
    "\n",
    "where $s_{x}$ and $s_{y}$ are the standard deviations of the individual variables $x$ and $y$.\n",
    "\n",
    "Pearson's $r$ varies from -1 (perfectly anticorrelated) to 1 (perfectly correlated). Values close to 0 show weak, possibly statistically insignificant correlations."
   ]
  },
  {
   "cell_type": "markdown",
   "metadata": {},
   "source": [
    "### Example\n",
    "\n",
    "The file *compounds.txt* contains data for molecular compounds. Two attributes are recorded for each compound - the polar surface area (**psa**) and the predicted hydrophobicity (**alogp**). Does hydrophobicity depend on polar surface area?"
   ]
  },
  {
   "cell_type": "code",
   "execution_count": null,
   "metadata": {},
   "outputs": [],
   "source": [
    "compound_data = np.loadtxt('compounds.txt')\n",
    "psa = compound_data[:,0]\n",
    "alogp = compound_data[:,1]"
   ]
  },
  {
   "cell_type": "markdown",
   "metadata": {},
   "source": [
    "First let's draw the scatter plot:"
   ]
  },
  {
   "cell_type": "code",
   "execution_count": null,
   "metadata": {},
   "outputs": [],
   "source": [
    "import matplotlib.pyplot as plt\n",
    "plt.scatter(psa, alogp, c='gray', alpha=0.5)\n",
    "plt.xlabel('psa')\n",
    "plt.ylabel('alogp')\n",
    "plt.show()"
   ]
  },
  {
   "cell_type": "markdown",
   "metadata": {},
   "source": [
    "It seems that there is a negative correlation: as **psa** increases, **alogp** decreases.\n",
    "Let's quantify this using Pearson's $r$:"
   ]
  },
  {
   "cell_type": "code",
   "execution_count": null,
   "metadata": {},
   "outputs": [],
   "source": [
    "from scipy.stats import pearsonr\n",
    "r, pval = pearsonr(psa, alogp)\n",
    "print('r=',r)"
   ]
  },
  {
   "cell_type": "markdown",
   "metadata": {},
   "source": [
    "This value corresponds to moderate negative correlation, which is what we observed in the figure. The other value returned by the function (`pval`) is called a *p-value*, which is used to assess whether the statistical significance of the correlation. We will discuss p-values more in tomorrow's session!"
   ]
  },
  {
   "cell_type": "markdown",
   "metadata": {},
   "source": [
    "To complete the figure, let's add a regression line and annotate with the value of $r$ that we just calculated:"
   ]
  },
  {
   "cell_type": "code",
   "execution_count": null,
   "metadata": {},
   "outputs": [],
   "source": [
    "# Fit linear regression via least squares with numpy.polyfit\n",
    "# It returns an slope (m) and y-intercept (c)\n",
    "# deg=1 means linear fit (i.e. polynomial of degree 1)\n",
    "m, c = np.polyfit(psa, alogp, deg=1)"
   ]
  },
  {
   "cell_type": "code",
   "execution_count": null,
   "metadata": {},
   "outputs": [],
   "source": [
    "plt.scatter(psa, alogp, c='gray',alpha=0.5)\n",
    "\n",
    "# Create a sequence of 100 numbers spanning the range of psa\n",
    "xseq = np.linspace(min(psa), max(psa), num=100)\n",
    "\n",
    "# Plot regression line\n",
    "plt.plot(xseq, m * xseq + c, color=\"k\", lw=2.5)\n",
    "plt.text(320, 0, 'r='+str(round(r,3)))\n",
    "plt.show()"
   ]
  },
  {
   "cell_type": "markdown",
   "metadata": {},
   "source": [
    "---"
   ]
  }
 ],
 "metadata": {
  "kernelspec": {
   "display_name": "Python 3",
   "language": "python",
   "name": "python3"
  },
  "language_info": {
   "codemirror_mode": {
    "name": "ipython",
    "version": 3
   },
   "file_extension": ".py",
   "mimetype": "text/x-python",
   "name": "python",
   "nbconvert_exporter": "python",
   "pygments_lexer": "ipython3",
   "version": "3.8.3"
  }
 },
 "nbformat": 4,
 "nbformat_minor": 4
}
