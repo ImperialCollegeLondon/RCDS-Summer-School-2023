{
 "cells": [
  {
   "cell_type": "markdown",
   "metadata": {},
   "source": [
    "# Working with Grouped Data\n",
    "\n",
    "Cases often belong to distinct groups that we want to compare with each other in some way. \n",
    "\n",
    "Let's load the countries data once again:"
   ]
  },
  {
   "cell_type": "code",
   "execution_count": 39,
   "metadata": {},
   "outputs": [],
   "source": [
    "import pandas as pd"
   ]
  },
  {
   "cell_type": "code",
   "execution_count": 40,
   "metadata": {},
   "outputs": [
    {
     "data": {
      "text/html": [
       "<div>\n",
       "<style scoped>\n",
       "    .dataframe tbody tr th:only-of-type {\n",
       "        vertical-align: middle;\n",
       "    }\n",
       "\n",
       "    .dataframe tbody tr th {\n",
       "        vertical-align: top;\n",
       "    }\n",
       "\n",
       "    .dataframe thead th {\n",
       "        text-align: right;\n",
       "    }\n",
       "</style>\n",
       "<table border=\"1\" class=\"dataframe\">\n",
       "  <thead>\n",
       "    <tr style=\"text-align: right;\">\n",
       "      <th></th>\n",
       "      <th>geo</th>\n",
       "      <th>name</th>\n",
       "      <th>four_regions</th>\n",
       "      <th>eight_regions</th>\n",
       "      <th>six_regions</th>\n",
       "      <th>members_oecd_g77</th>\n",
       "      <th>Latitude</th>\n",
       "      <th>Longitude</th>\n",
       "      <th>UN member since</th>\n",
       "      <th>World bank region</th>\n",
       "      <th>World bank, 4 income groups 2017</th>\n",
       "    </tr>\n",
       "  </thead>\n",
       "  <tbody>\n",
       "    <tr>\n",
       "      <th>0</th>\n",
       "      <td>afg</td>\n",
       "      <td>Afghanistan</td>\n",
       "      <td>asia</td>\n",
       "      <td>asia_west</td>\n",
       "      <td>south_asia</td>\n",
       "      <td>g77</td>\n",
       "      <td>33.00000</td>\n",
       "      <td>66.00000</td>\n",
       "      <td>1946-11-19</td>\n",
       "      <td>South Asia</td>\n",
       "      <td>Low income</td>\n",
       "    </tr>\n",
       "    <tr>\n",
       "      <th>1</th>\n",
       "      <td>alb</td>\n",
       "      <td>Albania</td>\n",
       "      <td>europe</td>\n",
       "      <td>europe_east</td>\n",
       "      <td>europe_central_asia</td>\n",
       "      <td>others</td>\n",
       "      <td>41.00000</td>\n",
       "      <td>20.00000</td>\n",
       "      <td>1955-12-14</td>\n",
       "      <td>Europe &amp; Central Asia</td>\n",
       "      <td>Upper middle income</td>\n",
       "    </tr>\n",
       "    <tr>\n",
       "      <th>2</th>\n",
       "      <td>dza</td>\n",
       "      <td>Algeria</td>\n",
       "      <td>africa</td>\n",
       "      <td>africa_north</td>\n",
       "      <td>middle_east_north_africa</td>\n",
       "      <td>g77</td>\n",
       "      <td>28.00000</td>\n",
       "      <td>3.00000</td>\n",
       "      <td>1962-10-08</td>\n",
       "      <td>Middle East &amp; North Africa</td>\n",
       "      <td>Upper middle income</td>\n",
       "    </tr>\n",
       "    <tr>\n",
       "      <th>3</th>\n",
       "      <td>and</td>\n",
       "      <td>Andorra</td>\n",
       "      <td>europe</td>\n",
       "      <td>europe_west</td>\n",
       "      <td>europe_central_asia</td>\n",
       "      <td>others</td>\n",
       "      <td>42.50779</td>\n",
       "      <td>1.52109</td>\n",
       "      <td>1993-07-28</td>\n",
       "      <td>Europe &amp; Central Asia</td>\n",
       "      <td>High income</td>\n",
       "    </tr>\n",
       "    <tr>\n",
       "      <th>4</th>\n",
       "      <td>ago</td>\n",
       "      <td>Angola</td>\n",
       "      <td>africa</td>\n",
       "      <td>africa_sub_saharan</td>\n",
       "      <td>sub_saharan_africa</td>\n",
       "      <td>g77</td>\n",
       "      <td>-12.50000</td>\n",
       "      <td>18.50000</td>\n",
       "      <td>1976-12-01</td>\n",
       "      <td>Sub-Saharan Africa</td>\n",
       "      <td>Lower middle income</td>\n",
       "    </tr>\n",
       "  </tbody>\n",
       "</table>\n",
       "</div>"
      ],
      "text/plain": [
       "   geo         name four_regions       eight_regions  \\\n",
       "0  afg  Afghanistan         asia           asia_west   \n",
       "1  alb      Albania       europe         europe_east   \n",
       "2  dza      Algeria       africa        africa_north   \n",
       "3  and      Andorra       europe         europe_west   \n",
       "4  ago       Angola       africa  africa_sub_saharan   \n",
       "\n",
       "                six_regions members_oecd_g77  Latitude  Longitude  \\\n",
       "0                south_asia              g77  33.00000   66.00000   \n",
       "1       europe_central_asia           others  41.00000   20.00000   \n",
       "2  middle_east_north_africa              g77  28.00000    3.00000   \n",
       "3       europe_central_asia           others  42.50779    1.52109   \n",
       "4        sub_saharan_africa              g77 -12.50000   18.50000   \n",
       "\n",
       "  UN member since           World bank region World bank, 4 income groups 2017  \n",
       "0      1946-11-19                  South Asia                       Low income  \n",
       "1      1955-12-14       Europe & Central Asia              Upper middle income  \n",
       "2      1962-10-08  Middle East & North Africa              Upper middle income  \n",
       "3      1993-07-28       Europe & Central Asia                      High income  \n",
       "4      1976-12-01          Sub-Saharan Africa              Lower middle income  "
      ]
     },
     "execution_count": 40,
     "metadata": {},
     "output_type": "execute_result"
    }
   ],
   "source": [
    "countries = pd.read_excel(\"data_geographies_v1.xlsx\", sheet_name = \"list-of-countries-etc\")\n",
    "countries.head()"
   ]
  },
  {
   "cell_type": "markdown",
   "metadata": {},
   "source": [
    "Imagine you are investigating how latitude affects skin cancer risk. Here's the overall distribution of latitudes for all countries:"
   ]
  },
  {
   "cell_type": "code",
   "execution_count": 41,
   "metadata": {},
   "outputs": [
    {
     "data": {
      "image/png": "[encoded data removed]",
      "text/plain": [
       "<Figure size 432x288 with 1 Axes>"
      ]
     },
     "metadata": {
      "needs_background": "light"
     },
     "output_type": "display_data"
    }
   ],
   "source": [
    "import matplotlib.pyplot as plt\n",
    "\n",
    "plt.hist(countries['Latitude'])\n",
    "plt.show()"
   ]
  },
  {
   "cell_type": "markdown",
   "metadata": {},
   "source": [
    "You might want to summarise data collected from different regions. We can easily visualise the distributions of latitude for different subgroups of countries using a box plot:"
   ]
  },
  {
   "cell_type": "code",
   "execution_count": 43,
   "metadata": {},
   "outputs": [
    {
     "data": {
      "image/png": "[encoded data removed]",
      "text/plain": [
       "<Figure size 432x288 with 1 Axes>"
      ]
     },
     "metadata": {
      "needs_background": "light"
     },
     "output_type": "display_data"
    }
   ],
   "source": [
    "countries.boxplot('Latitude', by='eight_regions', grid=False, rot=90 )\n",
    "plt.show()"
   ]
  },
  {
   "cell_type": "markdown",
   "metadata": {},
   "source": [
    "The boxplot shows the median latitude for each group of countries.\n",
    "How can we get hold of these values?"
   ]
  },
  {
   "cell_type": "markdown",
   "metadata": {},
   "source": [
    "### `groupby()`\n",
    "\n",
    "Pandas allows you to define groups of rows and construct summary statistics for each group:"
   ]
  },
  {
   "cell_type": "code",
   "execution_count": 44,
   "metadata": {},
   "outputs": [],
   "source": [
    "grouped = countries.groupby(\"eight_regions\")"
   ]
  },
  {
   "cell_type": "code",
   "execution_count": 45,
   "metadata": {},
   "outputs": [
    {
     "data": {
      "text/plain": [
       "eight_regions\n",
       "africa_north          28.000000\n",
       "africa_sub_saharan     3.850000\n",
       "america_north         15.500000\n",
       "america_south        -10.000000\n",
       "asia_west             30.000000\n",
       "east_asia_pacific      5.712000\n",
       "europe_east           46.041665\n",
       "europe_west           47.166670\n",
       "Name: Latitude, dtype: float64"
      ]
     },
     "execution_count": 45,
     "metadata": {},
     "output_type": "execute_result"
    }
   ],
   "source": [
    "grouped['Latitude'].median()"
   ]
  },
  {
   "cell_type": "markdown",
   "metadata": {},
   "source": [
    "#### Exercise\n"
   ]
  },
  {
   "cell_type": "markdown",
   "metadata": {},
   "source": [
    "Find means and standard deviations of **petal_length** for the three different species of iris in the file *iris.csv*."
   ]
  },
  {
   "cell_type": "code",
   "execution_count": null,
   "metadata": {},
   "outputs": [],
   "source": []
  },
  {
   "cell_type": "markdown",
   "metadata": {},
   "source": [
    "Plot the total global CO2 emissions for each year.\n"
   ]
  },
  {
   "cell_type": "code",
   "execution_count": null,
   "metadata": {},
   "outputs": [],
   "source": []
  },
  {
   "cell_type": "markdown",
   "metadata": {},
   "source": [
    "***"
   ]
  }
 ],
 "metadata": {
  "kernelspec": {
   "display_name": "Python 3",
   "language": "python",
   "name": "python3"
  },
  "language_info": {
   "codemirror_mode": {
    "name": "ipython",
    "version": 3
   },
   "file_extension": ".py",
   "mimetype": "text/x-python",
   "name": "python",
   "nbconvert_exporter": "python",
   "pygments_lexer": "ipython3",
   "version": "3.8.3"
  }
 },
 "nbformat": 4,
 "nbformat_minor": 4
}
