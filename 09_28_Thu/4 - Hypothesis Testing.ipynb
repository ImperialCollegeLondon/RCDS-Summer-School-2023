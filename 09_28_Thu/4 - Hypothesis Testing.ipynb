{
 "cells": [
  {
   "cell_type": "markdown",
   "metadata": {},
   "source": [
    "# Hypothesis Testing\n",
    "\n",
    "In this session we will take a look at some basic hypothesis tests and how we can carry them out with pandas data."
   ]
  },
  {
   "cell_type": "markdown",
   "metadata": {},
   "source": [
    "---\n",
    "## Definitions\n",
    "\n",
    "### Null and Alternative Hypotheses\n",
    "\n",
    "The *null hypothesis* $H_0$ and *alternative hypothesis* $H_1$ are always two rival hypothesis, e.g.\n",
    "* $H_0$: $\\mu = 0$; \n",
    "* $H_1$: $\\mu \\ne 0$\n",
    "\n",
    "The null hypothesis is the one that can be modelled (i.e. the parameters are defined)."
   ]
  },
  {
   "cell_type": "markdown",
   "metadata": {},
   "source": [
    "### Test statistic\n",
    "A quantity derived from the sample, used in hypothesis testing."
   ]
  },
  {
   "cell_type": "markdown",
   "metadata": {},
   "source": [
    "### p-value\n",
    "The probability of obtaining an observation as extreme or more extreme than the test statistic, assuming that the null hypothesis is true.\n",
    "e.g. $p = 0.03$\n",
    "\n",
    "The smaller the p-value is, the more unlikely the observation would be to occur if $H_0$ were true."
   ]
  },
  {
   "cell_type": "markdown",
   "metadata": {},
   "source": [
    "### Significance level\n",
    "The significance level, $\\alpha$, is used to assess the p-value, and it must be selected in advance of the hypothesis test. \n",
    "\n",
    "We will *reject $H_0$* when $p < \\alpha$. \n",
    "\n",
    "From the definition of the p-value, $\\alpha$ is the probability of incorrectly rejecting $H_0$ if it is true. This is known as the probability of a *Type-I error*.\n",
    "\n",
    "By choosing a smaller $\\alpha$, we can specify a more conservative test.\n"
   ]
  },
  {
   "cell_type": "markdown",
   "metadata": {},
   "source": [
    "---\n",
    "## Hypothesis testing procedure\n",
    "\n",
    "There are three stages:\n",
    "\n",
    "### Planning\n",
    "1. Propose a research question.\n",
    "2. Formulate the null hypothesis $H_0$ and alternative hypothesis $H_1$.\n",
    "3. Choose an appropriate statistical test.\n",
    "4. Choose an appropriate significance level, $\\alpha$.\n",
    "\n",
    "If possible, it is considered best practice to formulate your hypothesis and choose your significance level **before** looking at the data, because looking at the data might influence your choices and therefore invalidate your hypothesis test. \n",
    "\n",
    "However, we often need to use data exploration to help us formulate interesting hypotheses. One way to deal with this problem might be to explore a small sample of the whole data set, then test the arising hypotheses on the remainder of the data.\n",
    "\n",
    "### Experiment\n",
    "5. Collect the data! \n",
    "6. Verify the data with some visualisation. \n",
    "7. If necessary, clean up the data set and remove any unreliable data points.\n",
    "\n",
    "Real data is often messy, and we must be certain that we trust that the data going into the hypothesis test is correct. Sometimes it is clear that a recorded value is incorrect, and must be discarded (e.g. a negative value for blood pressure). \n",
    "\n",
    "Of course, this does not mean that we can choose to throw away any extreme \"outlier\" values just because they look unusual! They may be important evidence that our current understanding of the process generating the data needs revising. This is what science is all about :)\n",
    "\n",
    "### Analysis\n",
    "7. Calculate the test statistic and the p-value.\n",
    "8. If $p < \\alpha$, reject $H_0$. \n",
    "9. If $p \\ge \\alpha$, we report that we \"cannot reject the null hypothesis\". \n",
    "\n",
    "In philosophy of science, it is considered to be impossible to demonstrate that the null hypothesis is **TRUE**. We can only look for evidence against it. Hence we should be careful about how we phrase the results of our tests.\n",
    "\n"
   ]
  },
  {
   "cell_type": "markdown",
   "metadata": {},
   "source": [
    "---"
   ]
  }
 ],
 "metadata": {
  "kernelspec": {
   "display_name": "Python 3",
   "language": "python",
   "name": "python3"
  },
  "language_info": {
   "codemirror_mode": {
    "name": "ipython",
    "version": 3
   },
   "file_extension": ".py",
   "mimetype": "text/x-python",
   "name": "python",
   "nbconvert_exporter": "python",
   "pygments_lexer": "ipython3",
   "version": "3.8.3"
  }
 },
 "nbformat": 4,
 "nbformat_minor": 4
}
