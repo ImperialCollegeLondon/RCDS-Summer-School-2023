{
 "cells": [
  {
   "cell_type": "markdown",
   "metadata": {},
   "source": [
    "# Hypothesis Testing\n",
    "\n",
    "In this session we will take a look at some basic hypothesis tests and how we can carry them out with pandas data."
   ]
  },
  {
   "cell_type": "markdown",
   "metadata": {},
   "source": [
    "---\n",
    "## Definitions\n",
    "\n",
    "### Null and Alternative Hypotheses\n",
    "\n",
    "The *null hypothesis* $H_0$ and *alternative hypothesis* $H_1$ are always two rival hypothesis, e.g.\n",
    "* $H_0$: $\\mu = 0$; \n",
    "* $H_1$: $\\mu \\ne 0$\n",
    "\n",
    "The null hypothesis is the one that can be modelled (i.e. the parameters are defined)."
   ]
  },
  {
   "cell_type": "markdown",
   "metadata": {},
   "source": [
    "### Test statistic\n",
    "A quantity derived from the sample, used in hypothesis testing."
   ]
  },
  {
   "cell_type": "markdown",
   "metadata": {},
   "source": [
    "### p-value\n",
    "The probability of obtaining an observation as extreme or more extreme than the test statistic, assuming that the null hypothesis is true.\n",
    "e.g. $p = 0.03$\n",
    "\n",
    "The smaller the p-value is, the more unlikely the observation would be to occur if $H_0$ were true."
   ]
  },
  {
   "cell_type": "markdown",
   "metadata": {},
   "source": [
    "### Significance level\n",
    "The significance level, $\\alpha$, is used to assess the p-value, and it must be selected in advance of the hypothesis test. \n",
    "\n",
    "We will *reject $H_0$* when $p < \\alpha$. \n",
    "\n",
    "From the definition of the p-value, $\\alpha$ is the probability of incorrectly rejecting $H_0$ if it is true. This is known as the probability of a *Type-I error*.\n",
    "\n",
    "By choosing a smaller $\\alpha$, we can specify a more conservative test.\n"
   ]
  },
  {
   "cell_type": "markdown",
   "metadata": {},
   "source": [
    "---\n",
    "## Hypothesis testing procedure\n",
    "\n",
    "1. Propose a research question.\n",
    "2. Formulate the null hypothesis $H_0$ and alternative hypothesis $H_1$.\n",
    "3. Choose an appropriate statistical test.\n",
    "4. Choose an appropriate significance level, $\\alpha$.\n",
    "5. Collect the data!\n",
    "6. Calculate the test statistic and the p-value.\n",
    "7. If $p < \\alpha$, reject $H_0$. Otherwise, we report that we \"cannot reject the null hypothesis\"."
   ]
  },
  {
   "cell_type": "markdown",
   "metadata": {},
   "source": [
    "---"
   ]
  }
 ],
 "metadata": {
  "kernelspec": {
   "display_name": "Python 3",
   "language": "python",
   "name": "python3"
  },
  "language_info": {
   "codemirror_mode": {
    "name": "ipython",
    "version": 3
   },
   "file_extension": ".py",
   "mimetype": "text/x-python",
   "name": "python",
   "nbconvert_exporter": "python",
   "pygments_lexer": "ipython3",
   "version": "3.8.3"
  }
 },
 "nbformat": 4,
 "nbformat_minor": 4
}
