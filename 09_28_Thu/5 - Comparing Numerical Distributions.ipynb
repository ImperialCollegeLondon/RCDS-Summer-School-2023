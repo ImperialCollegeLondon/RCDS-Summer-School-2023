{
 "cells": [
  {
   "cell_type": "markdown",
   "metadata": {},
   "source": [
    "# Comparing numerical distributions\n",
    "\n",
    "To get us started with hypothesis testing, we will look at some ways to compare two numerical distributions."
   ]
  },
  {
   "cell_type": "markdown",
   "metadata": {},
   "source": [
    "---\n",
    "## Independent samples\n",
    "\n",
    "We use the [*independent 2-sample t-test*](https://en.wikipedia.org/wiki/Student%27s_t-test) to assess whether two independent samples have significantly different means. \n",
    "\n",
    "The test statistic follows a Student's t-distribution, provided that the variances of the two groups are equal.\n",
    "\n",
    "Other variants of the t-test are applicable under different conditions.\n",
    "\n",
    "The test statistic is\n",
    "\n",
    "$$ t = \\frac{\\bar{x}_{1} - \\bar{x}_{2}}{s_p \\cdot \\sqrt{\\frac{1}{n_{1}} + \\frac{1}{n_{2}}}} $$\n",
    "\n",
    "where\n",
    "\n",
    "$$ s_p = \\sqrt{\\frac{(n_1 - 1)s_1^2 + (n_2 - 1)s_2^2}{n_1 + n_2 - 2}} $$\n",
    "\n",
    "is an estimator of the pooled standard deviation.\n",
    "\n",
    "Under the null hypothesis of equal means, the statistic follows a Student's t-distribution with $(n_{1} + n_{2} - 2)$ degrees of freedom."
   ]
  },
  {
   "cell_type": "markdown",
   "metadata": {},
   "source": [
    "#### Assumptions\n",
    "\n",
    "- The means of the two samples follow normal distributions. This is true if the samples themselves are normal, but also true for any other distribution if $n$ is large enough ($n \\gt 30$).\n",
    "- The two populations have equal variance.\n",
    "- The two samples are independent.\n",
    "\n",
    "Two-sample t-tests are robust to moderate deviations from these assumptions, but major deviations may produce misleading results."
   ]
  },
  {
   "cell_type": "markdown",
   "metadata": {},
   "source": [
    "### Example\n",
    "\n",
    "The birth weights of babies (in kg) have been measured for a sample of mothers split into two categories: nonsmoking and heavy smoking. The data are found in the file *birthweight.csv*.\n",
    "\n"
   ]
  },
  {
   "cell_type": "markdown",
   "metadata": {},
   "source": [
    "We want to know whether there is a significant difference in mean birth weight between the two categories. "
   ]
  },
  {
   "cell_type": "markdown",
   "metadata": {},
   "source": [
    "Write down the hypotheses:\n",
    "\n",
    "* $H_0$: there is no difference in mean birth weight between the two populations, $\\mu_{smoking} = \\mu_{nonsmoking}$\n",
    "* $H_1$: there is a real difference between the two populations, $\\mu_{smoking} \\ne \\mu_{nonsmoking}$\n",
    "\n",
    "choose a significance level:\n",
    "$\\alpha = 0.05$"
   ]
  },
  {
   "cell_type": "markdown",
   "metadata": {},
   "source": [
    "Now we are ready to look at the data."
   ]
  },
  {
   "cell_type": "code",
   "execution_count": null,
   "metadata": {},
   "outputs": [],
   "source": [
    "import pandas as pd\n",
    "data = pd.read_csv('birthweight.csv')\n",
    "data.head()"
   ]
  },
  {
   "cell_type": "code",
   "execution_count": null,
   "metadata": {},
   "outputs": [],
   "source": [
    "import matplotlib.pyplot as plt\n",
    "\n",
    "plt.hist([data.query('smoking == True').birthweight, \n",
    "          data.query('smoking == False').birthweight], \n",
    "         label=['smokers','non-smokers'])\n",
    "plt.xlabel('birthweight /kg')\n",
    "plt.legend()\n",
    "plt.show()"
   ]
  },
  {
   "cell_type": "code",
   "execution_count": null,
   "metadata": {},
   "outputs": [],
   "source": [
    "data.groupby('smoking').mean()"
   ]
  },
  {
   "cell_type": "markdown",
   "metadata": {},
   "source": [
    "There is clearly some difference in the sample means. However, with not many data in the study, we need to demonstrate that the difference is meaningful and not just due to random chance."
   ]
  },
  {
   "cell_type": "code",
   "execution_count": null,
   "metadata": {},
   "outputs": [],
   "source": [
    "from scipy.stats import ttest_ind\n",
    "ttest_ind( data.query('smoking == True').birthweight,\n",
    "           data.query('smoking == False').birthweight )"
   ]
  },
  {
   "cell_type": "markdown",
   "metadata": {},
   "source": [
    "The p-value is less than our chosen significance level, so we reject the null hypothesis. We can report that there is a significant difference between the population means."
   ]
  },
  {
   "cell_type": "markdown",
   "metadata": {},
   "source": [
    "### Exercise\n",
    "Is there a significant difference between the sepal widths of the species *Iris versicolor* and *Iris virginica*? (the data is in *iris.csv*)"
   ]
  },
  {
   "cell_type": "code",
   "execution_count": null,
   "metadata": {},
   "outputs": [],
   "source": []
  },
  {
   "cell_type": "markdown",
   "metadata": {},
   "source": [
    "---"
   ]
  },
  {
   "cell_type": "markdown",
   "metadata": {},
   "source": [
    "\n",
    "## Paired samples\n",
    "\n",
    "Sometimes we have two samples with paired observations (for example, luminosity of the same set of stars, as measured on two different dates). This situation requires testing whether the *mean of the differences* between pairs is zero, which is called a [*paired two-sample t-test*](https://en.wikipedia.org/wiki/Student%27s_t-test#Dependent_t-test_for_paired_samples). \n",
    "\n",
    "This test can be done using [`scipy.stats.ttest_rel()`](https://docs.scipy.org/doc/scipy/reference/generated/scipy.stats.ttest_rel.html#scipy.stats.ttest_rel)\n",
    "\n"
   ]
  },
  {
   "cell_type": "markdown",
   "metadata": {},
   "source": [
    "### Example\n",
    "\n",
    "200 volunteers played a video game followed by a puzzle game. \n",
    "The file *games.csv* contains their scores.\n",
    "\n",
    "Is one of the games more difficult than the other?"
   ]
  },
  {
   "cell_type": "markdown",
   "metadata": {},
   "source": [
    "Notice that in this example the two sets of scores are *not* independent of each other, because the volunteers were the same for both games. We need to use the paired-sample version of the t-test."
   ]
  },
  {
   "cell_type": "markdown",
   "metadata": {},
   "source": [
    "Write down the hypotheses:\n",
    "\n",
    "* $H_0$: the mean of the differences in score for the two games is zero, $\\mu_{\\text{diff}} = 0$\n",
    "* $H_1$: the mean of the differences in score for the two games is not zero, $\\mu_{\\text{diff}} \\ne 0$\n",
    "\n",
    "Choose a significance level:\n",
    "$\\alpha = 0.05$"
   ]
  },
  {
   "cell_type": "markdown",
   "metadata": {},
   "source": [
    "Visualise the data:"
   ]
  },
  {
   "cell_type": "code",
   "execution_count": null,
   "metadata": {},
   "outputs": [],
   "source": [
    "scores = pd.read_csv('games.csv')\n",
    "scores.head()"
   ]
  },
  {
   "cell_type": "code",
   "execution_count": null,
   "metadata": {},
   "outputs": [],
   "source": [
    "plt.hist([scores.video, scores.puzzle], \n",
    "         label=['video','puzzle'])\n",
    "plt.legend()\n",
    "plt.show()"
   ]
  },
  {
   "cell_type": "code",
   "execution_count": null,
   "metadata": {},
   "outputs": [],
   "source": [
    "scores['difference'] = scores.puzzle - scores.video\n",
    "scores.head()"
   ]
  },
  {
   "cell_type": "code",
   "execution_count": null,
   "metadata": {},
   "outputs": [],
   "source": [
    "scores.difference.mean()"
   ]
  },
  {
   "cell_type": "markdown",
   "metadata": {},
   "source": [
    "Carry out the hypothesis test:"
   ]
  },
  {
   "cell_type": "code",
   "execution_count": null,
   "metadata": {},
   "outputs": [],
   "source": [
    "from scipy.stats import ttest_rel\n",
    "ttest_rel(scores.video, scores.puzzle)"
   ]
  },
  {
   "cell_type": "markdown",
   "metadata": {},
   "source": [
    "$p > \\alpha$ therefore we cannot reject the null hypothesis. The mean of the differences is not significantly difference from zero, so there is no evidence that one game is harder than the other."
   ]
  },
  {
   "cell_type": "markdown",
   "metadata": {},
   "source": [
    "---\n",
    "## Alternatives to the t-test\n",
    "\n",
    "### Mann-Whitney U-test\n",
    "\n",
    "For non-normal samples where $n$ is small, the assumptions of the t-test break down. However, we can use a *non-parametric test* to compare two samples, whatever the shape of their distributions.\n",
    "\n",
    "The [*Mann-Whitney U-test*](https://en.wikipedia.org/wiki/Mann–Whitney_U_test) (aka Wilcoxon rank-sum test) is one such test. The null hypothesis for this test is that a randomly selected value from sample 1 is equally likely to be less than or greater than a randomly selected value from sample 2. If the distributions are sufficiently different, the resulting p-value will be small and we will reject this null hypothesis. Note that the U-test does not compare the sample means directly. \n",
    "\n",
    "This test is implemented as [`scipy.stats.mannwhitneyu()`](https://docs.scipy.org/doc/scipy/reference/generated/scipy.stats.mannwhitneyu.html#scipy.stats.mannwhitneyu)\n",
    "\n",
    "\n",
    "### Wilcoxon signed-rank test\n",
    "\n",
    "The [*Wilcoxon signed-rank test*](https://en.wikipedia.org/wiki/Wilcoxon_signed-rank_test) is is the paired-sample version of the Mann-Whitney U-test.\n",
    "\n",
    "This test is implemented as [`scipy.stats.wilcoxon()`](https://docs.scipy.org/doc/scipy/reference/generated/scipy.stats.wilcoxon.html#scipy.stats.wilcoxon)\n"
   ]
  },
  {
   "cell_type": "markdown",
   "metadata": {},
   "source": [
    "### Exercise\n",
    "\n",
    "The UN Kyoto protocol was adopted in 1997 and commits developed countries to limit and reduce their greenhouse gas emissions. Due to the complexities of the ratification process, it did not come into force until 2005.\n",
    "\n",
    "Did the CO2 outputs of western European countries change significantly between 1997 and 2005?"
   ]
  },
  {
   "cell_type": "code",
   "execution_count": null,
   "metadata": {},
   "outputs": [],
   "source": []
  },
  {
   "cell_type": "markdown",
   "metadata": {},
   "source": [
    "---"
   ]
  }
 ],
 "metadata": {
  "kernelspec": {
   "display_name": "Python 3",
   "language": "python",
   "name": "python3"
  },
  "language_info": {
   "codemirror_mode": {
    "name": "ipython",
    "version": 3
   },
   "file_extension": ".py",
   "mimetype": "text/x-python",
   "name": "python",
   "nbconvert_exporter": "python",
   "pygments_lexer": "ipython3",
   "version": "3.8.3"
  }
 },
 "nbformat": 4,
 "nbformat_minor": 4
}
