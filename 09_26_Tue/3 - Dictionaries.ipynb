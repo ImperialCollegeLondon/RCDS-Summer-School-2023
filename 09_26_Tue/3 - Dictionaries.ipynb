{
 "cells": [
  {
   "attachments": {},
   "cell_type": "markdown",
   "metadata": {},
   "source": [
    "# Dictionaries\n",
    "\n",
    "Dictionaries are a type of store values which are accessed through a key, which can be of any hashable type, including strings, integers, and floats. Values in dictionaries can be any type. Dictionaries can be very useful for storing data, which is best identified by something other than a series of consecutive integers as with a list."
   ]
  },
  {
   "cell_type": "markdown",
   "metadata": {},
   "source": [
    "## Creating a Dictionary\n",
    "\n",
    "To create a dictionary, we use curly braces ```{}```. If these braces are empty, the dictionary will be empty. We can also provide a series of key-value pairs, separated by commas. The key and value are separated by a colon. For example:"
   ]
  },
  {
   "cell_type": "code",
   "execution_count": null,
   "metadata": {},
   "outputs": [],
   "source": [
    "empty_dict = {} # Create an empty dictionary\n",
    "fruity_dict = {\"melons\": 5, \"peaches\": 4} # Create a dictionary with two key-value pairs\n",
    "\n",
    "print(empty_dict)\n",
    "print(fruity_dict) # When printing a dictioanry, key-value pairs are separated by commas\n",
    "# Each key-value pair is represented as the key for followed by a colon and then the value"
   ]
  },
  {
   "cell_type": "markdown",
   "metadata": {},
   "source": [
    "## Accessing Values from a Dictionary\n",
    "\n",
    "We can access individual values of the dictionary by using the key in square brackets ```[]```. Just like values from a list, we can use these values as part of an expression. For example:"
   ]
  },
  {
   "cell_type": "code",
   "execution_count": null,
   "metadata": {},
   "outputs": [],
   "source": [
    "print(fruity_dict[\"melons\"]) # Access a value by using its key\n",
    "b = fruity_dict[\"peaches\"] + 5 # You can use a value in an expression\n",
    "print(b)"
   ]
  },
  {
   "cell_type": "markdown",
   "metadata": {},
   "source": [
    "If we try to access a value using a key not in a dictionary, a KeyError exception will be raised."
   ]
  },
  {
   "cell_type": "code",
   "execution_count": null,
   "metadata": {},
   "outputs": [],
   "source": [
    "print(fruity_dict[\"plums\"])"
   ]
  },
  {
   "cell_type": "markdown",
   "metadata": {},
   "source": [
    "## Updating a Dictionary\n",
    "\n",
    "We can add new key-value pairs or update the value of existing key-value pairs by writing the name of the dictionary, followed by the key in square brackets, followed by an equals sign and the new value. For example:"
   ]
  },
  {
   "cell_type": "code",
   "execution_count": null,
   "metadata": {},
   "outputs": [],
   "source": [
    "fruity_dict[\"bananas\"] = 2 # Add a new key-value pair to a dictionary\n",
    "fruity_dict[\"peaches\"] = 6 # Change the value associated with an existing key\n",
    "print(fruity_dict)"
   ]
  },
  {
   "cell_type": "markdown",
   "metadata": {},
   "source": [
    "We can delete a key-value pair from a dictionary using the ```del``` keyword."
   ]
  },
  {
   "cell_type": "code",
   "execution_count": null,
   "metadata": {},
   "outputs": [],
   "source": [
    "del fruity_dict[\"melons\"] # Delete a key-value pair from a dictionary\n",
    "print(fruity_dict)"
   ]
  },
  {
   "cell_type": "markdown",
   "metadata": {},
   "source": [
    "## Looping over a Dictionary\n",
    "\n",
    "We can loop over the keys or values of a dictionary."
   ]
  },
  {
   "cell_type": "code",
   "execution_count": null,
   "metadata": {},
   "outputs": [],
   "source": [
    "for x in fruity_dict: # Looping over a dictionary gives the keys\n",
    "    print(x)\n",
    "\n",
    "for x in fruity_dict.values(): # To loop over the values, we need the \"values\" method\n",
    "    print(x)"
   ]
  },
  {
   "cell_type": "markdown",
   "metadata": {},
   "source": [
    "We can also loop over the keys and values of a dictionary at the same time using the ```items()``` method."
   ]
  },
  {
   "cell_type": "code",
   "execution_count": null,
   "metadata": {},
   "outputs": [],
   "source": [
    "for fruit, number in fruity_dict.items(): # To loop over both keys and values, we need the \"items\" method\n",
    "    print(f\"There are {number} {fruit}\")"
   ]
  },
  {
   "cell_type": "markdown",
   "metadata": {},
   "source": [
    "## Order of Dictionaries\n",
    "\n",
    "Note that, for earlier versions of Python, the order of the keys may not be the same as the order in which they were added to the dictionary. This is because dictionaries are implemented using hash tables, which are not ordered. In Python 3.6 and later, dictionaries are ordered, so the order of the keys will be the same as the order in which they were added to the dictionary. However, relying on the \"order\" of a dictionary is not normally good practice as it can make your code less portable and tends to encourage design patterns which do not use dictionaries in the best way."
   ]
  },
  {
   "cell_type": "markdown",
   "metadata": {},
   "source": [
    "## Exercise: Counting Bases\n",
    "\n",
    "In genetics, DNA can be represented as a string of the characters representing the four bases: adenine (A), cytosine (C), guanine (G), and thymine (T). For example, the DNA sequence ```ATGCGATACGCTTGA``` has 5 adenine bases, 4 cytosine bases, 2 guanine bases, and 5 thymine bases. Knowing the number of each of these bases present in a DNA sequence can be useful for some types of genetic analysis.\n",
    "\n",
    "In the code cell below write a function named ```base_counter``` which accepts a single string as an argument representing a genetic sequence, and returns a dictionary with the number of each base in the string. If a base doesn't appear in the genetic sequence, a key-value pair representing it should still be present in the dictionary, with a value of 0.\n",
    "\n",
    "You may assume the argument provided will always be a string consisting only of the characters A, C, G, and T. \n",
    "\n",
    "Avoid using the ```count``` method of the string class to begin with. Once you have a solution which works, see if you can make it any simpler by using this method.\n",
    "\n",
    "The code cell below also contains a number of calls, you can check your function works appropriately."
   ]
  },
  {
   "cell_type": "code",
   "execution_count": null,
   "metadata": {},
   "outputs": [],
   "source": [
    "# Write your code here\n",
    "\n",
    "\n",
    "\n",
    "\n",
    "\n",
    "\n",
    "# Some tests\n",
    "print(base_counter(\"\")) # Should print {'A': 0, 'C': 0, 'G': 0, 'T': 0}\n",
    "print(base_counter(\"ACGT\")) # Should print {'A': 1, 'C': 1, 'G': 1, 'T': 1}\n",
    "print(base_counter(\"TGCAACGT\")) # Should print {'A': 2, 'C': 2, 'G': 2, 'T': 2}\n",
    "print(base_counter(\"GATTACA\")) # Should print {'A': 3, 'C': 1, 'G': 1, 'T': 2}"
   ]
  }
 ],
 "metadata": {
  "kernelspec": {
   "display_name": "Python 3.9.13 64-bit (windows store)",
   "language": "python",
   "name": "python3"
  },
  "language_info": {
   "codemirror_mode": {
    "name": "ipython",
    "version": 3
   },
   "file_extension": ".py",
   "mimetype": "text/x-python",
   "name": "python",
   "nbconvert_exporter": "python",
   "pygments_lexer": "ipython3",
   "version": "3.11.4"
  },
  "orig_nbformat": 4,
  "vscode": {
   "interpreter": {
    "hash": "5dbf766eb95023f9dddb799b5381b4ed6a9322e38632e8ac1570872c767b304b"
   }
  }
 },
 "nbformat": 4,
 "nbformat_minor": 2
}
