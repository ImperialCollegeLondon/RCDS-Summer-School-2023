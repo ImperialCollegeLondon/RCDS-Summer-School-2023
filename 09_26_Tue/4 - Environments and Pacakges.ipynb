{
 "cells": [
  {
   "cell_type": "markdown",
   "metadata": {},
   "source": [
    "# Environments and Packages\n",
    "\n",
    "## Environments\n",
    "\n",
    "A Python environment is a specific isolated instance of Python. It's possible to have several Python environments installed on a computer, each configured in a different way. \n",
    "\n",
    "There are several different ways to manage environments. We're going to be using a VS Code Extension (Python Environment Manager) which we've already installed in the Codespace you're using. You can access it by clicking the Python logo on the left tab.\n",
    "\n",
    "<center><img src=\"../Resources/python_environment_manager.png\" style=\"height:300px\" /></center>"
   ]
  },
  {
   "cell_type": "markdown",
   "metadata": {},
   "source": [
    "Within this view, you should see one or more Python environments. For each, we can expand the section reading \"Info\" or \"Packages\". Within \"info\" you will find some information about the environment. We don't need to worry about most of this, but it's worth exploring the \"Version\" briefly.\n",
    "\n",
    "As Python has developed over the years, there have been many versions with a gradually increasing set of functionality. A list of the different versions and their functionality can be found [here](https://www.python.org/doc/versions/). Python is, for the most part, backward compatible in the sense that if a code works with Python 3.7 it will generally run with Python 3.9. But utilising a feature introduced in Python 3.9 and trying to run the code using an environment based on Python 3.7 will not work."
   ]
  },
  {
   "cell_type": "markdown",
   "metadata": {},
   "source": [
    "### Virtaul Environments\n",
    "\n",
    "Sometimes, it's useful to have different Python environments for different projects. This allows the Python environment to be configured for an individual project.\n",
    "\n",
    "We can create a new virtual environment using the Pytohon package ```venv```. To do using the Python Environment Manager:\n",
    "\n",
    "- Click on the plus at the top of the panel\n",
    "- Select \"Venv\" in the menu which drops down in the centre of the screen\n",
    "- You will then be asked to select a Python version to use. Select the one with the highest number\n",
    "- If youre asked which dependencies to install, don't tick anything, just proceed with no dependencies.\n",
    "\n",
    "This will create a new folder in your workspace named ```.venv``` which contains your new Python environment. If we return to the Python Environment Manager tab, we'll see this has replaced the previous environment in the \"Workspace Environments\" section of the panel. The environment we used before is visible in the \"Global Environments\" section of the panel further down the panel.\n",
    "\n",
    "At the top right of the interface, we can click on a symbol which allows us to choose which environment to use to run the current Notebook. If we click on this, we can see the ```.venv``` environment, as well as our local environment. Click on ```.venv``` to make sure we're using our new environment. \n",
    "\n",
    "<center><img src=\"../Resources/select_environment.png\" style=\"height:100px\" /></center>\n",
    "\n",
    "Congratulations, you've just created and activated a new Python environment!"
   ]
  },
  {
   "cell_type": "markdown",
   "metadata": {},
   "source": [
    "## Packages\n",
    "\n",
    "Packages in Python are modular pieces of additional functionality which can be added into a Python project. Using packages has many advantages:\n",
    "\n",
    "- You don't have to write code yourself, saving time\n",
    "- The code of the package will be:\n",
    "    - Robust\n",
    "    - Efficient\n",
    "    - Flexible\n",
    "    - Well-documented\n",
    "- Other collaborators will already know or can research the package you've used\n",
    "\n",
    "Over time, you will become familiar with a range of Python packages relevant to how you use Python and to your discipline. However, any time you find yourself planning to write some code which you think might be commonly useful, it's worth checking if a package exists which already does the task for you.\n",
    "\n",
    "### Packages in Environments\n",
    "\n",
    "Every environment will have its own set of packages installed. Using the Python Environment Manager, expand the \"Packages\" drop-down. You should see a couple of packages installed already. Try running the code cell below, you will see that several new packages have been added (you may need to reload the list of packages). These packages provide the functionality to run Jupyter Notebook code cells."
   ]
  },
  {
   "cell_type": "code",
   "execution_count": null,
   "metadata": {},
   "outputs": [],
   "source": [
    "print(\"Hello world\")"
   ]
  },
  {
   "cell_type": "markdown",
   "metadata": {},
   "source": [
    "Now, let's say we want to install another package. ```numpy``` is a commonly used Python package. To use this package in our code, we need to import it. The simplest way to do this is to write ```import numpy``` as in the code cell below. Let's run this code cell now."
   ]
  },
  {
   "cell_type": "code",
   "execution_count": null,
   "metadata": {},
   "outputs": [],
   "source": [
    "import numpy"
   ]
  },
  {
   "cell_type": "markdown",
   "metadata": {},
   "source": [
    "You should have seen an ```ModuleNotFoundError``` telling you this module is not installed. \n",
    "\n",
    "#### Managing Packages in Python Environment Manager\n",
    "\n",
    "If we check through the list of installed modules in the Python Environment Manager tab, we'll see it's not installed. There are a couple of ways we could install this package. The easiest is to click the magnifying glass button at the top of the list of packages and search for \"numpy\". Select the top one from the dropdown list and this will install the package.\n",
    "\n",
    "<center><img src=\"../Resources/numpy_installation.png\" style=\"height:300px\" /></center>\n",
    "\n",
    "We should see that numpy now appears on the list of installed packages. If we rerun the code cell again, we'll see it now imports the package with no error. We'll discuss later how we can use this package.\n",
    "\n",
    "#### pip\n",
    "\n",
    "The method we just used is a fine way to manage packages within our environment using VS Code. However, we should also look at another way to manage packages - by directly interacting with \"pip\". Pip is a very common example of a \"package manager\" - a tool that downloads and manages dependencies for Python. The most common way to utilise pip is via the command line.\n",
    "\n",
    "<center><img src=\"../Resources/environment_manager_terminal.png\" style=\"height:300px\" /></center>\n",
    "\n",
    "In the Python Environment Manager, hover over the name of our virtual environment and click the button saying \"Open in Terminal\". This will open a terminal window at the bottom of the screen. This is a command line interface with our environment active. When installing packages using the command line, it's important to make sure we're using the correct environment.\n",
    "\n",
    "Within the terminal, you should see the name of the environment in brackets at the start of the line. The rest of the line tells us our username and the location within our file system that the terminal is \"looking at\" (more precisely this known as the \"present working directory\"). Click to the right of this and we can type commands.\n",
    "\n",
    "We already have ```numpy``` package installed, so lets try installing another useful package - ```matplotlib```. This package is commonly used for producing graphs and figures in Python. To install this package, type ```pip install matplotlib``` and press enter. You should see text appear in the terminal window telling you the package is being installed. Once this is complete, we can check the list of packages installed in our environment by looking in the Python Environment Manager. We should see ```matplotlib``` is now installed.\n",
    "\n",
    "#### Requirements Files\n",
    "\n",
    "A requirements file contains a list of files which should be installed in an environment. This is useful if you want to share your code with someone else, as they can install all the packages you've used in their own environment. \n",
    "\n",
    "This course has its own requirements file in the top level directory, named ```requirements.txt```. This is a conventional name for a requirements file. To install the specified packages, we can use the command ```pip install -r requirements.txt```. Try this now in the terminal window. You should see a list of packages being installed. Once this is complete, check the list of packages in the Python Environment Manager. You should see all the packages listed in the requirements file are now installed.\n"
   ]
  },
  {
   "cell_type": "markdown",
   "metadata": {},
   "source": [
    "## The Standard Library and Importing Packages\n",
    "\n",
    "Python comes with a large number of packages already installed. These are known as the \"standard library\". You can find a list of the packages in the standard library [here](https://docs.python.org/3/library/). These packages are commonly used, wide-ranging and powerful. As an example, we will be useing the ```math``` package which several useful mathematical functions.\n",
    "\n",
    "Although these packages are installed, we still need to import them into our project. The simplest way to do this is to write the word ```import``` then the name of the package. This will make the components of the package available to use in our by writing the name of the package, then a period, then the name of the component of the package we want to use. For example:"
   ]
  },
  {
   "cell_type": "code",
   "execution_count": null,
   "metadata": {},
   "outputs": [],
   "source": [
    "import math\n",
    "\n",
    "print(math.sqrt(4)) # Use the square-root function from the math package\n",
    "print(math.pi) # Use the value of pi from the math package\n",
    "\n",
    "print(math.sin(math.pi/2)) # We can use the functions and values from the math package in expressions as normal"
   ]
  },
  {
   "cell_type": "markdown",
   "metadata": {},
   "source": [
    "We can also give packages an alias which makes referring to it more convenient. For instance, it is common to import ```numpy``` with the alias ```np``` to make referring to it simpler. We can do this by writing ```import numpy as np```. We can then use the package by writing ```np``` instead of ```numpy```."
   ]
  },
  {
   "cell_type": "code",
   "execution_count": null,
   "metadata": {},
   "outputs": [],
   "source": [
    "import numpy as np\n",
    "\n",
    "print(np.random.random(10)) # Use the random function from the numpy package"
   ]
  }
 ],
 "metadata": {
  "kernelspec": {
   "display_name": "Python 3",
   "language": "python",
   "name": "python3"
  },
  "language_info": {
   "codemirror_mode": {
    "name": "ipython",
    "version": 3
   },
   "file_extension": ".py",
   "mimetype": "text/x-python",
   "name": "python",
   "nbconvert_exporter": "python",
   "pygments_lexer": "ipython3",
   "version": "3.11.4"
  },
  "orig_nbformat": 4
 },
 "nbformat": 4,
 "nbformat_minor": 2
}
