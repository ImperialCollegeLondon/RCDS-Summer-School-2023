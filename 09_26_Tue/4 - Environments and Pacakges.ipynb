{
 "cells": [
  {
   "cell_type": "markdown",
   "metadata": {},
   "source": [
    "# Environments and Packages\n",
    "\n",
    "## Environments\n",
    "\n",
    "A Python environment is a specific isolated instance of Python. It's possible to have several Python environments installed on a computer, each configured in a different way. \n",
    "\n",
    "There are several different ways to manage environments. We're going to be using a VS Code Extension (Python Environment Manager) which we've already installed in the Codespace you're using. You can access it by clicking the Python logo on the left tab.\n",
    "\n",
    "<center><img src=\"../Resources/python_environment_manager.png\" style=\"height:300px\" /></center>"
   ]
  },
  {
   "cell_type": "markdown",
   "metadata": {},
   "source": [
    "Within this view, you should see one or more Python environments. For each, we can expand the section reading \"Info\" or \"Packages\". Within \"info\" you will find some information about the environment. We don't need to worry about most of this, but it's worth exploring the \"Version\" briefly.\n",
    "\n",
    "As Python has developed over the years, there have been many versions with a gradually increasing set of functionality. A list of the different versions and their functionality can be found [here](https://www.python.org/doc/versions/). Python is, for the most part, backward compatible in the sense that if a code works with Python 3.7 it will generally run with Python 3.9. But utilising a feature introduced in Python 3.9 and trying to run the code using an environment based on Python 3.7 will not work."
   ]
  },
  {
   "cell_type": "markdown",
   "metadata": {},
   "source": [
    "### Virtaul Environments\n",
    "\n",
    "Sometimes, it's useful to have different Python environments for different projects. This allows the Python environment to be configured for an individual project.\n",
    "\n",
    "We can create a new virtual environment using the Pytohon package ```venv```. To do using the Python Environment Manager:\n",
    "\n",
    "- Click on the plus at the top of the panel\n",
    "- Select \"Venv\" in the menu which drops down in the centre of the screen\n",
    "- You will then be asked to select a Python version to use. Select the one with the highest number\n",
    "- If youre asked which dependencies to install, don't tick anything, just proceed with no dependencies.\n",
    "\n",
    "This will create a new folder in your workspace named ```.venv``` which contains your new Python environment. If we return to the Python Environment Manager tab, we'll see this has replaced the previous environment in the \"Workspace Environments\" section of the panel. The environment we used before is visible in the \"Global Environments\" section of the panel further down the panel.\n",
    "\n",
    "At the top right of the interface, we can click on a symbol which allows us to choose which environment to use to run the current Notebook. If we click on this, we can see the ```.venv``` environment, as well as our local environment. Click on ```.venv``` to make sure we're using our new environment. \n",
    "\n",
    "<center><img src=\"../Resources/select_environment.png\" style=\"height:100px\" /></center>\n",
    "\n",
    "Congratulations, you've just created and activated a new Python environment!"
   ]
  },
  {
   "cell_type": "markdown",
   "metadata": {},
   "source": [
    "## Packages\n",
    "\n",
    "Packages in Python are modular pieces of additional functionality which can be added into a Python project. Using packages has many advantages:\n",
    "\n",
    "- You don't have to write code yourself, saving time\n",
    "- The code of the package will be:\n",
    "    - Robust\n",
    "    - Efficient\n",
    "    - Flexible\n",
    "    - Well-documented\n",
    "- Other collaborators will already know or can research the package you've used\n",
    "\n",
    "Over time, you will become familiar with a range of Python packages relevant to how you use Python and to your discipline. However, any time you find yourself planning to write some code which you think might be commonly useful, it's worth checking if a package exists which already does the task for you.\n",
    "\n",
    "### Packages in Environments\n",
    "\n",
    "Every environment will have its own set of packages installed. Using the Python Environment Manager, expand the \"Packages\" drop-down. You should see a couple of packages installed already. Try running the code cell below, you will see that several new packages have been added (you may need to reload the list of packages). These packages provide the functionality to run Jupyter Notebook code cells."
   ]
  },
  {
   "cell_type": "code",
   "execution_count": 1,
   "metadata": {},
   "outputs": [
    {
     "name": "stdout",
     "output_type": "stream",
     "text": [
      "Hello world\n"
     ]
    }
   ],
   "source": [
    "print(\"Hello world\")"
   ]
  },
  {
   "cell_type": "markdown",
   "metadata": {},
   "source": [
    "Now, let's say we want to install another package. ```numpy``` is a commonly used Python package. To use this package in our code, we need to import it. The simplest way to do this is to write ```import numpy``` as in the code cell below. Let's run this code cell now."
   ]
  },
  {
   "cell_type": "code",
   "execution_count": 2,
   "metadata": {},
   "outputs": [
    {
     "ename": "ModuleNotFoundError",
     "evalue": "No module named 'numpy'",
     "output_type": "error",
     "traceback": [
      "\u001b[0;31m---------------------------------------------------------------------------\u001b[0m",
      "\u001b[0;31mModuleNotFoundError\u001b[0m                       Traceback (most recent call last)",
      "\u001b[1;32m/workspaces/RCDS-Summer-School-2023/09_26_Tue/4 - Environments and Pacakges.ipynb Cell 7\u001b[0m line \u001b[0;36m1\n\u001b[0;32m----> <a href='vscode-notebook-cell://codespaces%2Bideal-enigma-v6pgqgq49p62p5v6/workspaces/RCDS-Summer-School-2023/09_26_Tue/4%20-%20Environments%20and%20Pacakges.ipynb#X10sdnNjb2RlLXJlbW90ZQ%3D%3D?line=0'>1</a>\u001b[0m \u001b[39mimport\u001b[39;00m \u001b[39mnumpy\u001b[39;00m\n",
      "\u001b[0;31mModuleNotFoundError\u001b[0m: No module named 'numpy'"
     ]
    }
   ],
   "source": [
    "import numpy"
   ]
  },
  {
   "cell_type": "markdown",
   "metadata": {},
   "source": [
    "You should have seen an ```ModuleNotFoundError``` telling you this module is not installed. \n",
    "\n",
    "#### Managing Packages in Python Environment Manager\n",
    "\n",
    "If we check through the list of installed modules in the Python Environment Manager tab, we'll see it's not installed. There are a couple of ways we could install this package. The easiest is to click the magnifying glass button at the top of the list of packages and search for \"numpy\". Select the top one from the dropdown list and this will install the package.\n",
    "\n",
    "<center><img src=\"../Resources/numpy_installation.png\" style=\"height:300px\" /></center>\n",
    "\n",
    "We should see that numpy now appears on the list of installed packages. If we rerun the code cell again, we'll see it now imports the package with no error. We'll discuss later how we can use this package.\n",
    "\n",
    "#### pip\n",
    "\n",
    "The method we just used is a fine way to manage packages within our environment using VS Code. However, we should also look at another way to manage packages - by directly interacting with \"pip\". Pip is a very common example of a \"package manager\" - a tool that downloads and manages dependencies for Python. The most common way to utilise pip is via the command line.\n",
    "\n",
    "In the Python Environment Manager, hover over the name of our virtual environment and click the button saying \"Open in Terminal\". This will open a terminal window at the bottom of the screen. This is a command line interface with our environment active. When installing packages using the command line, it's important to make sure we're using the correct environment.\n",
    "\n",
    "Within the terminal, you should see the name of the environment in brackets at the start of the line. The rest of the line tells us our username and the location within our file system that the terminal is \"looking at\" (more precisely this known as the \"present working directory\"). Click to the right of this and we can type commands.\n",
    "\n",
    "We already have ```numpy``` \n"
   ]
  },
  {
   "cell_type": "code",
   "execution_count": null,
   "metadata": {},
   "outputs": [],
   "source": []
  }
 ],
 "metadata": {
  "kernelspec": {
   "display_name": "Python 3",
   "language": "python",
   "name": "python3"
  },
  "language_info": {
   "codemirror_mode": {
    "name": "ipython",
    "version": 3
   },
   "file_extension": ".py",
   "mimetype": "text/x-python",
   "name": "python",
   "nbconvert_exporter": "python",
   "pygments_lexer": "ipython3",
   "version": "3.11.4"
  },
  "orig_nbformat": 4
 },
 "nbformat": 4,
 "nbformat_minor": 2
}
