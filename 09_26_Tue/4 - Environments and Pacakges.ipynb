{
 "cells": [
  {
   "cell_type": "markdown",
   "metadata": {},
   "source": [
    "# Environments and Packages\n",
    "\n",
    "## Environments\n",
    "\n",
    "A Python environment is a specific isolated instance of Python. It's possible to have several Python environments installed on a computer, each configured in a different way. \n",
    "\n",
    "There are several different ways to manage environments. We're going to be using a VS Code Extension (Python Environment Manager) which we've already installed in the Codespace you're using. You can access it by clicking the Python logo on the left tab.\n",
    "\n",
    "<center><img src=\"../Resources/python_environment_manager.png\" style=\"height:300px\" /></center>"
   ]
  },
  {
   "cell_type": "markdown",
   "metadata": {},
   "source": [
    "Within this view, you should see one or more Python environments. For each, we can expand the section reading \"Info\" or \"Packages\". Within \"info\" you will find some information about the environment. We don't need to worry about most of this, but it's worth exploring the \"Version\" briefly.\n",
    "\n",
    "As Python has developed over the years, there have been many versions with a gradually increasing set of functionality. A list of the different versions and their functionality can be found [here](https://www.python.org/doc/versions/). Python is, for the most part, backward compatible in the sense that if a code works with Python 3.7 it will generally run with Python 3.9. But utilising a feature introduced in Python 3.9 and trying to run the code using an environment based on Python 3.7 will not work."
   ]
  },
  {
   "cell_type": "markdown",
   "metadata": {},
   "source": [
    "### Virtaul Environments\n",
    "\n",
    "Sometimes, it's useful to have different Python environments for different projects. This allows the Python environment to be configured for an individual project.\n",
    "\n",
    "We can create a new virtual environment using the Pytohon package ```venv```. To do using the Python Environment Manager:\n",
    "\n",
    "- Click on the plus at the top of the panel\n",
    "- Select \"Venv\" in the menu which drops down in the centre of the screen\n",
    "- You will then be asked to select a Python version to use. Select the one with the highest number\n",
    "- If youre asked which dependencies to install, don't tick anything, just proceed with no dependencies.\n",
    "\n",
    "This will create a new folder in your workspace named ```.venv``` which contains your new Python environment. If we return to the Python Environment Manager tab, we'll see this has replaced the previous environment in the \"Workspace Environments\" section of the panel. The environment we used before is visible in the \"Global Environments\" section of the panel further down the panel.\n",
    "\n",
    "At the top right of the interface, we can click on a symbol which allows us to choose which environment to use to run the current Notebook. If we click on this, we can see the ```.venv``` environment, as well as our local environment. Click on ```.venv``` to make sure we're using our new environment. \n",
    "\n",
    "<center><img src=\"../Resources/select_environment.png\" style=\"height:100px\" /></center>\n",
    "\n",
    "Congratulations, you've just created and activated a new Python environment!"
   ]
  },
  {
   "cell_type": "markdown",
   "metadata": {},
   "source": [
    "## Packages\n",
    "\n",
    "Packages in Python are modular pieces of additional functionality which can be added to "
   ]
  }
 ],
 "metadata": {
  "kernelspec": {
   "display_name": "Python 3",
   "language": "python",
   "name": "python3"
  },
  "language_info": {
   "codemirror_mode": {
    "name": "ipython",
    "version": 3
   },
   "file_extension": ".py",
   "mimetype": "text/x-python",
   "name": "python",
   "nbconvert_exporter": "python",
   "pygments_lexer": "ipython3",
   "version": "3.11.4"
  },
  "orig_nbformat": 4
 },
 "nbformat": 4,
 "nbformat_minor": 2
}
