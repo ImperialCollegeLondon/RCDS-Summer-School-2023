{
 "cells": [
  {
   "cell_type": "markdown",
   "metadata": {},
   "source": [
    "# Connect Four"
   ]
  },
  {
   "cell_type": "code",
   "execution_count": null,
   "metadata": {},
   "outputs": [],
   "source": [
    "import numpy as np\n",
    "\n",
    "board_0 = np.zeros((7,6),int)  # specifies int data type\n",
    "\n",
    "board_7 = np.array([[0, 0, 0, 0, 0, 0],\n",
    "                    [1, 0, 0, 0, 0, 0],\n",
    "                    [2, 1, 1, 0, 0, 0],\n",
    "                    [1, 2, 0, 0, 0, 0],\n",
    "                    [2, 0, 0, 0, 0, 0],\n",
    "                    [0, 0, 0, 0, 0, 0],\n",
    "                    [0, 0, 0, 0, 0, 0]])\n"
   ]
  },
  {
   "cell_type": "markdown",
   "metadata": {},
   "source": [
    "### Task 1: Board orientation\n"
   ]
  },
  {
   "cell_type": "code",
   "execution_count": null,
   "metadata": {},
   "outputs": [],
   "source": [
    "def display(board):\n",
    "    for j in range(5,-1,-1):   # row index from 5 to 0\n",
    "        for i in range(7):     # column index from 0 to 6\n",
    "            print(board[i,j], end=\" \")\n",
    "        print()      \n",
    "\n",
    "display(board_7)\n",
    "            "
   ]
  },
  {
   "cell_type": "markdown",
   "metadata": {},
   "source": [
    "### Task 2: Board update"
   ]
  },
  {
   "cell_type": "code",
   "execution_count": null,
   "metadata": {},
   "outputs": [],
   "source": [
    "def do_move(board, player, column):\n",
    "    \"\"\"Returns the new board configuration after the specified move.\n",
    "\n",
    "    Parameters:\n",
    "        board (numpy.ndarray): The current board configuration.\n",
    "        player (int): The player who is moving (1 or 2).\n",
    "        column (int): The column in which they play (0-6).\n",
    "\n",
    "    Returns:\n",
    "        numpy.ndarray: The board configuration after the move. \"\"\"\n",
    "    \n",
    "    new_board = board.copy()\n",
    "    \n",
    "    # We are given the chosen column but need to find the \n",
    "    # first empty row for that column.\n",
    "    row = 0\n",
    "    while( row < 6 and new_board[column,row] != 0 ):\n",
    "        row += 1\n",
    "    \n",
    "    # If all the rows are full then this is an illegal move,\n",
    "    # so print a warning, otherwise update the board.\n",
    "    if ( row == 6 ):\n",
    "        print( \"That column is already full!\" )\n",
    "    else:\n",
    "        new_board[column,row] = player\n",
    "    \n",
    "    return(new_board)\n",
    "    \n",
    "    "
   ]
  },
  {
   "cell_type": "code",
   "execution_count": null,
   "metadata": {},
   "outputs": [],
   "source": [
    "board_8 = do_move(board_7,2,4) # Player 2 chooses column 4\n",
    "display(board_8)"
   ]
  },
  {
   "cell_type": "markdown",
   "metadata": {},
   "source": [
    "### Task 3: Legal move\n",
    "\n",
    "Write a function `get_move(board, player)` that returns a legal move (column index) for the given player."
   ]
  },
  {
   "cell_type": "code",
   "execution_count": null,
   "metadata": {},
   "outputs": [],
   "source": [
    "def get_move(board, player):\n",
    "    \"\"\"Returns a legal move for the given player.\n",
    "\n",
    "    Parameters:\n",
    "        board (numpy.ndarray): The current board configuration.\n",
    "        player (int): The player who is moving (1 or 2).\n",
    "\n",
    "    Returns:\n",
    "        int: The chosen column index. \"\"\"\n",
    "    \n",
    "    # For a very simple version of this function, we could \n",
    "    # choose a random column that is not full.\n",
    "    col = -1\n",
    "    top_cell = -1\n",
    "    while(top_cell != 0):\n",
    "        col = np.random.randint(7)\n",
    "        top_cell = board[col,5]\n",
    "    return col\n",
    "    "
   ]
  },
  {
   "cell_type": "code",
   "execution_count": null,
   "metadata": {},
   "outputs": [],
   "source": [
    "move_9 = get_move(board_8,1) \n",
    "print(\"Player 1 chooses column\", move_9)\n",
    "board_9 = do_move(board_8,1,move_9)\n",
    "display(board_9)\n"
   ]
  },
  {
   "cell_type": "markdown",
   "metadata": {},
   "source": [
    "### Task 4: Who has won?"
   ]
  },
  {
   "cell_type": "code",
   "execution_count": null,
   "metadata": {},
   "outputs": [],
   "source": [
    "def winner(board):\n",
    "    \"\"\"Analyse the board to determine if there is a winner.\n",
    "\n",
    "    Parameters:\n",
    "        board (numpy.ndarray): The current board configuration.\n",
    "        player (int): The player who is moving (1 or 2).\n",
    "        column (int): The column in which they play (0-6).\n",
    "\n",
    "    Returns:\n",
    "        int : { -1 if the game is not yet over.\n",
    "                 0 if the game is a draw.\n",
    "                 1 if red has won.\n",
    "                 2 if yellow has won. }           \"\"\"\n",
    "\n",
    "    # A flag to indicate whether any empty cells remain\n",
    "    spaces = False\n",
    "    \n",
    "    # Winning lines can be horizontal, vertical or diagonal.\n",
    "    # We will check each cell in turn to see if it is the start of a\n",
    "    # winning line of each type\n",
    "    for column in range(7):\n",
    "        for row in range(6):\n",
    "            current = board[column,row]\n",
    "            if ( current == 0 ):\n",
    "                spaces = True  # set the flag if a space is found\n",
    "            else:\n",
    "                # start checking for lines\n",
    "                if ( horizontal(board,column,row) or \n",
    "                     vertical(board,column,row) or \n",
    "                     diag_up(board,column,row) or \n",
    "                     diag_down(board,column,row) ):\n",
    "                    return current\n",
    "    \n",
    "    # If we reach here then there are no winning lines.\n",
    "    # If spaces remain then the game can continue.\n",
    "    # If no spaces then it is a draw.\n",
    "    if spaces:\n",
    "        return -1\n",
    "    else:\n",
    "        return 0\n",
    "\n",
    "def horizontal(board,column,row):\n",
    "    if ( column >= 4 ): \n",
    "        return False \n",
    "    player = board[column,row]\n",
    "    for i in range(column + 1, column + 4):\n",
    "        if ( board[i,row] != player ):\n",
    "            return False\n",
    "    return True\n",
    "    \n",
    "def vertical(board,column,row):\n",
    "    if ( row >= 3 ): \n",
    "        return False \n",
    "    player = board[column,row]\n",
    "    for j in range(row + 1, row + 4):\n",
    "        if ( board[column,j] != player ):\n",
    "            return False\n",
    "    return True\n",
    "\n",
    "def diag_up(board,column,row):\n",
    "    if ( column >= 4 or row >= 3 ): \n",
    "        return False \n",
    "    player = board[column,row]\n",
    "    j = row\n",
    "    for i in range(column + 1, column + 4):\n",
    "        j += 1\n",
    "        if ( board[i,j] != player ):\n",
    "            return False\n",
    "    return True\n",
    "\n",
    "def diag_down(board,column,row):\n",
    "    if ( column >= 4 or row < 3 ): \n",
    "        return False \n",
    "    player = board[column,row]\n",
    "    j = row\n",
    "    for i in range(column + 1, column + 4):\n",
    "        j -= 1\n",
    "        if ( board[i,j] != player ):\n",
    "            return False\n",
    "    return True"
   ]
  },
  {
   "cell_type": "code",
   "execution_count": null,
   "metadata": {},
   "outputs": [],
   "source": [
    "print(winner(board_0)) # -1 (continue)"
   ]
  },
  {
   "cell_type": "code",
   "execution_count": null,
   "metadata": {},
   "outputs": [],
   "source": [
    "print(winner(board_8)) # -1 (continue)"
   ]
  },
  {
   "cell_type": "code",
   "execution_count": null,
   "metadata": {},
   "outputs": [],
   "source": [
    "print(winner(np.array([[0, 0, 0, 0, 0, 0],\n",
    "                       [1, 0, 0, 0, 0, 0],\n",
    "                       [2, 1, 1, 1, 1, 0],\n",
    "                       [1, 2, 0, 0, 0, 0],\n",
    "                       [2, 2, 2, 0, 0, 0],\n",
    "                       [0, 0, 0, 0, 0, 0],\n",
    "                       [0, 0, 0, 0, 0, 0]])))  # 1 (red vertical)"
   ]
  },
  {
   "cell_type": "code",
   "execution_count": null,
   "metadata": {},
   "outputs": [],
   "source": [
    "print(winner(np.array([[1, 0, 0, 0, 0, 0],\n",
    "                       [1, 1, 0, 0, 0, 0],\n",
    "                       [2, 1, 1, 1, 2, 0],\n",
    "                       [1, 2, 1, 1, 0, 0],\n",
    "                       [2, 2, 0, 0, 0, 0],\n",
    "                       [2, 2, 0, 0, 0, 0],\n",
    "                       [2, 0, 0, 0, 0, 0]])))  # 1 (red diag_up)"
   ]
  },
  {
   "cell_type": "code",
   "execution_count": null,
   "metadata": {},
   "outputs": [],
   "source": [
    "print(winner(np.array([[1, 1, 0, 0, 0, 0],\n",
    "                       [1, 1, 0, 0, 0, 0],\n",
    "                       [2, 1, 1, 1, 2, 0],\n",
    "                       [1, 2, 1, 0, 0, 0],\n",
    "                       [2, 2, 0, 0, 0, 0],\n",
    "                       [2, 2, 0, 0, 0, 0],\n",
    "                       [2, 2, 0, 0, 0, 0]])))  # 2 (yellow horiz)"
   ]
  },
  {
   "cell_type": "markdown",
   "metadata": {},
   "source": [
    "### Task 5: Play against the computer\n"
   ]
  },
  {
   "cell_type": "code",
   "execution_count": null,
   "metadata": {},
   "outputs": [],
   "source": [
    "# A slightly more user-friendly display function\n",
    "def display(board):\n",
    "    for j in range(5,-1,-1):   \n",
    "        for i in range(7):   \n",
    "            if(board[i,j] == 1):\n",
    "                print('R', end=\" \")\n",
    "            elif(board[i,j] == 2):\n",
    "                print('Y', end=\" \")\n",
    "            else:\n",
    "                print('.', end=\" \")\n",
    "        print()    "
   ]
  },
  {
   "cell_type": "code",
   "execution_count": null,
   "metadata": {},
   "outputs": [],
   "source": [
    "# Function to run the game\n",
    "def connect_four():\n",
    "    \n",
    "    # Start with an empty board\n",
    "    board = np.zeros((7,6),int)\n",
    "   \n",
    "    # Initialise status\n",
    "    status = -1\n",
    "    player = -1\n",
    "\n",
    "    # Show the board:\n",
    "    display(board)\n",
    "    print()\n",
    "     \n",
    "    ## Game loop\n",
    "    while(status == -1):\n",
    "        \n",
    "        # Who moves next?\n",
    "        if(player == 1):\n",
    "            player = 2\n",
    "        else:\n",
    "            player = 1\n",
    "        \n",
    "        # Get the player's move and update the board\n",
    "        board = do_player(board,player)\n",
    "        \n",
    "        # Show the board:\n",
    "        display(board)\n",
    "        print()\n",
    "    \n",
    "        # Check for a winner:\n",
    "        status = winner(board)\n",
    "        \n",
    "    # End of the game\n",
    "    if(status == 1):\n",
    "        print(\"Red wins!\")\n",
    "    elif(status == 2):\n",
    "        print(\"Yellow wins!\")\n",
    "    elif(status == 0):\n",
    "        print(\"It's a draw!\")\n",
    "\n",
    "    \n",
    "def do_player(board,player):\n",
    "    if(player == 1):\n",
    "        # Red(human) moves:\n",
    "        col = -1\n",
    "        while( col < 0 or col > 6):\n",
    "            response = input(\"Please enter a column number (0-6):\")\n",
    "            col = int(response)\n",
    "        return do_move(board,1,col)\n",
    "    else:\n",
    "        # Yellow(computer) moves:\n",
    "        col = get_move(board,2)\n",
    "        print(\"Yellow chooses column\",col)\n",
    "        return do_move(board,2,col)\n",
    "        \n",
    "    "
   ]
  },
  {
   "cell_type": "code",
   "execution_count": null,
   "metadata": {},
   "outputs": [],
   "source": [
    "connect_four()"
   ]
  },
  {
   "cell_type": "markdown",
   "metadata": {},
   "source": [
    "### Task 6: Strategy\n"
   ]
  },
  {
   "cell_type": "code",
   "execution_count": null,
   "metadata": {},
   "outputs": [],
   "source": [
    "# There are many options here, but one strategy would be\n",
    "# to write some functions that can search for incomplete lines.\n",
    "\n",
    "# The easiest example is to look for vertical lines only.\n",
    "# The other types of lines are harder!\n",
    "\n",
    "# We want to \n",
    "# 1) complete our own line if possible\n",
    "# 2) block the opponent's incomplete lines\n",
    "# 3) otherwise make a random move.\n",
    "\n",
    "def get_move(board, player):\n",
    "    \"\"\"Returns a legal move for the given player.\n",
    "\n",
    "    Parameters:\n",
    "        board (numpy.ndarray): The current board configuration.\n",
    "        player (int): The player who is moving (1 or 2).\n",
    "\n",
    "    Returns:\n",
    "        int: The chosen column index. \"\"\"\n",
    "    \n",
    "    # Find the opponent's colour\n",
    "    opp = -1\n",
    "    if(player == 1): \n",
    "        opp = 2\n",
    "    else:\n",
    "        opp = 1\n",
    "        \n",
    "    # Search for our own incomplete lines\n",
    "    for column in range(7):\n",
    "        for row in range(6):\n",
    "            if(board[column,row] == player):\n",
    "                if(almost_vertical(board,column,row)):\n",
    "                    return column\n",
    "            \n",
    "    # Search for opponent's incomplete lines\n",
    "    for column in range(7):\n",
    "        for row in range(6):\n",
    "            if(board[column,row] == opp):\n",
    "                if(almost_vertical(board,column,row)):\n",
    "                    return column\n",
    "        \n",
    "    # Otherwise choose a random column\n",
    "    col = -1\n",
    "    top_cell = -1\n",
    "    while(top_cell != 0):\n",
    "        col = np.random.randint(7)\n",
    "        top_cell = board[col,5]\n",
    "    return col\n",
    "\n",
    "\n",
    "def almost_vertical(board,column,row):\n",
    "    if ( row >= 3 ): \n",
    "        return False \n",
    "    player = board[column,row]\n",
    "    for j in range(row + 1, row + 3):\n",
    "        if ( board[column,j] != player ):\n",
    "            return False\n",
    "    if( board[column,row + 3] == 0 ): # last space is empty\n",
    "        return True\n",
    "    return False\n",
    "\n",
    "   "
   ]
  },
  {
   "cell_type": "code",
   "execution_count": null,
   "metadata": {},
   "outputs": [],
   "source": [
    "connect_four()"
   ]
  }
 ],
 "metadata": {
  "kernelspec": {
   "display_name": "Python 3",
   "language": "python",
   "name": "python3"
  },
  "language_info": {
   "codemirror_mode": {
    "name": "ipython",
    "version": 3
   },
   "file_extension": ".py",
   "mimetype": "text/x-python",
   "name": "python",
   "nbconvert_exporter": "python",
   "pygments_lexer": "ipython3",
   "version": "3.8.3"
  }
 },
 "nbformat": 4,
 "nbformat_minor": 4
}
