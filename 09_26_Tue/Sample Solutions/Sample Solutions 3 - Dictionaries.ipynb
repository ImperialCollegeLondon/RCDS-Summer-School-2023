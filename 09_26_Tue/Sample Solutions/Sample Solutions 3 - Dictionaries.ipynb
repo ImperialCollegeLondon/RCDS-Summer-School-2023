{
 "cells": [
  {
   "cell_type": "markdown",
   "metadata": {},
   "source": [
    "# Base Counting\n",
    "\n",
    "## Without using str.count()"
   ]
  },
  {
   "cell_type": "code",
   "execution_count": 1,
   "metadata": {},
   "outputs": [
    {
     "name": "stdout",
     "output_type": "stream",
     "text": [
      "{'A': 0, 'C': 0, 'G': 0, 'T': 0}\n",
      "{'A': 1, 'C': 1, 'G': 1, 'T': 1}\n",
      "{'A': 2, 'C': 2, 'G': 2, 'T': 2}\n",
      "{'A': 3, 'C': 1, 'G': 1, 'T': 2}\n"
     ]
    }
   ],
   "source": [
    "def base_counter(sequence):\n",
    "    base_counts = {\"A\": 0, \"C\": 0, \"G\": 0, \"T\": 0}\n",
    "    for base in sequence:\n",
    "        base_counts[base] += 1\n",
    "    return base_counts\n",
    "\n",
    "# Some tests\n",
    "print(base_counter(\"\")) # Should print {'A': 0, 'C': 0, 'G': 0, 'T': 0}\n",
    "print(base_counter(\"ACGT\")) # Should print {'A': 1, 'C': 1, 'G': 1, 'T': 1}\n",
    "print(base_counter(\"TGCAACGT\")) # Should print {'A': 2, 'C': 2, 'G': 2, 'T': 2}\n",
    "print(base_counter(\"GATTACA\")) # Should print {'A': 3, 'C': 1, 'G': 1, 'T': 2}"
   ]
  },
  {
   "cell_type": "markdown",
   "metadata": {},
   "source": [
    "## Using str.count()"
   ]
  },
  {
   "cell_type": "code",
   "execution_count": 2,
   "metadata": {},
   "outputs": [
    {
     "name": "stdout",
     "output_type": "stream",
     "text": [
      "{'A': 0, 'C': 0, 'G': 0, 'T': 0}\n",
      "{'A': 1, 'C': 1, 'G': 1, 'T': 1}\n",
      "{'A': 2, 'C': 2, 'G': 2, 'T': 2}\n",
      "{'A': 3, 'C': 1, 'G': 1, 'T': 2}\n"
     ]
    }
   ],
   "source": [
    "def base_counter(sequence):\n",
    "    return {\"A\": sequence.count(\"A\"), \"C\": sequence.count(\"C\"), \"G\": sequence.count(\"G\"), \"T\": sequence.count(\"T\")}\n",
    "\n",
    "# Some tests\n",
    "print(base_counter(\"\")) # Should print {'A': 0, 'C': 0, 'G': 0, 'T': 0}\n",
    "print(base_counter(\"ACGT\")) # Should print {'A': 1, 'C': 1, 'G': 1, 'T': 1}\n",
    "print(base_counter(\"TGCAACGT\")) # Should print {'A': 2, 'C': 2, 'G': 2, 'T': 2}\n",
    "print(base_counter(\"GATTACA\")) # Should print {'A': 3, 'C': 1, 'G': 1, 'T': 2}"
   ]
  }
 ],
 "metadata": {
  "kernelspec": {
   "display_name": "Python 3",
   "language": "python",
   "name": "python3"
  },
  "language_info": {
   "codemirror_mode": {
    "name": "ipython",
    "version": 3
   },
   "file_extension": ".py",
   "mimetype": "text/x-python",
   "name": "python",
   "nbconvert_exporter": "python",
   "pygments_lexer": "ipython3",
   "version": "3.11.4"
  },
  "orig_nbformat": 4
 },
 "nbformat": 4,
 "nbformat_minor": 2
}
