{
 "cells": [
  {
   "cell_type": "markdown",
   "metadata": {},
   "source": [
    "# Reading Chemical Formulae"
   ]
  },
  {
   "cell_type": "code",
   "execution_count": null,
   "metadata": {},
   "outputs": [],
   "source": [
    "def count_atoms(formula, element):\n",
    "    # We want to do different things depending on the length of the element string\n",
    "    if len(element) == 2:\n",
    "        # Find the index of the first character of the element string\n",
    "        i_element = formula.find(element)\n",
    "        if i_element < 0:\n",
    "            # If the element isn't present, i_element will be -1, so return 0\n",
    "            return 0\n",
    "        elif i_element + 2 == len(formula):\n",
    "            # In this case, the element is at the end of the compound, so is not followed by a number. Return 1\n",
    "            return 1\n",
    "        elif formula[i_element + 2].isalpha():\n",
    "            # In this case, the element is followed by another element, so is not followed by a number. Return 1\n",
    "            return 1\n",
    "        else:\n",
    "            # In this case, the element is followed by a number, so return that number as an int\n",
    "            return(int(formula[i_element + 2]))\n",
    "    elif len(element) == 1:\n",
    "        # Now we're considering the case where the element only has one character\n",
    "        # In this case, we can't use find as we might find the element as part of another element. e.g. when searching for \"N\" in NaCl, we would find it as part of \"Na\", even though it's not the element we're looking for\n",
    "        for i_char in range(len(formula)):\n",
    "            # Instead, loop over the characters in the formula string\n",
    "            if formula[i_char] == element:\n",
    "                # We found the element\n",
    "                if i_char == len(formula) - 1:\n",
    "                    # Check if it's at the end of the string compound - if it is, it's not followed by a number or a lower case letter, so return 1\n",
    "                    return 1\n",
    "                elif formula[i_char + 1].isupper():\n",
    "                    # If the next character is upper case, it's a new element, so return 1\n",
    "                    return 1\n",
    "                elif formula[i_char + 1].isnumeric():\n",
    "                    # If the next character is a number, return that number as an int\n",
    "                    return(int(formula[i_char + 1]))\n",
    "                # If we get here, the next character is lower case, so the character we found is part of a larger element, so continue the loop\n",
    "        \n",
    "        # If we get here, the element wasn't found, so return 0\n",
    "        return  0\n",
    "    \n",
    "print(count_atoms(\"H2O\", \"H\")) # Should return 2\n",
    "print(count_atoms(\"H2O\", \"Si\")) # Should return 0\n",
    "print(count_atoms(\"NaCl\", \"Cl\")) # Should return 1\n",
    "print(count_atoms(\"Al2O3\", \"Al\")) # Should return 2\n",
    "print(count_atoms(\"NaBrO3\", \"Br\")) # Should return 1"
   ]
  }
 ],
 "metadata": {
  "language_info": {
   "name": "python"
  },
  "orig_nbformat": 4
 },
 "nbformat": 4,
 "nbformat_minor": 2
}
