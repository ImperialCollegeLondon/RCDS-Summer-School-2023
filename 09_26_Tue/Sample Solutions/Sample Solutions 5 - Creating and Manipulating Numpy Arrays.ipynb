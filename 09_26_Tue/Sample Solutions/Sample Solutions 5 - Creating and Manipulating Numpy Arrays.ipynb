{
 "cells": [
  {
   "cell_type": "markdown",
   "metadata": {},
   "source": [
    "# Creating Arrays"
   ]
  },
  {
   "cell_type": "code",
   "execution_count": null,
   "metadata": {},
   "outputs": [],
   "source": [
    "# Import NumPy\n",
    "import numpy as np\n",
    "\n",
    "# Create the 1D array\n",
    "bools = np.array([True, False, True])\n",
    "print(bools)\n",
    "\n",
    "# Create the array of zeros\n",
    "a = np.zeros([4,3,2])\n",
    "print(a)\n",
    "\n",
    "# Print a separating line to separate the arrays in the output\n",
    "print(\"==============\")\n",
    "\n",
    "# Create the array with the increasing numbers\n",
    "b = np.arange(24).reshape([4,3,2])\n",
    "print(b)\n",
    "\n",
    "# Print a separating line to separate the arrays in the output\n",
    "print(\"==============\")\n",
    "\n",
    "# Create an array with every other value from 4 to 50\n",
    "c = np.arange(4, 51, 2).reshape([4,3,2])\n",
    "print(c)"
   ]
  },
  {
   "cell_type": "markdown",
   "metadata": {},
   "source": [
    "# Manipulating Arrays"
   ]
  },
  {
   "cell_type": "code",
   "execution_count": null,
   "metadata": {},
   "outputs": [],
   "source": [
    "import numpy as np\n",
    "\n",
    "start_array = np.arange(30).reshape([3,5,2])\n",
    "\n",
    "# Print the initial array for reference\n",
    "print(start_array)\n",
    "# Print a separating line to separate the arrays\n",
    "print(\"==============\")\n",
    "a = start_array[:2,3:,0]\n",
    "print(a)\n",
    "\n",
    "# Print a separating line to separate the arrays\n",
    "print(\"==============\")\n",
    "a[1,1] = 4\n",
    "print(a)\n",
    "\n",
    "# Print a separating line to separate the arrays\n",
    "print(\"==============\")\n",
    "a[0,:] = np.array([1,2])\n",
    "print(a)"
   ]
  }
 ],
 "metadata": {
  "language_info": {
   "name": "python"
  },
  "orig_nbformat": 4
 },
 "nbformat": 4,
 "nbformat_minor": 2
}
