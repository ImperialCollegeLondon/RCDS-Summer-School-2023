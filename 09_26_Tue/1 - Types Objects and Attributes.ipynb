{
 "cells": [
  {
   "cell_type": "markdown",
   "metadata": {
    "id": "dDl9A8u7IkBw"
   },
   "source": [
    "# Types, Objects, and Attributes\n",
    "\n",
    "In Python, everything is an object. An object is an instance of a \"type\", which may be thought of as a template for a particular piece of information or group of bits of information.  We may find out the type of an object using the ```type``` function:"
   ]
  },
  {
   "cell_type": "code",
   "execution_count": null,
   "metadata": {
    "id": "HFcpJBWVekik"
   },
   "outputs": [],
   "source": [
    "print(type(3.14))"
   ]
  },
  {
   "cell_type": "code",
   "execution_count": null,
   "metadata": {
    "id": "r3GZ4mfNelvq"
   },
   "outputs": [],
   "source": [
    "a = 2\n",
    "print(type(a))"
   ]
  },
  {
   "cell_type": "code",
   "execution_count": null,
   "metadata": {
    "id": "HrjwLV3ienBf"
   },
   "outputs": [],
   "source": [
    "print(type(False))"
   ]
  },
  {
   "cell_type": "code",
   "execution_count": null,
   "metadata": {
    "id": "khd9lWCCeoPh"
   },
   "outputs": [],
   "source": [
    "print(type(print))"
   ]
  },
  {
   "cell_type": "code",
   "execution_count": null,
   "metadata": {
    "id": "-3GIrXeNepZP"
   },
   "outputs": [],
   "source": [
    "def sample_function():\n",
    "  print(\"Sample\")\n",
    "\n",
    "print(type(sample_function))"
   ]
  },
  {
   "cell_type": "code",
   "execution_count": null,
   "metadata": {
    "id": "KoN6e3hbIcKW"
   },
   "outputs": [],
   "source": [
    "print(type(int))"
   ]
  },
  {
   "cell_type": "markdown",
   "metadata": {
    "id": "j9Ecu0v3M7tv"
   },
   "source": [
    "As you can see, values, functions (such as the```print``` function), and user-defined functions are also an examples of types. It's also possible to define a new type in Python, which allows us to use a powerful feature of the language called \"object-oriented programming\". We will not be covering object-oriented programming in this course, but it's definitely worth learning about if you plan to use Python in the extensively.\n",
    "\n",
    "You may think of a type as a blueprint for a particular arrangement of data. The ```int``` type is a blueprint for the information required to define a whole number, but the variable ```a``` in the code segment above is an object of the ```int``` type with data which represents the value 2.\n",
    "\n",
    "An object of a certain type is sometimes referred to as an \"instance\" of the that type.\n",
    "\n",
    "It is worth noting that the word \"class\" is almost interchangeable with the word \"type\" in modern Python, although their meanings differed more in earlier versions of the language."
   ]
  },
  {
   "cell_type": "markdown",
   "metadata": {},
   "source": [
    "## Attributes\n",
    "\n",
    "Types have attributes, which are pieces of information or functionality which are associated with the type.\n",
    "\n",
    "There are two main types of attributes - data attributes and methods.  Data attributes (sometimes known as member variables) are pieces of information which are stored within the type or object, and methods are functions which are associated with the type or object.  We may access an attribute of a class or object by writing the name of the type or object, a period, then the name of the attribute. We can get more information on the attribute by using the ```help``` function."
   ]
  },
  {
   "cell_type": "code",
   "execution_count": null,
   "metadata": {},
   "outputs": [],
   "source": [
    "help(list.append)"
   ]
  },
  {
   "cell_type": "markdown",
   "metadata": {},
   "source": [
    "We can call a method by writing the name of the type or object, a period, then the name of the method, followed by parentheses.  We may pass arguments to the method by writing them inside the parentheses."
   ]
  },
  {
   "cell_type": "code",
   "execution_count": null,
   "metadata": {},
   "outputs": [],
   "source": [
    "my_list = [1, 2, 3, 4, 5]\n",
    "my_list.append(6)\n",
    "print(my_list)"
   ]
  },
  {
   "cell_type": "markdown",
   "metadata": {},
   "source": [
    "Methods are functions designed to allow you to access, retrieve and manipulate the data associated with an object. Using appropriate methods of an object is often a convenient and powerful way to interact with an object.\n",
    "\n",
    "Now, we'll have a look at strings and dictionaries which contain examples of methods and data attributes, as well as being useful in their own right."
   ]
  }
 ],
 "metadata": {
  "colab": {
   "authorship_tag": "ABX9TyNts0kfZhsbiLHLA1FiBQv7",
   "collapsed_sections": [],
   "name": "Types and Objects.ipynb",
   "provenance": []
  },
  "kernelspec": {
   "display_name": "Python 3",
   "language": "python",
   "name": "python3"
  },
  "language_info": {
   "codemirror_mode": {
    "name": "ipython",
    "version": 3
   },
   "file_extension": ".py",
   "mimetype": "text/x-python",
   "name": "python",
   "nbconvert_exporter": "python",
   "pygments_lexer": "ipython3",
   "version": "3.11.4"
  }
 },
 "nbformat": 4,
 "nbformat_minor": 1
}
