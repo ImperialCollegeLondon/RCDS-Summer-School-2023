{
 "cells": [
  {
   "cell_type": "markdown",
   "metadata": {
    "id": "dDl9A8u7IkBw"
   },
   "source": [
    "# Types, Objects, and Attributes\n",
    "\n",
    "In Python, everything is an object. An object is an instance of a \"type\", which may be thought of as a template for a particular piece of information or group of bits of information.  We may find out the type of an object using the ```type``` function:"
   ]
  },
  {
   "cell_type": "code",
   "execution_count": null,
   "metadata": {
    "id": "HFcpJBWVekik"
   },
   "outputs": [],
   "source": [
    "print(type(3.14))"
   ]
  },
  {
   "cell_type": "code",
   "execution_count": null,
   "metadata": {
    "id": "r3GZ4mfNelvq"
   },
   "outputs": [],
   "source": [
    "a = 2\n",
    "print(type(a))"
   ]
  },
  {
   "cell_type": "code",
   "execution_count": null,
   "metadata": {
    "id": "HrjwLV3ienBf"
   },
   "outputs": [],
   "source": [
    "print(type(False))"
   ]
  },
  {
   "cell_type": "code",
   "execution_count": null,
   "metadata": {
    "id": "khd9lWCCeoPh"
   },
   "outputs": [],
   "source": [
    "print(type(print))"
   ]
  },
  {
   "cell_type": "code",
   "execution_count": null,
   "metadata": {
    "id": "-3GIrXeNepZP"
   },
   "outputs": [],
   "source": [
    "def sample_function():\n",
    "  print(\"Sample\")\n",
    "\n",
    "print(type(sample_function))"
   ]
  },
  {
   "cell_type": "code",
   "execution_count": null,
   "metadata": {
    "id": "KoN6e3hbIcKW"
   },
   "outputs": [],
   "source": [
    "print(type(int))"
   ]
  },
  {
   "cell_type": "markdown",
   "metadata": {
    "id": "j9Ecu0v3M7tv"
   },
   "source": [
    "As you can see, values, functions (such as the```print``` function), and user-defined functions are also an examples of types. It's also possible to define a new type in Python, which allows us to use a powerful feature of the language called \"object-oriented programming\". We will not be covering object-oriented programming in this course, but it's definitely worth learning about if you plan to use Python in the extensively.\n",
    "\n",
    "You may think of a type as a blueprint for a particular arrangement of data. The ```int``` type is a blueprint for the information required to define a whole number, but the variable ```a``` in the code segment above is an object of the ```int``` type with data which represents the value 2.\n",
    "\n",
    "An object of a certain type is sometimes referred to as an \"instance\" of the that type.\n",
    "\n",
    "It is worth noting that the word \"class\" is almost interchangeable with the word \"type\" in modern Python, although their meanings differed more in earlier versions of the language."
   ]
  },
  {
   "cell_type": "markdown",
   "metadata": {},
   "source": [
    "## Attributes\n",
    "\n",
    "Types have attributes, which are pieces of information which are associated with the type.  We may find out the attributes of a type using the ```dir``` function, which prints the names of the attributes of a type:"
   ]
  },
  {
   "cell_type": "code",
   "execution_count": null,
   "metadata": {},
   "outputs": [],
   "source": [
    "print(dir(int))"
   ]
  },
  {
   "cell_type": "markdown",
   "metadata": {},
   "source": [
    "We can also examine the attributes of an object using the ```dir``` function:"
   ]
  },
  {
   "cell_type": "code",
   "execution_count": null,
   "metadata": {},
   "outputs": [],
   "source": [
    "a = 3\n",
    "\n",
    "print(dir(a))"
   ]
  },
  {
   "cell_type": "markdown",
   "metadata": {},
   "source": [
    "Note that, as our variable ```a``` is an instance of an ```int```, it contains most of the attributes of that type. \n",
    "\n",
    "Most of th attributes of the ```int``` type and ```int``` object ```a``` begin and end with a double underscore ```__``` which indicates that they are \"magic methods\" which allow different Python constructs to interact with the object.  For example, the ```__add__``` method allows the ```+``` operator to add two ```int``` objects together.\n",
    "\n",
    "It's a convention in Python that any attribute that begins and ends with an underscore ```_``` is not intended to be used directly by the programmer.\n",
    "\n",
    "There are two main types of attributes - data attributes and methods.  Data attributes (sometimes known as member variables) are pieces of information which are associated with the type or object, and methods are functions which are associated with the type or object.  We may access an attribute of a class or object by writing the name of the type or object, a period, then the name of the attribute. We can find out the type of an attribute using the ```type``` function:"
   ]
  },
  {
   "cell_type": "code",
   "execution_count": null,
   "metadata": {},
   "outputs": [],
   "source": [
    "print(type(a.to_bytes)) # This is a method\n",
    "print(type(a.numerator)) # This stores the value of the integer\n",
    "\n",
    "print(a.to_bytes()) # Returns the value of the int as a byte object\n",
    "print(a.numerator) # Returns the value of the int"
   ]
  },
  {
   "cell_type": "markdown",
   "metadata": {},
   "source": [
    "The good news is we don't need to understand how all the attributes of built-in types like ```int```s work in order to use them.\n",
    "\n",
    "We've taken a bit of a peek under the hood of how Python works here. Retruning to more practical matters, the key takeaways are:\n",
    "\n",
    "- Objects are instances of types/classes.\n",
    "- Types describe how an instance of that type behaves.\n",
    "- Types have attributes.\n",
    "- Attributes may be data attributes or methods.\n",
    "- Data attributes are pieces of information associated with the type.\n",
    "- Methods are functions designed to allow you to access, retrieve and manipulate the data associated with an object.\n",
    "\n",
    " We've already seen an example of this with the ```append``` method of lists, which allowed us to add an extra item to the data of a list. We'll have a look at ```str```s (commonly referred to as strings) and dictionaries which contain examples of methods and data attributes, as well as being useful in their own right."
   ]
  }
 ],
 "metadata": {
  "colab": {
   "authorship_tag": "ABX9TyNts0kfZhsbiLHLA1FiBQv7",
   "collapsed_sections": [],
   "name": "Types and Objects.ipynb",
   "provenance": []
  },
  "kernelspec": {
   "display_name": "Python 3",
   "language": "python",
   "name": "python3"
  },
  "language_info": {
   "codemirror_mode": {
    "name": "ipython",
    "version": 3
   },
   "file_extension": ".py",
   "mimetype": "text/x-python",
   "name": "python",
   "nbconvert_exporter": "python",
   "pygments_lexer": "ipython3",
   "version": "3.11.4"
  }
 },
 "nbformat": 4,
 "nbformat_minor": 1
}
