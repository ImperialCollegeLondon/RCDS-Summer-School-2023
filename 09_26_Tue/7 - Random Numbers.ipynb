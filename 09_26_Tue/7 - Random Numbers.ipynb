{
 "cells": [
  {
   "cell_type": "markdown",
   "metadata": {},
   "source": [
    "# Random Numbers\n",
    "\n",
    "Calculating a series of random numbers can be useful when simulating various real-world effects and behaviours. It might be that there is some heterogeneity in the population that you want to model, or that you want to simulate some random events. In other cases, we want to In this notebook we will look at how to generate random numbers in Python using Numpy.\n",
    "\n",
    "## Generating Random Numbers\n",
    "\n",
    "The module ```numpy.random``` contains a [suite of tools](https://numpy.org/doc/stable/reference/random/index.html#module-numpy.random) which generate random numbers. The recommended way to use this module to generate random numbers is to create a random number generator using the ```numpy.random.default_rng()``` function:"
   ]
  },
  {
   "cell_type": "code",
   "execution_count": null,
   "metadata": {},
   "outputs": [],
   "source": [
    "import numpy as np\n",
    "\n",
    "# Create a generator object\n",
    "generator = np.random.default_rng()\n",
    "\n",
    "#Check its type\n",
    "print(type(generator))"
   ]
  },
  {
   "cell_type": "markdown",
   "metadata": {},
   "source": [
    "This generator contains several methods which generates random numbers from different distributions. These values will be returned in ```numpy``` arrays.\n",
    "\n",
    "Throughout this notebook, we will be using the Python package ```matplotlib``` to plot a histogram displaying the distribution of the random numbers we generate. You will learn more about ```matplotlib``` tomorrow. For now, don't worry about exactly how it works.\n",
    "\n",
    "### Uniform Distribution\n",
    "\n",
    "The uniform distribution is a distribution where all values are equally likely. The ```random``` method takes one argument and generates that many random numbers uniformly distributed between 0 and 1:"
   ]
  },
  {
   "cell_type": "code",
   "execution_count": null,
   "metadata": {},
   "outputs": [],
   "source": [
    "uniform = generator.random(10)\n",
    "\n",
    "print(uniform)\n",
    "\n",
    "import matplotlib.pyplot as plt\n",
    "\n",
    "plt.hist(generator.random(100000), bins=100)\n",
    "\n",
    "plt.show()"
   ]
  },
  {
   "cell_type": "markdown",
   "metadata": {},
   "source": [
    "Alternatively, we can use the ```uniform``` method to generate random numbers uniformly distributed between two values. This methods receives three arguments: the lower bound and the upper bound of the distribution and the number of numbers to generate:"
   ]
  },
  {
   "cell_type": "code",
   "execution_count": null,
   "metadata": {},
   "outputs": [],
   "source": [
    "uniform = generator.uniform(100, 200, 10) # Generate ten random numbers between 100 and 200\n",
    "\n",
    "print(uniform)\n",
    "\n",
    "plt.hist(generator.uniform(100, 200, 100000), bins=100)\n",
    "plt.show()"
   ]
  },
  {
   "cell_type": "markdown",
   "metadata": {},
   "source": [
    "### Normal Distribution\n",
    "\n",
    "We can draw numbers from a normal distribution (also known as a Gaussian distribution) using the ```normal``` method. This method takes three arguments: the mean of the distribution, the standard deviation of the distribution and the number of numbers to generate:"
   ]
  },
  {
   "cell_type": "code",
   "execution_count": null,
   "metadata": {},
   "outputs": [],
   "source": [
    "gaussian = generator.normal(0, 1, 10) # Generate ten random numbers from a Gaussian distribution with mean 0 and standard deviation 1\n",
    "\n",
    "print(gaussian)\n",
    "\n",
    "plt.hist(generator.normal(0, 1, 100000), bins=100)\n",
    "plt.show()"
   ]
  },
  {
   "cell_type": "markdown",
   "metadata": {},
   "source": [
    "### Uniformly Distributed Integers\n",
    "\n",
    "We can also generate random integers uniformly distributed between two values using the ```integers``` method. This method takes three arguments: the lower bound of the distribution, the upper bound of the distribution and the number of numbers to generate. Note the distribution is inclusive of the lower bound but exclusive of the upper bound."
   ]
  },
  {
   "cell_type": "code",
   "execution_count": null,
   "metadata": {},
   "outputs": [],
   "source": [
    "integers = generator.integers(0, 10, 10) # Generate ten random integers between 0 and 10\n",
    "\n",
    "print(integers)\n",
    "\n",
    "plt.hist(generator.integers(0, 10, 100000), bins=10)\n",
    "plt.show()"
   ]
  },
  {
   "cell_type": "markdown",
   "metadata": {},
   "source": [
    "### Binomial Distribution\n",
    "\n",
    "The binomial distribution is a discrete distribution which describes the number of successes in a sequence of independent trials. The ```binomial``` method takes three arguments: the number of trials, the probability of success and the number of numbers to generate:"
   ]
  },
  {
   "cell_type": "code",
   "execution_count": null,
   "metadata": {},
   "outputs": [],
   "source": [
    "binomial = generator.binomial(100, 0.5, 10) # Generate ten random numbers from a binomial distribution with 100 trials and probability of success 0.5\n",
    "\n",
    "print(binomial)\n",
    "\n",
    "large_binomial = generator.binomial(100, 0.5, 100000) # Generate 100000 random numbers from a binomial distribution with 100 trials and probability of success 0.5\n",
    "plt.hist(large_binomial, bins=max(large_binomial) - min(large_binomial) + 1)\n",
    "plt.show() # Note this is a discrete distribution so the bins are integers"
   ]
  },
  {
   "cell_type": "markdown",
   "metadata": {},
   "source": [
    "There are lots of other distributions that we can draw random numbers from. We won't run through each of them, but you can find a full list of them [here](https://numpy.org/doc/stable/reference/random/generator.html#distributions)."
   ]
  },
  {
   "cell_type": "markdown",
   "metadata": {},
   "source": [
    "## Randomising an Order\n",
    "\n",
    "We can also randomise a sequence of numbers using the ```shuffle``` method. This method takes a sequence as an argument and shuffles it in place. This means that the method doesn't return a value, but will replace the original sequence with a shuffled version of it:"
   ]
  },
  {
   "cell_type": "code",
   "execution_count": null,
   "metadata": {},
   "outputs": [],
   "source": [
    "names = [\"Katerina\", \"Chris\", \"John\", \"Liam\", \"Jay\"]\n",
    "print(generator.shuffle(names)) # Shuffle a list of names. This functions returns None\n",
    "print(names) # Note that the list has been shuffled\n",
    "\n",
    "numbers = np.arange(10)\n",
    "generator.shuffle(numbers) # Shuffle a list of numbers\n",
    "print(numbers)"
   ]
  },
  {
   "cell_type": "markdown",
   "metadata": {},
   "source": [
    "## Not so Random?\n",
    "\n",
    "The random number generator is actually a pseudo-random number generator. This means that the numbers it generates are not truly random, but are generated using a deterministic algorithm. This algorithm is designed to produce numbers that are statistically indistinguishable from random numbers. This means that the numbers it generates are random enough for most purposes, but are not truly random. For instance, the numbers are perfectly suitable for statistical modelling, but not for cryptography.\n",
    "\n",
    "The random number generator is initialised with a seed value. This seed value determines the sequence of numbers that will be generated. We can set the seed value when we create a random number generator. If we do not, as above, the seed value will be set to a non-deterministic value drawn from the computer, such as the current time. This means two generators will generator different random sequences, or that the same code will generate different results each time it is run."
   ]
  },
  {
   "cell_type": "code",
   "execution_count": null,
   "metadata": {},
   "outputs": [],
   "source": [
    "# Create two different generators without providing a seed\n",
    "generator1 = np.random.default_rng()\n",
    "generator2 = np.random.default_rng()\n",
    "\n",
    "# These generators will (probably) generate different random numbers\n",
    "print(generator1.integers(0, 10, 10)) # Generate ten random numbers from generator1\n",
    "print(generator2.integers(0, 10, 10)) # Generate ten random numbers from generator2"
   ]
  },
  {
   "cell_type": "markdown",
   "metadata": {},
   "source": [
    "However, setting a specific seed can be useful when we want to ensure that our code will always produce the same results. For example, if we are writing a simulation, we might want to ensure that the same sequence of random numbers is generated each time we run the simulation. This will ensure that the results of the simulation are reproducible. This is particularly useful for testing, debugging, and allowing others to replicate your research.\n",
    "\n",
    "We can set the seed by providing it as a an argument when creating a random number generator. It is best practice to make this a large, unique integer, to make sure the results of the generator are not unintentionally the same as the results of another generator used in your code or someone else's code by chance."
   ]
  },
  {
   "cell_type": "code",
   "execution_count": null,
   "metadata": {},
   "outputs": [],
   "source": [
    "# Create two different generators providing the same seed\n",
    "generator1 = np.random.default_rng(6390573940573930)\n",
    "generator2 = np.random.default_rng(6390573940573930)\n",
    "\n",
    "# These generators will generate the same random numbers\n",
    "print(generator1.integers(0, 10, 10)) # Generate ten random numbers from generator1\n",
    "print(generator2.integers(0, 10, 10)) # Generate ten random numbers from generator2"
   ]
  },
  {
   "cell_type": "markdown",
   "metadata": {},
   "source": [
    "## Exercise: Monte Carlo Simulation\n",
    "\n",
    "One way we can generate an approximation of the value of $pi$ is to consider a circle of radius $r$ inside a square with a side length of $2r$.\n",
    "\n",
    "<center><img src=\"../Resources/monte_carlo_circle.png\" style=\"height:300px\" /></center>\n",
    "\n",
    "The area of he two shapes are given by:\n",
    "\n",
    "$$ A_{circle} = \\pi r^2 $$\n",
    "$$ A_{square} = (2r)^2 = 4r^2 $$\n",
    "\n",
    "We can take the ratio of these two areas to get:\n",
    "\n",
    "$$ \\frac{A_{circle}}{A_{square}} = \\frac{\\pi r^2}{4r^2} = \\frac{\\pi}{4} $$\n",
    "\n",
    "This means that we can approximate the value of $\\pi$ by generating a large number of random points inside the square and calculating the ratio of the number of points inside the circle to the total number of points. This process of creating a large number of random points and analysing their statistics is known as a Monte Carlo simulation.\n",
    "\n",
    "For simplicity, we can set the value of $r$ to 1. We generate $n$ 2D Cartesian points $(x,y)$ where $x$ and $y$ are uniformly distributed between -1 and 1. We can then calculate the distance of each point from the origin using Pythagoras' theorem:\n",
    "\n",
    "d = $\\sqrt{x^2 + y^2}$\n",
    "\n",
    "If $d$ is less than 1, the point is inside the circle. If $d$ is greater than 1, the point is outside the circle. We can then calculate the ratio of the number of points inside the circle to the total number of points. This ratio will be approximately equal to $\\frac{\\pi}{4}$.\n",
    "\n",
    "Write a function below which takes a single argument, $n$, the number of points to generate. The function should return the approximate value of $\\pi$.\n",
    "\n",
    "If you can, try to think about how to use Numpy operations to consider operations on all the points at once, rather than looping over each point individually.\n",
    "\n",
    "A sample solution can be found in the file [```Sample Solutions/Sample Solutions 7 - Random Numbers.ipynb```](Sample%20Solutions/Sample%20Solutions%207%20-%20Random%20Numbers.ipynb)"
   ]
  },
  {
   "cell_type": "code",
   "execution_count": null,
   "metadata": {},
   "outputs": [],
   "source": [
    "def monte_carlo_pi(n):\n",
    "    # Write your code here\n",
    "\n",
    "\n",
    "\n",
    "\n",
    "\n",
    "# Some tests\n",
    "# Note that, unless you specify a seed, the results will be different each time you run this code\n",
    "print(f\"10 points: {monte_carlo_pi(10)}\") # This will give a poor estimate of pi\n",
    "print(f\"100 points: {monte_carlo_pi(100)}\") # This will give a slightly better estimate of pi\n",
    "print(f\"100000 points: {monte_carlo_pi(100000)}\") # This will give a better estimate of pi\n",
    "\n",
    "# The following code plots a graph of the estimate of pi against the number of points used in the Monte Carlo simulation\n",
    "# Don't worry about the details of this code, unless you're interested \n",
    "n_points = 10 ** np.arange(1, 8)\n",
    "pi_estimates = np.array([monte_carlo_pi(n) for n in n_points])\n",
    "import matplotlib.pyplot as plt\n",
    "plt.plot(n_points, pi_estimates)\n",
    "plt.plot(n_points, np.pi * np.ones(len(n_points)), \"--\")\n",
    "plt.xscale(\"log\")\n",
    "plt.xlabel(\"Number of points\")\n",
    "plt.ylabel(\"Estimate of $\\pi$\")\n",
    "plt.show()"
   ]
  }
 ],
 "metadata": {
  "kernelspec": {
   "display_name": "Python 3",
   "language": "python",
   "name": "python3"
  },
  "language_info": {
   "codemirror_mode": {
    "name": "ipython",
    "version": 3
   },
   "file_extension": ".py",
   "mimetype": "text/x-python",
   "name": "python",
   "nbconvert_exporter": "python",
   "pygments_lexer": "ipython3",
   "version": "3.11.4"
  },
  "orig_nbformat": 4
 },
 "nbformat": 4,
 "nbformat_minor": 2
}
