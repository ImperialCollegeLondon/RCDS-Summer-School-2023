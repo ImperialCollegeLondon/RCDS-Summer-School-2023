{
 "cells": [
  {
   "cell_type": "markdown",
   "metadata": {
    "id": "gHpIejLD2OmU"
   },
   "source": [
    "# Strings\n",
    "\n",
    "Strings are a vital component of Python and are often used to record and communicate qualitative data in the form of text. In this notebook, we'll look at how to create strings, how to format them, and some of the most common string methods."
   ]
  },
  {
   "cell_type": "markdown",
   "metadata": {},
   "source": [
    "## Creating Strings\n",
    "\n",
    "To create a string in Python, we enclose a sequence of characters in single or double quotes. For example:"
   ]
  },
  {
   "cell_type": "code",
   "execution_count": 1,
   "metadata": {},
   "outputs": [],
   "source": [
    "a = \"String contents\""
   ]
  },
  {
   "cell_type": "markdown",
   "metadata": {},
   "source": [
    "We can then use the string for operations, or printing its contents. For example:"
   ]
  },
  {
   "cell_type": "code",
   "execution_count": 2,
   "metadata": {},
   "outputs": [
    {
     "name": "stdout",
     "output_type": "stream",
     "text": [
      "String contents\n"
     ]
    }
   ],
   "source": [
    "print(a)"
   ]
  },
  {
   "cell_type": "markdown",
   "metadata": {
    "id": "gLE5UJoF2xE1"
   },
   "source": [
    "## Key Features\n",
    "Strings are a type of data which contain a sequence of characters (including letters, numbers and punctuation). Similar to items in a list, these characters are indexed by integer values such that the first character has an index of 0. For instance:"
   ]
  },
  {
   "cell_type": "code",
   "execution_count": 1,
   "metadata": {
    "colab": {
     "base_uri": "https://localhost:8080/"
    },
    "executionInfo": {
     "elapsed": 20,
     "status": "ok",
     "timestamp": 1654697422042,
     "user": {
      "displayName": "Chris Cooling",
      "userId": "16044721281026986520"
     },
     "user_tz": -60
    },
    "id": "uEdAaXtC1o7L",
    "outputId": "354e416d-da55-4e04-f680-25e42aee42d3"
   },
   "outputs": [
    {
     "name": "stdout",
     "output_type": "stream",
     "text": [
      "H\n",
      "o\n"
     ]
    }
   ],
   "source": [
    "my_string = \"Hello world\"\n",
    "print(my_string[0])\n",
    "print(my_string[4])"
   ]
  },
  {
   "cell_type": "markdown",
   "metadata": {
    "id": "w1YaAy7p3R-s"
   },
   "source": [
    "We can find the length of a string using the ```len``` function:"
   ]
  },
  {
   "cell_type": "code",
   "execution_count": 2,
   "metadata": {
    "colab": {
     "base_uri": "https://localhost:8080/"
    },
    "executionInfo": {
     "elapsed": 16,
     "status": "ok",
     "timestamp": 1654697422042,
     "user": {
      "displayName": "Chris Cooling",
      "userId": "16044721281026986520"
     },
     "user_tz": -60
    },
    "id": "iZGI9O5K2OQV",
    "outputId": "5c933813-2102-4880-c14a-36a37224e953"
   },
   "outputs": [
    {
     "name": "stdout",
     "output_type": "stream",
     "text": [
      "11\n"
     ]
    }
   ],
   "source": [
    "print(len(my_string))"
   ]
  },
  {
   "cell_type": "markdown",
   "metadata": {
    "id": "CGn6v-i73bG8"
   },
   "source": [
    "We can also concatenate two strings to create a new string using the ```+``` operator:"
   ]
  },
  {
   "cell_type": "code",
   "execution_count": 3,
   "metadata": {
    "colab": {
     "base_uri": "https://localhost:8080/"
    },
    "executionInfo": {
     "elapsed": 15,
     "status": "ok",
     "timestamp": 1654697422043,
     "user": {
      "displayName": "Chris Cooling",
      "userId": "16044721281026986520"
     },
     "user_tz": -60
    },
    "id": "AHuF7AFW3ZpM",
    "outputId": "2c6d2a54-f885-4c7a-956f-d3ae9234e466"
   },
   "outputs": [
    {
     "name": "stdout",
     "output_type": "stream",
     "text": [
      "Hello world!\n"
     ]
    }
   ],
   "source": [
    "my_second_string = my_string + \"!\"\n",
    "print(my_second_string)"
   ]
  },
  {
   "cell_type": "markdown",
   "metadata": {},
   "source": [
    "Strings are a very powerful and versatile data type. They contain methods will allow us to interrogate and manipulate them in a variety of ways. If you find yourself wanting to perform an operation with a string, it's normally worth checking to see if the string object has a built-in method to help you. We'll look at some of the most common methods below."
   ]
  },
  {
   "cell_type": "markdown",
   "metadata": {
    "id": "I7kQHsKf3yf0"
   },
   "source": [
    "## Interrogating Strings\n",
    "\n",
    "Sometimes it can be useful to find out information about the characters of a string. Python contains a number of useful tools for finding out commonly required information about a string."
   ]
  },
  {
   "cell_type": "markdown",
   "metadata": {
    "id": "eWPyyz-p4ROk"
   },
   "source": [
    "### Count\n",
    "\n",
    "The ```count``` method of the string class counts the number of times one string appears in another. For example:"
   ]
  },
  {
   "cell_type": "code",
   "execution_count": 3,
   "metadata": {
    "colab": {
     "base_uri": "https://localhost:8080/"
    },
    "executionInfo": {
     "elapsed": 14,
     "status": "ok",
     "timestamp": 1654697422043,
     "user": {
      "displayName": "Chris Cooling",
      "userId": "16044721281026986520"
     },
     "user_tz": -60
    },
    "id": "o2EVTU9c3xS8",
    "outputId": "7239c6b9-a652-4cb0-953d-6c5fb9f321f8"
   },
   "outputs": [
    {
     "name": "stdout",
     "output_type": "stream",
     "text": [
      "2\n",
      "1\n",
      "1\n",
      "1\n"
     ]
    }
   ],
   "source": [
    "a = \"Strings are great!\"\n",
    "print(a.count(\"e\"))\n",
    "print(a.count(\"ea\"))\n",
    "print(a.count(\"s\")) # Note matches are case-sensitive\n",
    "print(a.count(\"!\")) # Can count  numerals or punctuation characters"
   ]
  },
  {
   "cell_type": "markdown",
   "metadata": {
    "id": "qlylWW4t8f5J"
   },
   "source": [
    "### Finding Strings in Strings\n",
    "\n",
    "The ```find``` method attempts to find the first instance of one string within another and return the index of the first character of the found string. If the string that is being searched for is not found, ```-1``` will be returned. For instance:"
   ]
  },
  {
   "cell_type": "code",
   "execution_count": 4,
   "metadata": {
    "colab": {
     "base_uri": "https://localhost:8080/"
    },
    "executionInfo": {
     "elapsed": 12,
     "status": "ok",
     "timestamp": 1654697422043,
     "user": {
      "displayName": "Chris Cooling",
      "userId": "16044721281026986520"
     },
     "user_tz": -60
    },
    "id": "Gtit6KUA5pdb",
    "outputId": "5dfa7489-57ea-4bdf-a8df-ec3aa5f7d330"
   },
   "outputs": [
    {
     "name": "stdout",
     "output_type": "stream",
     "text": [
      "9\n",
      "-1\n"
     ]
    }
   ],
   "source": [
    "a = \"Rabbits, rabbits, rabbits\"\n",
    "print(a.find(\"rabbit\")) # Note that the search is case-sensitive and only the index of the first occurrence is returned\n",
    "print(a.find(\"lapin\")) # If the substring is not found, -1 is returned"
   ]
  },
  {
   "cell_type": "markdown",
   "metadata": {
    "id": "ry1zcrfNA0LG"
   },
   "source": [
    "### Testing String Content\n",
    "\n",
    "There are several useful string methods which can examine the contents of the string and tell us if tey fulfil various criteria. These can sometimes be useful when processing or checking strings.\n",
    "\n",
    "#### Isalnum\n",
    "\n",
    "The string method ```isalnum``` checks if all charcaters in a string are letters (upper or lower case) or numbers (as opposed to punctuations, spaces, etc):"
   ]
  },
  {
   "cell_type": "code",
   "execution_count": null,
   "metadata": {
    "colab": {
     "base_uri": "https://localhost:8080/"
    },
    "executionInfo": {
     "elapsed": 328,
     "status": "ok",
     "timestamp": 1654697446953,
     "user": {
      "displayName": "Chris Cooling",
      "userId": "16044721281026986520"
     },
     "user_tz": -60
    },
    "id": "NGU98SytAiDU",
    "outputId": "6965b136-fd9b-4feb-d880-40002fe2b10a"
   },
   "outputs": [
    {
     "name": "stdout",
     "output_type": "stream",
     "text": [
      "True\n",
      "False\n",
      "False\n"
     ]
    }
   ],
   "source": [
    "print(\"City17\".isalnum())\n",
    "print(\"Big Bang\".isalnum()) # Return False because of the space\n",
    "print(\"Pop!\".isalnum())# Returns False because of the exclamation mark"
   ]
  },
  {
   "cell_type": "markdown",
   "metadata": {
    "id": "7rfnf6ZWeQJs"
   },
   "source": [
    "#### Isalpha\n",
    "\n",
    "The string method ```isalpha``` checks if all characters in a string are letters (upper or lower case):"
   ]
  },
  {
   "cell_type": "code",
   "execution_count": null,
   "metadata": {
    "colab": {
     "base_uri": "https://localhost:8080/"
    },
    "executionInfo": {
     "elapsed": 337,
     "status": "ok",
     "timestamp": 1654697451675,
     "user": {
      "displayName": "Chris Cooling",
      "userId": "16044721281026986520"
     },
     "user_tz": -60
    },
    "id": "bhhlr8k8BhVG",
    "outputId": "64100c93-8f85-4f6d-c7d2-ecf2aeb0a586"
   },
   "outputs": [
    {
     "name": "stdout",
     "output_type": "stream",
     "text": [
      "True\n",
      "False\n",
      "False\n"
     ]
    }
   ],
   "source": [
    "print(\"Hello\".isalpha())\n",
    "print(\"d20\".isalpha()) #Returns False because of the numbers\n",
    "print(\"Hello world\".isalpha()) # Returns False because of the space"
   ]
  },
  {
   "cell_type": "markdown",
   "metadata": {
    "id": "QPzX9dJqe8bR"
   },
   "source": [
    "#### Isnumeric\n",
    "\n",
    "On a simple level, the string method ```isnumeric``` chekcs if all characters in a string are numerals (0-9):"
   ]
  },
  {
   "cell_type": "code",
   "execution_count": null,
   "metadata": {
    "colab": {
     "base_uri": "https://localhost:8080/"
    },
    "executionInfo": {
     "elapsed": 16,
     "status": "ok",
     "timestamp": 1654697452195,
     "user": {
      "displayName": "Chris Cooling",
      "userId": "16044721281026986520"
     },
     "user_tz": -60
    },
    "id": "1o4Wo8lAelce",
    "outputId": "93926273-22fc-4aff-f0c4-e53e9d5f37b3"
   },
   "outputs": [
    {
     "name": "stdout",
     "output_type": "stream",
     "text": [
      "True\n",
      "False\n",
      "False\n",
      "False\n"
     ]
    }
   ],
   "source": [
    "print(\"01234\".isnumeric())\n",
    "print(\"-2\".isnumeric()) # Returns false due to the hyphen\n",
    "print(\"1.22\".isnumeric()) # Returns false due to the ful stop\n",
    "print(\"1E3\".isnumeric()) # Returns false due to the E"
   ]
  },
  {
   "cell_type": "markdown",
   "metadata": {
    "id": "5emworuemKou"
   },
   "source": [
    "#### Istitle\n",
    "\n",
    "The ```istitle``` string method checks if the string is written in title case. The string is considered in words (sections of th string separated by space characters). For result returned to be ```True```, all the following must be true:\n",
    "* No words begin with a lowercase character (a-z)\n",
    "* At least one word begins with an uppercase character (A-Z)\n",
    "* No characters, except those at the start of words may be uppercase.\n",
    "\n",
    "If any of these conditions are not met, ```False``` will be returned instead."
   ]
  },
  {
   "cell_type": "code",
   "execution_count": null,
   "metadata": {
    "colab": {
     "base_uri": "https://localhost:8080/"
    },
    "executionInfo": {
     "elapsed": 12,
     "status": "ok",
     "timestamp": 1654697452196,
     "user": {
      "displayName": "Chris Cooling",
      "userId": "16044721281026986520"
     },
     "user_tz": -60
    },
    "id": "u_UwUoGbmI5U",
    "outputId": "68c2e841-eb1b-4fb6-d1af-593196bd0402"
   },
   "outputs": [
    {
     "name": "stdout",
     "output_type": "stream",
     "text": [
      "True\n",
      "True\n",
      "True\n",
      "False\n",
      "False\n",
      "False\n",
      "False\n"
     ]
    }
   ],
   "source": [
    "print(\"Brave New World\".istitle()) # All words start with a capital so return True\n",
    "print(\"Misery\".istitle()) # All words start with a capital so return True\n",
    "print(\"20,000 Leagues Under The Sea\".istitle()) # No words start with a lowercase character and at least one word starting with an uppercase character so return True\n",
    "print(\"To Kill a Mockingbird\".istitle()) # Lower case \"a\" at the start of a word causes False to be returned\n",
    "print(\"Party In The USA\".istitle()) # Uppercase characters not at the start of a word cause False to be returned\n",
    "print(\"1984\".istitle()) # No words starting with uppercase\n",
    "print(\"\".istitle()) # No words starting with uppercase"
   ]
  },
  {
   "cell_type": "markdown",
   "metadata": {
    "id": "Xh-Xw3hez7Vs"
   },
   "source": [
    "#### Islower\n",
    "\n",
    "The ```islower``` string method checks if all characters are lowercase, ignoring numerical characters and punctuation. At least one lowercase character must be present for True to be returned."
   ]
  },
  {
   "cell_type": "code",
   "execution_count": null,
   "metadata": {
    "colab": {
     "base_uri": "https://localhost:8080/"
    },
    "executionInfo": {
     "elapsed": 12,
     "status": "ok",
     "timestamp": 1654697452197,
     "user": {
      "displayName": "Chris Cooling",
      "userId": "16044721281026986520"
     },
     "user_tz": -60
    },
    "id": "qEexBpWmnMnL",
    "outputId": "109fba64-448f-4cac-96a8-0cabe6d74772"
   },
   "outputs": [
    {
     "name": "stdout",
     "output_type": "stream",
     "text": [
      "True\n",
      "True\n",
      "True\n",
      "False\n",
      "False\n"
     ]
    }
   ],
   "source": [
    "print(\"abcd\".islower())\n",
    "print(\"abcd123\".islower()) # Numbers are ignored\n",
    "print(\"hello there!\".islower()) # Spaces and punctuation are ignored\n",
    "print(\"Hello world\".islower()) # One or more uppercase letters causes False to be returned\n",
    "print(\"1234\".islower()) # False will be returned if no lowercase characters are present"
   ]
  },
  {
   "cell_type": "markdown",
   "metadata": {
    "id": "fb7JsHL71KNF"
   },
   "source": [
    "#### Isupper\n",
    "\n",
    "The ```isupper``` string method checks if all characters are uppercase, ignoring numerical characters and punctuation. At least one uppercase character must be present for True to be returned."
   ]
  },
  {
   "cell_type": "code",
   "execution_count": null,
   "metadata": {
    "colab": {
     "base_uri": "https://localhost:8080/"
    },
    "executionInfo": {
     "elapsed": 11,
     "status": "ok",
     "timestamp": 1654697452197,
     "user": {
      "displayName": "Chris Cooling",
      "userId": "16044721281026986520"
     },
     "user_tz": -60
    },
    "id": "so6hz3Wl0GLk",
    "outputId": "78150dd1-ad6a-42b3-988a-a553a65999dc"
   },
   "outputs": [
    {
     "name": "stdout",
     "output_type": "stream",
     "text": [
      "True\n",
      "True\n",
      "True\n",
      "False\n",
      "False\n"
     ]
    }
   ],
   "source": [
    "print(\"YELLING\".isupper())\n",
    "print(\"C17\".isupper()) # Numbers are ignored\n",
    "print(\"#LOUD NOISES#\".isupper()) # Spaces and punctuation are ignored\n",
    "print(\"CaCO3\".isupper()) # One or more lowercase characters causes False to be returned\n",
    "print(\"1234\".isupper()) # False will be returned if no uppercase characters are present"
   ]
  },
  {
   "cell_type": "markdown",
   "metadata": {
    "id": "IvmWJujJ4GlN"
   },
   "source": [
    "#### Startswith\n",
    "\n",
    "The ```startswith``` string emthod checks if a string starts with another string provided as an argument:"
   ]
  },
  {
   "cell_type": "code",
   "execution_count": null,
   "metadata": {
    "colab": {
     "base_uri": "https://localhost:8080/"
    },
    "executionInfo": {
     "elapsed": 9,
     "status": "ok",
     "timestamp": 1654697452197,
     "user": {
      "displayName": "Chris Cooling",
      "userId": "16044721281026986520"
     },
     "user_tz": -60
    },
    "id": "a6cCW4Bv2F37",
    "outputId": "a394c8ea-ba02-4230-fde2-b5429a8e0bc7"
   },
   "outputs": [
    {
     "name": "stdout",
     "output_type": "stream",
     "text": [
      "True\n",
      "True\n",
      "True\n",
      "False\n",
      "False\n"
     ]
    }
   ],
   "source": [
    "print(\"Python is great!\".startswith(\"Python\"))\n",
    "print(\"Running code is fun\".startswith(\"Run\")) # Doesn't have to be a full word\n",
    "print(\"+442075895111\".startswith(\"+44\")) # Works with numbers and punctuation too\n",
    "print(\"Werewolf\".startswith(\"were\")) # Case-sensitive\n",
    "print(\"Python\".startswith(\"on\")) # Doesn't matter if the specified strings occurs later on"
   ]
  },
  {
   "cell_type": "markdown",
   "metadata": {
    "id": "8puo6qeD5RPO"
   },
   "source": [
    "#### Endswith\n",
    "\n",
    "The ```endswith``` string method checks if a string ends with anther string specified as an argument:"
   ]
  },
  {
   "cell_type": "code",
   "execution_count": null,
   "metadata": {
    "colab": {
     "base_uri": "https://localhost:8080/"
    },
    "executionInfo": {
     "elapsed": 8,
     "status": "ok",
     "timestamp": 1654697452197,
     "user": {
      "displayName": "Chris Cooling",
      "userId": "16044721281026986520"
     },
     "user_tz": -60
    },
    "id": "ej59VGdT4VWG",
    "outputId": "323d573d-63cf-4006-bbea-28e1000b2448"
   },
   "outputs": [
    {
     "name": "stdout",
     "output_type": "stream",
     "text": [
      "True\n",
      "False\n"
     ]
    }
   ],
   "source": [
    "print(\"Programming is fun\".endswith(\"fun\"))\n",
    "print(\"Uh-oh\".endswith(\"Uh\"))"
   ]
  },
  {
   "cell_type": "markdown",
   "metadata": {},
   "source": [
    "### Exercise: Interrogating Strings\n",
    "\n",
    "Examine the following code. Write down what you think the output will be, then run the code to check your answer."
   ]
  },
  {
   "cell_type": "code",
   "execution_count": 11,
   "metadata": {},
   "outputs": [
    {
     "name": "stdout",
     "output_type": "stream",
     "text": [
      "False\n",
      "6\n",
      "True\n",
      "False\n",
      "3\n"
     ]
    }
   ],
   "source": [
    "print(\"100.0\".isnumeric())\n",
    "print(\"Funny fish\".find(\"f\"))\n",
    "print(\"A New Hope\".startswith(\"A \"))\n",
    "print(\"Return of the Jedi\".istitle())\n",
    "print((\"Cookbook\"[0:6].count(\"o\")))"
   ]
  },
  {
   "cell_type": "markdown",
   "metadata": {
    "id": "p5wPdx1S6KbS"
   },
   "source": [
    "## Creating New Strings From Old\n",
    "\n",
    "There are several string methods which return one or more new strings from an initial string. These are commonly used when reformatting a string or extracting information from a string."
   ]
  },
  {
   "cell_type": "markdown",
   "metadata": {
    "id": "qxhoxvRg6pdu"
   },
   "source": [
    "### Split\n",
    "\n",
    "The ```split``` string method splits a string into several strings which are returned in a list. The locations of the splits are determined by a separator supplied as an argument. It's common to use this method to split a string up into different words by specifying a space as a separator."
   ]
  },
  {
   "cell_type": "code",
   "execution_count": null,
   "metadata": {
    "colab": {
     "base_uri": "https://localhost:8080/",
     "height": 252
    },
    "executionInfo": {
     "elapsed": 366,
     "status": "error",
     "timestamp": 1654697452556,
     "user": {
      "displayName": "Chris Cooling",
      "userId": "16044721281026986520"
     },
     "user_tz": -60
    },
    "id": "Ejl1Wqua5k9_",
    "outputId": "c2307153-db95-4b78-e298-f8a19a03314d"
   },
   "outputs": [
    {
     "name": "stdout",
     "output_type": "stream",
     "text": [
      "['Split', 'up', 'sentences']\n",
      "['Stop', ' Look', ' Listen', ' Live', '']\n",
      "['', '', '', '', '', '', '', '', '']\n"
     ]
    },
    {
     "ename": "ValueError",
     "evalue": "ignored",
     "output_type": "error",
     "traceback": [
      "\u001b[0;31m---------------------------------------------------------------------------\u001b[0m",
      "\u001b[0;31mValueError\u001b[0m                                Traceback (most recent call last)",
      "\u001b[0;32m<ipython-input-20-2a0718e2d4ec>\u001b[0m in \u001b[0;36m<module>\u001b[0;34m()\u001b[0m\n\u001b[1;32m      2\u001b[0m \u001b[0mprint\u001b[0m\u001b[0;34m(\u001b[0m\u001b[0;34m\"Stop. Look. Listen. Live.\"\u001b[0m\u001b[0;34m.\u001b[0m\u001b[0msplit\u001b[0m\u001b[0;34m(\u001b[0m\u001b[0;34m\".\"\u001b[0m\u001b[0;34m)\u001b[0m\u001b[0;34m)\u001b[0m \u001b[0;31m# If the separator occurs at the end of the string, the last value returned in the lsit will be an empty string\u001b[0m\u001b[0;34m\u001b[0m\u001b[0;34m\u001b[0m\u001b[0m\n\u001b[1;32m      3\u001b[0m \u001b[0mprint\u001b[0m\u001b[0;34m(\u001b[0m\u001b[0;34m\"ZZZZZZZZ\"\u001b[0m\u001b[0;34m.\u001b[0m\u001b[0msplit\u001b[0m\u001b[0;34m(\u001b[0m\u001b[0;34m\"Z\"\u001b[0m\u001b[0;34m)\u001b[0m\u001b[0;34m)\u001b[0m \u001b[0;31m# Separators are not themselves returned\u001b[0m\u001b[0;34m\u001b[0m\u001b[0;34m\u001b[0m\u001b[0m\n\u001b[0;32m----> 4\u001b[0;31m \u001b[0mprint\u001b[0m\u001b[0;34m(\u001b[0m\u001b[0;34m\"Letters\"\u001b[0m\u001b[0;34m.\u001b[0m\u001b[0msplit\u001b[0m\u001b[0;34m(\u001b[0m\u001b[0;34m\"\"\u001b[0m\u001b[0;34m)\u001b[0m\u001b[0;34m)\u001b[0m \u001b[0;31m# Cannot use an empty separator\u001b[0m\u001b[0;34m\u001b[0m\u001b[0;34m\u001b[0m\u001b[0m\n\u001b[0m",
      "\u001b[0;31mValueError\u001b[0m: empty separator"
     ]
    }
   ],
   "source": [
    "print(\"Split up sentences\".split(\" \"))\n",
    "print(\"Stop. Look. Listen. Live.\".split(\".\")) # If the separator occurs at the end of the string, the last value returned in the list will be an empty string\n",
    "print(\"ZZZZZZZZ\".split(\"Z\")) # Separators are not themselves returned\n",
    "print(\"Letters\".split(\"\")) # Cannot use an empty separator"
   ]
  },
  {
   "cell_type": "markdown",
   "metadata": {
    "id": "UBkabZDjL7AN"
   },
   "source": [
    "You may optionally provide an extra integer argument to ```split```. This is the maximum number of splits which will be performed:"
   ]
  },
  {
   "cell_type": "code",
   "execution_count": null,
   "metadata": {
    "colab": {
     "base_uri": "https://localhost:8080/"
    },
    "executionInfo": {
     "elapsed": 322,
     "status": "ok",
     "timestamp": 1654697467182,
     "user": {
      "displayName": "Chris Cooling",
      "userId": "16044721281026986520"
     },
     "user_tz": -60
    },
    "id": "CXTA00YF7LzU",
    "outputId": "bfa6fff5-7399-48ad-8427-dadec2e84da8"
   },
   "outputs": [
    {
     "name": "stdout",
     "output_type": "stream",
     "text": [
      "['banana', 'banana banana']\n",
      "['b', 'n', 'n', ' banana banana']\n"
     ]
    }
   ],
   "source": [
    "a = \"banana banana banana\"\n",
    "print(a.split(\" \", 1))\n",
    "print(a.split(\"a\", 3))"
   ]
  },
  {
   "cell_type": "markdown",
   "metadata": {
    "id": "cxtqYWvZNeph"
   },
   "source": [
    "### Join\n",
    "\n",
    "The ```join``` string method joins together all the strings in an iterable (such as a list, or tuple), adding the original string that was used to call ```join``` between each one. The final result is returned as a string."
   ]
  },
  {
   "cell_type": "code",
   "execution_count": null,
   "metadata": {
    "colab": {
     "base_uri": "https://localhost:8080/"
    },
    "executionInfo": {
     "elapsed": 15,
     "status": "ok",
     "timestamp": 1654697467614,
     "user": {
      "displayName": "Chris Cooling",
      "userId": "16044721281026986520"
     },
     "user_tz": -60
    },
    "id": "Pv7k59KxMNwK",
    "outputId": "41939e1e-1405-4ab0-8d27-ed72135372e7"
   },
   "outputs": [
    {
     "name": "stdout",
     "output_type": "stream",
     "text": [
      "Hello world\n",
      "555-1234-0000\n",
      ".--. -.-- - .... --- -.\n",
      "I.C.L\n",
      "unreturnable\n"
     ]
    }
   ],
   "source": [
    "print(\" \".join([\"Hello\", \"world\"])) # Can join a list of strings\n",
    "print(\"-\".join((\"555\",\"1234\",\"0000\"))) # Can join tuples. String can contain numbers\n",
    "print(\".\".join(\"ICL\")) # When joining strings, the separator will be added between each character\n",
    "print(\"\".join([\"un\", \"re\", \"turn\", \"able\"])) # The separator can be blank"
   ]
  },
  {
   "cell_type": "markdown",
   "metadata": {
    "id": "-waekO5oSf4-"
   },
   "source": [
    "### Repeating Strings\n",
    "\n",
    "We can repeat a string to create a new string using the ```*``` operator and an ```int```:"
   ]
  },
  {
   "cell_type": "code",
   "execution_count": 10,
   "metadata": {
    "colab": {
     "base_uri": "https://localhost:8080/",
     "height": 235
    },
    "executionInfo": {
     "elapsed": 18,
     "status": "error",
     "timestamp": 1654697467619,
     "user": {
      "displayName": "Chris Cooling",
      "userId": "16044721281026986520"
     },
     "user_tz": -60
    },
    "id": "xX2YXgXFNzRd",
    "outputId": "d3e1f074-a796-45f3-d9c6-15460d4cd447"
   },
   "outputs": [
    {
     "name": "stdout",
     "output_type": "stream",
     "text": [
      "hohoho\n",
      "\n"
     ]
    },
    {
     "ename": "TypeError",
     "evalue": "can't multiply sequence by non-int of type 'float'",
     "output_type": "error",
     "traceback": [
      "\u001b[1;31m---------------------------------------------------------------------------\u001b[0m",
      "\u001b[1;31mTypeError\u001b[0m                                 Traceback (most recent call last)",
      "\u001b[1;32mc:\\Users\\cmcoo\\OneDrive - Imperial College London\\Graduate School\\Summer Schools\\Summer School Materials\\RCDS-Summer-School-2023\\09_26_Tue\\2 - Strings.ipynb Cell 44\u001b[0m line \u001b[0;36m3\n\u001b[0;32m      <a href='vscode-notebook-cell:/c%3A/Users/cmcoo/OneDrive%20-%20Imperial%20College%20London/Graduate%20School/Summer%20Schools/Summer%20School%20Materials/RCDS-Summer-School-2023/09_26_Tue/2%20-%20Strings.ipynb#X65sZmlsZQ%3D%3D?line=0'>1</a>\u001b[0m \u001b[39mprint\u001b[39m(\u001b[39m\"\u001b[39m\u001b[39mho\u001b[39m\u001b[39m\"\u001b[39m\u001b[39m*\u001b[39m\u001b[39m3\u001b[39m) \u001b[39m# Creates a new string with the original string repeated 3 times\u001b[39;00m\n\u001b[0;32m      <a href='vscode-notebook-cell:/c%3A/Users/cmcoo/OneDrive%20-%20Imperial%20College%20London/Graduate%20School/Summer%20Schools/Summer%20School%20Materials/RCDS-Summer-School-2023/09_26_Tue/2%20-%20Strings.ipynb#X65sZmlsZQ%3D%3D?line=1'>2</a>\u001b[0m \u001b[39mprint\u001b[39m(\u001b[39m\"\u001b[39m\u001b[39mhe\u001b[39m\u001b[39m\"\u001b[39m\u001b[39m*\u001b[39m\u001b[39m-\u001b[39m\u001b[39m1\u001b[39m) \u001b[39m# Using a value of less than 1 results in an empty string\u001b[39;00m\n\u001b[1;32m----> <a href='vscode-notebook-cell:/c%3A/Users/cmcoo/OneDrive%20-%20Imperial%20College%20London/Graduate%20School/Summer%20Schools/Summer%20School%20Materials/RCDS-Summer-School-2023/09_26_Tue/2%20-%20Strings.ipynb#X65sZmlsZQ%3D%3D?line=2'>3</a>\u001b[0m \u001b[39mprint\u001b[39m(\u001b[39m\"\u001b[39;49m\u001b[39mha\u001b[39;49m\u001b[39m\"\u001b[39;49m\u001b[39m*\u001b[39;49m\u001b[39m2.0\u001b[39;49m) \u001b[39m# Using a non-int leads to TypeError\u001b[39;00m\n",
      "\u001b[1;31mTypeError\u001b[0m: can't multiply sequence by non-int of type 'float'"
     ]
    }
   ],
   "source": [
    "print(\"ho\"*3) # Creates a new string with the original string repeated 3 times\n",
    "print(\"he\"*-1) # Using a value of less than 1 results in an empty string\n",
    "print(\"ha\"*2.0) # Using a non-int leads to TypeError"
   ]
  },
  {
   "cell_type": "markdown",
   "metadata": {
    "id": "nFJRP0kvS5lQ"
   },
   "source": [
    "### Replace\n",
    "\n",
    "The ```replace``` string method creates a new string, with all (by default) instances of a specified phrase replaced with another phrase. The first argument is the phrase to be replaced, the second is the phrase to replace it with. Optionally, you may give a third argument which specifies have many instances of the phrase to replace."
   ]
  },
  {
   "cell_type": "code",
   "execution_count": null,
   "metadata": {
    "colab": {
     "base_uri": "https://localhost:8080/"
    },
    "executionInfo": {
     "elapsed": 328,
     "status": "ok",
     "timestamp": 1654697479289,
     "user": {
      "displayName": "Chris Cooling",
      "userId": "16044721281026986520"
     },
     "user_tz": -60
    },
    "id": "52M1k3WnSvlR",
    "outputId": "421bb9a1-8d17-4abd-df33-2647db705574"
   },
   "outputs": [
    {
     "name": "stdout",
     "output_type": "stream",
     "text": [
      "C++ is worse than Python. R is worse than Python\n",
      "tralalolo\n"
     ]
    }
   ],
   "source": [
    "print(\"C++ is better than Python. R is better than Python\".replace(\"better\", \"worse\")) \n",
    "print(\"trolololo\".replace(\"o\", \"a\", 2)) # Replace on the first 2 \"o\"s"
   ]
  },
  {
   "cell_type": "markdown",
   "metadata": {
    "id": "9-QAHCcJbiuo"
   },
   "source": [
    "### Cases\n",
    "The case of alphabetical characters in a string may be modified using the following methods:\n",
    "\n",
    "\n",
    "\n",
    "* ```upper```: converts all alphabetical characters to uppercase\n",
    "* ```lower```: converts all alphabetical characters to lower case\n",
    "* ```title```: converts alphabetical characters to title case\n",
    "* ```swapcase```: swaps the case of all alphabetical characters\n",
    "\n",
    "In each case a new string is returned and the original string is unchanged.\n",
    "\n"
   ]
  },
  {
   "cell_type": "code",
   "execution_count": null,
   "metadata": {
    "colab": {
     "base_uri": "https://localhost:8080/"
    },
    "executionInfo": {
     "elapsed": 32,
     "status": "ok",
     "timestamp": 1654697479772,
     "user": {
      "displayName": "Chris Cooling",
      "userId": "16044721281026986520"
     },
     "user_tz": -60
    },
    "id": "Lf812KDrUwMt",
    "outputId": "5335fa68-c8f3-4fba-8893-6161c9b886a4"
   },
   "outputs": [
    {
     "name": "stdout",
     "output_type": "stream",
     "text": [
      "2 BE OR NOT 2 BE, THAT IS THE QUESION\n",
      "2 be or not 2 be, that is the quesion\n",
      "2 Be Or Not 2 Be, That Is The Quesion\n",
      "2 BE OR NOT 2 BE, THAT IS tHE qUESION\n"
     ]
    }
   ],
   "source": [
    "a = \"2 be or not 2 be, that is The Question\"\n",
    "print(a.upper())\n",
    "print(a.lower())\n",
    "print(a.title())\n",
    "print(a.swapcase())"
   ]
  },
  {
   "cell_type": "markdown",
   "metadata": {
    "id": "-NO6KTpweVIQ"
   },
   "source": [
    "### Stripping Whitespace\n",
    "\n",
    "Sometimes strings can have unwanted whitespace (space characters) at the start or end of the string. A family of commands can remove this whitespace.\n",
    "\n",
    "* ```strip```: Removes whitespace at start and end of string\n",
    "* ```lstrip```: Removes whitespace from the start of the string\n",
    "* ```rstrip```: Removes whitespace from the end of the string\n",
    "\n",
    "In each case a new string is returned with the relevant whitespace removed and the original string is left unchanged."
   ]
  },
  {
   "cell_type": "code",
   "execution_count": null,
   "metadata": {
    "colab": {
     "base_uri": "https://localhost:8080/"
    },
    "executionInfo": {
     "elapsed": 28,
     "status": "ok",
     "timestamp": 1654697479772,
     "user": {
      "displayName": "Chris Cooling",
      "userId": "16044721281026986520"
     },
     "user_tz": -60
    },
    "id": "AmBozVeud92X",
    "outputId": "c92ba1c5-dbdb-48c7-bb4b-f2eea93e4bbf"
   },
   "outputs": [
    {
     "name": "stdout",
     "output_type": "stream",
     "text": [
      "|hi|\n",
      "|hi    |\n",
      "|    hi|\n"
     ]
    }
   ],
   "source": [
    "a = \"    hi    \"\n",
    "# The \"|\" characters in the following examples have been added to show the left and right extent of the stripped string\n",
    "print(\"|\"+a.strip()+\"|\")\n",
    "print(\"|\"+a.lstrip()+\"|\")\n",
    "print(\"|\"+a.rstrip()+\"|\")"
   ]
  },
  {
   "cell_type": "markdown",
   "metadata": {
    "id": "aHzOoUyBjnBA"
   },
   "source": [
    "## Combining Functions\n",
    "\n",
    "The functions in this notebook are each useful in their own right, but they become even more useful when combined together. This can be over the course of several statements, or in a single long statement. Combining several operations into a single expression produces more compact and slightly faster code but may be less readable. However, as it's rare to chain more than 2 or 3 functions, it's normally fine to combine operations in this way."
   ]
  },
  {
   "cell_type": "code",
   "execution_count": 12,
   "metadata": {
    "colab": {
     "base_uri": "https://localhost:8080/"
    },
    "executionInfo": {
     "elapsed": 22,
     "status": "ok",
     "timestamp": 1654697479773,
     "user": {
      "displayName": "Chris Cooling",
      "userId": "16044721281026986520"
     },
     "user_tz": -60
    },
    "id": "0BMaXZWijNTd",
    "outputId": "615ce4c4-cf27-4ede-b32f-7bab61ed59dd"
   },
   "outputs": [
    {
     "name": "stdout",
     "output_type": "stream",
     "text": [
      "hello there\n",
      "hello there\n"
     ]
    }
   ],
   "source": [
    "a = [\"  \", \"HeLlO\", \"ThErE\", \"  \"]\n",
    "# A long-winded way to do it\n",
    "b = \" \".join(a)\n",
    "c = b.lower()\n",
    "print(c.strip())\n",
    "# A more compact way to do it\n",
    "print(\" \".join(a).lower().strip()) # The join operation is executed first. This creates a string, which lower operates on to produce another string, which strip operates on"
   ]
  },
  {
   "cell_type": "markdown",
   "metadata": {
    "id": "fWIBLNGTcNNx"
   },
   "source": [
    "## f-Strings\n",
    "\n",
    "Sometimes it can be useful to create long strings using data from several different variables or expressions. One way to do this is to convert variables to strings and concatenate them, like this:"
   ]
  },
  {
   "cell_type": "code",
   "execution_count": 14,
   "metadata": {
    "colab": {
     "base_uri": "https://localhost:8080/"
    },
    "executionInfo": {
     "elapsed": 17,
     "status": "ok",
     "timestamp": 1654697479773,
     "user": {
      "displayName": "Chris Cooling",
      "userId": "16044721281026986520"
     },
     "user_tz": -60
    },
    "id": "6Gp7F5DqDxLb",
    "outputId": "212d1c38-7afd-4c77-aa6c-8548daf9d86b"
   },
   "outputs": [
    {
     "name": "stdout",
     "output_type": "stream",
     "text": [
      "The data [1, 2, 3] has 3 entries, and a mean of 2.0.\n"
     ]
    }
   ],
   "source": [
    "data = [1,2,3]\n",
    "mean = sum(data) / len(data)\n",
    "\n",
    "summary_string = \"The data \" + str(data) + \" has \" + str(len(data)) + \" entries, and a mean of \" + str(mean) + \".\"\n",
    "print(summary_string)"
   ]
  },
  {
   "cell_type": "markdown",
   "metadata": {
    "id": "wop9zg7GdiAC"
   },
   "source": [
    "This works, but we can make this somewhat easier and more compact by using \"f-Strings\":"
   ]
  },
  {
   "cell_type": "code",
   "execution_count": 15,
   "metadata": {
    "colab": {
     "base_uri": "https://localhost:8080/"
    },
    "executionInfo": {
     "elapsed": 13,
     "status": "ok",
     "timestamp": 1654697479774,
     "user": {
      "displayName": "Chris Cooling",
      "userId": "16044721281026986520"
     },
     "user_tz": -60
    },
    "id": "8cWSndeldeM8",
    "outputId": "ff54262e-cb23-414a-a1ba-b55037b2c8ea"
   },
   "outputs": [
    {
     "name": "stdout",
     "output_type": "stream",
     "text": [
      "The data [1, 2, 3] has 3 entries, and a mean of 2.0.\n"
     ]
    }
   ],
   "source": [
    "summary_string = f\"The data {data} has {len(data)} entries, and a mean of {mean}.\"\n",
    "print(summary_string)"
   ]
  },
  {
   "cell_type": "markdown",
   "metadata": {},
   "source": [
    "The character ```f``` which precedes the string causes Python to look for sets of curly brackets within the string. The expressions in these curly brackets are evaluated, converted into strings and the results are inserted into the string. This has a few advantages over the previous method:\n",
    "\n",
    "* The code is shorter: we don't need to keep opening and closing strings, use the concatenate operator or explicitly call the ```str``` function.\n",
    "* It's easier to read: It's much easier to see the structure of the string and how the data slots into it.\n",
    "* It's faster: f-Strings are slightly faster to execute than concatenation."
   ]
  },
  {
   "cell_type": "markdown",
   "metadata": {
    "id": "A1XXX9QDiW7X"
   },
   "source": [
    "### Formatting Numerical Arguments With the Format Statement\n",
    "\n",
    "We can also specify the how we want each of the values in the curly braces by following them with a colon, then a format specifier. For example:"
   ]
  },
  {
   "cell_type": "code",
   "execution_count": 17,
   "metadata": {
    "colab": {
     "base_uri": "https://localhost:8080/"
    },
    "executionInfo": {
     "elapsed": 8,
     "status": "ok",
     "timestamp": 1654697479774,
     "user": {
      "displayName": "Chris Cooling",
      "userId": "16044721281026986520"
     },
     "user_tz": -60
    },
    "id": "NiqpmuDziQ4J",
    "outputId": "667d550c-7999-42b6-c3e8-20a82f686d9f"
   },
   "outputs": [
    {
     "name": "stdout",
     "output_type": "stream",
     "text": [
      "A float in scientific format 1.234567e+04\n",
      "A float rounded to 3 decimal places 3.142\n",
      "An integer with commas separating thousands 10,003\n",
      "A float converted to a percentage to 2 decimal places 87.99%\n",
      "An integer converted to binary 1010\n",
      "An right-aligned integer taking up 10 characters         60\n"
     ]
    }
   ],
   "source": [
    "data = [10000, 7000, 64998]\n",
    "mean = sum(data) / len(data)\n",
    "\n",
    "print(f\"A float in scientific format {12345.67:e}\")\n",
    "print(f\"A float rounded to 3 decimal places {3.14159:.3f}\")\n",
    "print(f\"An integer with commas separating thousands {10000^3:,}\") # Note we're evaluating an expression in the curly braces\n",
    "print(f\"A float converted to a percentage to 2 decimal places {0.879873:.2%}\")\n",
    "print(f\"An integer converted to binary {10:b}\")\n",
    "print(f\"An right-aligned integer taking up 10 characters {60:>10}\") # Can be useful for aligning values with printing/writing to file several values"
   ]
  },
  {
   "cell_type": "markdown",
   "metadata": {
    "id": "DAxUxgPAlfC4"
   },
   "source": [
    "These formatting specifiers allow for convenient conversion of numbers into a number of common formats. A full list of formats can be found in the [Python documentation](https://docs.python.org/3/library/string.html#format-specification-mini-language) for strings. If you're trying to convert a value to a specific format, there's a very good chance there's a simple, compact and convenient way to do it using f-strings."
   ]
  },
  {
   "cell_type": "markdown",
   "metadata": {},
   "source": [
    "## Exercise: Reading Chemical Formulae\n",
    "\n",
    "Your task is to create a piece of code that will count the number of atoms of a specified element in a chemical compound. This formula of the compound will be provided as a string, such as ```CaCO3```. The section \"Compound Notation Refresher\" at the bottom of this notebook gives a summary of this notation if you need it\n",
    "\n",
    "We’ll make a series of simplifications for this exercise:\n",
    "-\tYou may assume that the chemical formula and elemental symbol you receive are both strings and are both a valid chemical formula and elemental symbol respectively.\n",
    "-\tYou may assume no compounds will contain parentheses, such as ```UO2(NO3)2```\n",
    "-\tYou may assume each element will appear at most once in the chemical formula\n",
    "-\tThere will be no more than 9 atoms of any single element in any compound\n",
    "-\tThe fact that numbers are normally in subscript will be ignored. So the string describing H<sub>2</sub>O will be provided as ```H2O```.\n",
    "\n",
    "In the code cell below, complete the function ```count_atoms``` which takes two arguments. The first argument is a string such as ```H2O``` which describes a compound. The second will be a string such as ```H``` which describes an element. The function should return the number of atoms of the specified element in the specified compound. So if the function is called with ```count_atoms(\"H2O\", \"H\")```, the value 2 should be returned as an integer. If there are no atoms of the specified element present, the value 0 should be returned.\n",
    "\n",
    "There are several calls to the function to check your function. A sample solution may be found in ```Sample Solutions/Sample Solutions 2 - Strings.ipynb```."
   ]
  },
  {
   "cell_type": "code",
   "execution_count": 21,
   "metadata": {},
   "outputs": [
    {
     "ename": "IndentationError",
     "evalue": "expected an indented block after function definition on line 1 (1164018930.py, line 4)",
     "output_type": "error",
     "traceback": [
      "\u001b[1;36m  Cell \u001b[1;32mIn[21], line 4\u001b[1;36m\u001b[0m\n\u001b[1;33m    print(count_atoms(\"H2O\", \"H\")) # Should return 2\u001b[0m\n\u001b[1;37m    ^\u001b[0m\n\u001b[1;31mIndentationError\u001b[0m\u001b[1;31m:\u001b[0m expected an indented block after function definition on line 1\n"
     ]
    }
   ],
   "source": [
    "def count_atoms(formula, element):\n",
    "    # Complete this function\n",
    "\n",
    "\n",
    "\n",
    "\n",
    "    \n",
    "    \n",
    "print(count_atoms(\"H2O\", \"H\")) # Should return 2\n",
    "print(count_atoms(\"H2O\", \"Si\")) # Should return 0\n",
    "print(count_atoms(\"NaCl\", \"Cl\")) # Should return 1\n",
    "print(count_atoms(\"Al2O3\", \"Al\")) # Should return 2\n",
    "print(count_atoms(\"NaBrO3\", \"Br\")) # Should return 1"
   ]
  },
  {
   "cell_type": "markdown",
   "metadata": {},
   "source": [
    "### Compound Notation Refresher\n",
    "\n",
    "Read this section if you need a reminder of how chemical compounds are described.\n",
    "\n",
    "Compounds are groupings of two or more atoms. Each atom is an example of a particular element. Each element has a symbol used to represent it (such as “H” or “He”). This symbol is comprised of one or two letters and will always begin with a capital letter. If a second letter is present, it will always be lower case. Compounds can be described with a chemical formula, which contains one or more of these element symbols, followed by subscript numbers which describe how many atoms of that element are in the compound (so \"H<sub>2</sub>O<sub>2</sub>\" tells us there are two atoms of hydrogen and two atoms of oxygen in the compound). If the symbol of an element is not followed by a number, it means there is only one atom of that element. Here are some examples:\n",
    "\n",
    "| Compound | Number of Atoms present |\n",
    "| --- | --- |\n",
    "| H<sub>2</sub> | 2 Hydrogen (H) |\n",
    "| H<sub>2</sub>O | 2 Hydrogen (H), 1 Oxygen (O) |\n",
    "| HNO<sub>3</sub> | 1 Hydrogen (H), 1 Nitrogen (N), 3 Oxygen (O) |\n",
    "\n",
    "There are more complexities to this notation system, but this is all you need to know for this exercise."
   ]
  }
 ],
 "metadata": {
  "colab": {
   "authorship_tag": "ABX9TyMY4iDBJVOn7jYs3sARlKAL",
   "collapsed_sections": [],
   "name": "String Formatting and Manipulations.ipynb",
   "provenance": []
  },
  "kernelspec": {
   "display_name": "Python 3.9.10 64-bit (windows store)",
   "language": "python",
   "name": "python3"
  },
  "language_info": {
   "codemirror_mode": {
    "name": "ipython",
    "version": 3
   },
   "file_extension": ".py",
   "mimetype": "text/x-python",
   "name": "python",
   "nbconvert_exporter": "python",
   "pygments_lexer": "ipython3",
   "version": "3.11.4"
  },
  "vscode": {
   "interpreter": {
    "hash": "dd6fae4ecc2ed85ff8734f02c49dd95eba72d17e09edb2ce20628e478f8e91de"
   }
  }
 },
 "nbformat": 4,
 "nbformat_minor": 1
}
