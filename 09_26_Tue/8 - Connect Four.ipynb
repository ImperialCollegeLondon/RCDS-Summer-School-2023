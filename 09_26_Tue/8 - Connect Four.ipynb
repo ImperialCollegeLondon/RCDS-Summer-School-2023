{
 "cells": [
  {
   "cell_type": "markdown",
   "metadata": {},
   "source": [
    "# Connect Four Exercise\n",
    "\n",
    "Here's an open-ended exercise using 2D numpy arrays. The idea is to get a bit more practice with writing functions and loops, and thinking about array indexing. \n",
    "\n",
    "Nothing will be marked, it's just for fun. \n",
    "Work alone or in small groups.\n",
    "Do as much as you like.\n"
   ]
  },
  {
   "cell_type": "markdown",
   "metadata": {},
   "source": [
    "For each of the exercises in this notebook, sample solutions can be found in [```Sample Solutions/Sample Solutions 8 - Connect Four.ipynb```](Sample%20Solutions/Sample%20Solutions%208%20-%20Connect%20Four.ipynb)."
   ]
  },
  {
   "cell_type": "markdown",
   "metadata": {},
   "source": [
    "### The scenario\n",
    "\n",
    "<center><img src=\"../Resources/Connect4.jpg\" style=\"height:300px\" /></center>\n",
    "\n",
    "The game [Connect Four](https://en.wikipedia.org/wiki/Connect_Four) is played on a vertical grid with 7 columns and 6 rows.\n",
    "\n",
    "We can represent the state of the game using an integer matrix, where 1 is a red counter, 2 is a yellow counter and 0 is an empty cell.\n",
    "\n",
    "The most natural coordinate system for the game is **(column,row)**, counting columns from left to right and rows from bottom to top. (We'll assume that both players are sitting on the same side of the board.)\n",
    "\n",
    "At the start of the game, the board looks like this:\n"
   ]
  },
  {
   "cell_type": "code",
   "execution_count": null,
   "metadata": {},
   "outputs": [],
   "source": [
    "import numpy as np\n",
    "\n",
    "board_0 = np.zeros((7,6),int)  # specifies int data type\n",
    "print(board_0)"
   ]
  },
  {
   "cell_type": "markdown",
   "metadata": {},
   "source": [
    "(Notice that when the array is printed like this, the board is shown rotated by 90 degrees clockwise).\n",
    "\n",
    "Red goes first, placing a counter in the fifth column:"
   ]
  },
  {
   "cell_type": "code",
   "execution_count": null,
   "metadata": {},
   "outputs": [],
   "source": [
    "board_1 = board_0.copy()\n",
    "board_1[4,0] = 1\n",
    "print(board_1)"
   ]
  },
  {
   "cell_type": "markdown",
   "metadata": {},
   "source": [
    "After seven moves, the board looks like this:"
   ]
  },
  {
   "cell_type": "code",
   "execution_count": null,
   "metadata": {},
   "outputs": [],
   "source": [
    "board_7 = np.array([[0, 0, 0, 0, 0, 0],\n",
    "                    [1, 0, 0, 0, 0, 0],\n",
    "                    [2, 1, 1, 0, 0, 0],\n",
    "                    [1, 2, 0, 0, 0, 0],\n",
    "                    [2, 0, 0, 0, 0, 0],\n",
    "                    [0, 0, 0, 0, 0, 0],\n",
    "                    [0, 0, 0, 0, 0, 0]])\n",
    "print(board_7)"
   ]
  },
  {
   "cell_type": "markdown",
   "metadata": {},
   "source": [
    "### Task 1\n",
    "\n",
    "It's already annoying having to strain my neck to look at these boards. I'm trying to write a function that prints a representation of the board in the correct orientation.\n",
    "\n",
    "I managed to print it without all of those square brackets, but the orientation is still wrong. Please can you fix it for me?\n"
   ]
  },
  {
   "cell_type": "code",
   "execution_count": null,
   "metadata": {},
   "outputs": [],
   "source": [
    "def display(board):\n",
    "    for i in range(7):\n",
    "        for j in range(6):\n",
    "            print(board[i,j], end=\" \")\n",
    "        print()      \n",
    "\n",
    "display(board_7)\n",
    "            "
   ]
  },
  {
   "cell_type": "markdown",
   "metadata": {},
   "source": [
    "### Task 2\n",
    "\n",
    "We could make it easier for a player to make a move.\n",
    "\n",
    "Complete the function `do_move(board, player, column)`, which returns the new state of the board after a move is made in the column specified:"
   ]
  },
  {
   "cell_type": "code",
   "execution_count": null,
   "metadata": {},
   "outputs": [],
   "source": [
    "def do_move(board, player, column):\n",
    "    \"\"\"Returns the new board configuration after the specified move.\n",
    "\n",
    "    Parameters:\n",
    "        board (numpy.ndarray): The current board configuration.\n",
    "        player (int): The player who is moving (1 or 2).\n",
    "        column (int): The column in which they play (0-6).\n",
    "\n",
    "    Returns:\n",
    "        numpy.ndarray: The board configuration after the move. \"\"\"\n",
    "    \n",
    "    new_board = board.copy()\n",
    "    \n",
    "    # do some things here...\n",
    "\n",
    "    return(new_board)\n",
    "    \n",
    "    "
   ]
  },
  {
   "cell_type": "markdown",
   "metadata": {},
   "source": [
    "### Task 3\n",
    "\n",
    "Write a function `get_move(board, player)` that returns a legal move (column index) for the given player."
   ]
  },
  {
   "cell_type": "code",
   "execution_count": null,
   "metadata": {},
   "outputs": [],
   "source": []
  },
  {
   "cell_type": "markdown",
   "metadata": {},
   "source": [
    "### Task 4 (harder)\n",
    "\n",
    "Write a function `winner(board)` that returns an integer:\n",
    "\n",
    "* -1 if the game is not yet over.\n",
    "* 0 if the game is a draw.\n",
    "* 1 if red has won.\n",
    "* 2 if yellow has won.\n",
    "\n"
   ]
  },
  {
   "cell_type": "code",
   "execution_count": null,
   "metadata": {},
   "outputs": [],
   "source": []
  },
  {
   "cell_type": "markdown",
   "metadata": {},
   "source": [
    "### Task 5\n",
    "\n",
    "You have *almost* made a Connect Four simulation. \n",
    "Can you finish it so that I can play against the computer? \n"
   ]
  },
  {
   "cell_type": "code",
   "execution_count": null,
   "metadata": {},
   "outputs": [],
   "source": [
    "# Might be useful...\n",
    "response = input(\"Please enter a column number:\")\n",
    "col = int(response)\n",
    "print(col)"
   ]
  },
  {
   "cell_type": "markdown",
   "metadata": {},
   "source": [
    "### Task 6\n",
    "\n",
    "Can you improve your `get_move` function to make a more strategic move?"
   ]
  },
  {
   "cell_type": "code",
   "execution_count": null,
   "metadata": {},
   "outputs": [],
   "source": []
  }
 ],
 "metadata": {
  "kernelspec": {
   "display_name": "Python 3",
   "language": "python",
   "name": "python3"
  },
  "language_info": {
   "codemirror_mode": {
    "name": "ipython",
    "version": 3
   },
   "file_extension": ".py",
   "mimetype": "text/x-python",
   "name": "python",
   "nbconvert_exporter": "python",
   "pygments_lexer": "ipython3",
   "version": "3.8.3"
  }
 },
 "nbformat": 4,
 "nbformat_minor": 4
}
