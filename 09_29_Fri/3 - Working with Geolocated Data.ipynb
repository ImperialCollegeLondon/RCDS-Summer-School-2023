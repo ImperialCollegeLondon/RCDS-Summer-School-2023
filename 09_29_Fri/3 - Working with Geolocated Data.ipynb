{
 "cells": [
  {
   "cell_type": "markdown",
   "metadata": {},
   "source": [
    "# Working with Geolocated Data"
   ]
  },
  {
   "cell_type": "markdown",
   "metadata": {},
   "source": [
    "---\n",
    "Many kinds of data are related to geographical location, and sometimes they can be difficult visualise using generic packages such as `matplotlib`.\n",
    "\n",
    "Here we will briefly introduce the `folium` library, which allows us to mark data onto an interactive map inside the notebook.\n",
    "\n",
    "[Folium](https://python-visualization.github.io/folium/latest/index.html) is a python interface to the [Leaflet](https://leafletjs.com) JavaScript library, which is very popular for drawing maps within web pages."
   ]
  },
  {
   "cell_type": "code",
   "execution_count": null,
   "metadata": {},
   "outputs": [],
   "source": [
    "import folium"
   ]
  },
  {
   "cell_type": "markdown",
   "metadata": {},
   "source": [
    "---\n",
    "### Display a map centred on a particular location"
   ]
  },
  {
   "cell_type": "code",
   "execution_count": null,
   "metadata": {},
   "outputs": [],
   "source": [
    "# Define the coordinates\n",
    "greenwich_coords = [51.4769, 0]  # i.e. [Latitude, Longitude]\n",
    "\n",
    "# Create the map\n",
    "greenwich_map = folium.Map(location=greenwich_coords,\n",
    "                           zoom_start = 18)\n",
    "\n",
    "# Display the map in the notebook\n",
    "greenwich_map"
   ]
  },
  {
   "cell_type": "markdown",
   "metadata": {},
   "source": [
    "---\n",
    "### Add some markers to the map"
   ]
  },
  {
   "cell_type": "code",
   "execution_count": null,
   "metadata": {},
   "outputs": [],
   "source": [
    "world_map = folium.Map(location=greenwich_coords,\n",
    "                                zoom_start = 1)\n",
    "\n",
    "# Add a marker\n",
    "folium.Marker(greenwich_coords, popup = 'Greenwich Observatory').add_to(world_map)\n",
    "\n",
    "world_map"
   ]
  },
  {
   "cell_type": "markdown",
   "metadata": {},
   "source": [
    "The default markers can hold pop-up text when clicked.\n",
    "\n",
    "We can also draw [vector shapes]( https://python-visualization.github.io/folium/latest/user_guide/vector_layers.html) such as circles and lines."
   ]
  },
  {
   "cell_type": "markdown",
   "metadata": {},
   "source": [
    "---\n",
    "### Change the appearance of the map"
   ]
  },
  {
   "cell_type": "code",
   "execution_count": null,
   "metadata": {},
   "outputs": [],
   "source": [
    "se_map = folium.Map(location=greenwich_coords,\n",
    "                    tiles='Stamen Terrain',\n",
    "                    zoom_start=7)\n",
    "\n",
    "se_map"
   ]
  },
  {
   "cell_type": "markdown",
   "metadata": {},
   "source": [
    "There are several [built-in tilesets](https://python-visualization.github.io/folium/latest/user_guide/raster_layers/tiles.html) and many more [custom layers](https://leaflet-extras.github.io/leaflet-providers/preview/) to choose from.\n"
   ]
  },
  {
   "cell_type": "code",
   "execution_count": null,
   "metadata": {},
   "outputs": [],
   "source": [
    "# add a layer showing railways\n",
    "folium.TileLayer(tiles='https://{s}.tiles.openrailwaymap.org/standard/{z}/{x}/{y}.png', \n",
    "                 attr='Map data: &copy; <a href=\"https://www.openstreetmap.org/copyright\">OpenStreetMap</a> contributors | Map style: &copy; <a href=\"https://www.OpenRailwayMap.org\">OpenRailwayMap</a> (<a href=\"https://creativecommons.org/licenses/by-sa/3.0/\">CC-BY-SA</a>)'\n",
    "                ).add_to(se_map)\n",
    "se_map\n"
   ]
  },
  {
   "cell_type": "markdown",
   "metadata": {},
   "source": [
    "See the ['Getting Started'](https://python-visualization.github.io/folium/latest/getting_started.html)\n",
    "section of the documentation for more details."
   ]
  },
  {
   "cell_type": "markdown",
   "metadata": {},
   "source": [
    "---\n",
    "### Add GeoJSON data\n",
    "\n",
    "We can send GeoJSON data to the map in various ways.\n",
    "\n",
    "For example, the file *countries.geojson* contains polygons representing the countries of the world.\n"
   ]
  },
  {
   "cell_type": "code",
   "execution_count": null,
   "metadata": {},
   "outputs": [],
   "source": [
    "import json\n",
    "\n",
    "polys = json.load(open('countries.geojson'))\n",
    "polys['type']"
   ]
  },
  {
   "cell_type": "markdown",
   "metadata": {},
   "source": [
    "Let's add these to the world map as a [Choropleth](https://en.wikipedia.org/wiki/Choropleth_map) layer:"
   ]
  },
  {
   "cell_type": "code",
   "execution_count": null,
   "metadata": {},
   "outputs": [],
   "source": [
    "world_map = folium.Map(location=greenwich_coords,\n",
    "                                zoom_start = 1)\n",
    "\n",
    "folium.Choropleth( geo_data=polys, \n",
    "                   fill_opacity=0.3\n",
    "                 ).add_to(world_map)\n",
    "\n",
    "world_map"
   ]
  },
  {
   "cell_type": "markdown",
   "metadata": {},
   "source": [
    "Now we can display some data related to the countries!"
   ]
  },
  {
   "cell_type": "code",
   "execution_count": null,
   "metadata": {},
   "outputs": [],
   "source": [
    "import pandas as pd\n",
    "bli = pd.read_csv(\"BLI2.csv\")\n",
    "life_sat = bli.query(\"Indicator == 'Life satisfaction' and Inequality == 'Total'\")\n",
    "life_sat.head()"
   ]
  },
  {
   "cell_type": "markdown",
   "metadata": {},
   "source": [
    "Looking at the GeoJSON file, the 'id' property of each feature matches the 'LOCATION' 3-letter country code. \n",
    "\n",
    "Let's redraw the map and attach the life satisfaction values to each country:"
   ]
  },
  {
   "cell_type": "code",
   "execution_count": null,
   "metadata": {},
   "outputs": [],
   "source": [
    "world_map = folium.Map(location=greenwich_coords,\n",
    "                                zoom_start = 1)\n",
    "\n",
    "folium.Choropleth( geo_data=polys, \n",
    "                   data=life_sat,\n",
    "                   columns=[\"LOCATION\", \"Value\"],\n",
    "                   key_on=\"feature.id\",\n",
    "                   fill_color=\"YlGn\",\n",
    "                   bins=[4, 5, 6, 7, 8],\n",
    "                 ).add_to(world_map)\n",
    "\n",
    "world_map"
   ]
  },
  {
   "cell_type": "markdown",
   "metadata": {},
   "source": [
    "See the Choropleth documentation [here](https://python-visualization.github.io/folium/latest/reference.html#module-folium.features) for more options.\n",
    "\n",
    "See also the other [examples](https://python-visualization.github.io/folium/latest/user_guide/geojson.html) of working with GeoJSON features."
   ]
  },
  {
   "cell_type": "markdown",
   "metadata": {},
   "source": [
    "---\n",
    "### Exercise\n",
    "\n",
    "Create a world map showing the locations of the earthquakes above magnitude 5 that occurred within the last month.\n",
    "* Try first using `folium.Marker`.\n",
    "* Add the magnitude information as a popup.\n",
    "* Now try using `folium.CircleMarker` (see the [documentation](https://python-visualization.github.io/folium/latest/user_guide/vector_layers/circle_and_circle_marker.html)).\n",
    "* Can you visualise the magnitude as the circle radius?\n",
    "* Can you colour your markers according to the 'alert' property (*Hint*: this is not available in the CSV data but can be found in the GeoJSON response).\n"
   ]
  },
  {
   "cell_type": "code",
   "execution_count": null,
   "metadata": {},
   "outputs": [],
   "source": []
  }
 ],
 "metadata": {
  "kernelspec": {
   "display_name": "Python 3",
   "language": "python",
   "name": "python3"
  },
  "language_info": {
   "codemirror_mode": {
    "name": "ipython",
    "version": 3
   },
   "file_extension": ".py",
   "mimetype": "text/x-python",
   "name": "python",
   "nbconvert_exporter": "python",
   "pygments_lexer": "ipython3",
   "version": "3.8.3"
  }
 },
 "nbformat": 4,
 "nbformat_minor": 4
}
