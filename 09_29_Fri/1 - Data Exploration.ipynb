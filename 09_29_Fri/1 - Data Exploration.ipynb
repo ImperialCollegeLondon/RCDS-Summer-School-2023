{
 "cells": [
  {
   "cell_type": "markdown",
   "metadata": {},
   "source": [
    "# Data Exploration Exercise\n",
    "---\n",
    "This is an open-ended exercise to explore a given data set.\n",
    "\n",
    "The data is taken from the [OECD Better Life Index](https://stats.oecd.org/Index.aspx?DataSetCode=BLI) - it only covers OECD countries, so when thinking about the results of your analysis, bear in mind that this excludes a lot of the world's population!"
   ]
  },
  {
   "cell_type": "code",
   "execution_count": null,
   "metadata": {},
   "outputs": [],
   "source": [
    "import pandas as pd\n",
    "bli = pd.read_csv(\"BLI2.csv\")\n",
    "bli.head()"
   ]
  },
  {
   "cell_type": "markdown",
   "metadata": {},
   "source": [
    "The data in the file is already in a tidy form, though the website linked above shows a more concise view of the data, which you may find helpful."
   ]
  },
  {
   "cell_type": "markdown",
   "metadata": {},
   "source": [
    "---\n",
    "### Task 1\n",
    "Do men and women report the same degree of life satisfaction?\n",
    "\n",
    "*Hint*: Start by making a list of the available values for 'Indicator'."
   ]
  },
  {
   "cell_type": "code",
   "execution_count": null,
   "metadata": {},
   "outputs": [],
   "source": []
  },
  {
   "cell_type": "markdown",
   "metadata": {},
   "source": [
    "---\n",
    "### Task 2\n",
    "Is happiness related to geographical latitude?\n",
    "\n",
    "We have some information on the overall 'life satisfaction' of each country:"
   ]
  },
  {
   "cell_type": "code",
   "execution_count": null,
   "metadata": {},
   "outputs": [],
   "source": [
    "life_sat = bli.query(\"Indicator == 'Life satisfaction' and Inequality == 'Total'\")\n",
    "life_sat.head()"
   ]
  },
  {
   "cell_type": "markdown",
   "metadata": {},
   "source": [
    "We also have some information about the latitude of each country (in the *countries* table). "
   ]
  },
  {
   "cell_type": "code",
   "execution_count": null,
   "metadata": {},
   "outputs": [],
   "source": [
    "countries = pd.read_excel(\"data_geographies_v1.xlsx\", \n",
    "                          sheet_name = \"list-of-countries-etc\")\n",
    "countries.head()                        "
   ]
  },
  {
   "cell_type": "markdown",
   "metadata": {},
   "source": [
    "Can we combine these somehow to answer this question?\n",
    "\n",
    "How do we work with data that are held in two different DataFrames? It will be tricky at the moment, but fortunately pandas has some more tools to help us!"
   ]
  },
  {
   "cell_type": "markdown",
   "metadata": {},
   "source": [
    "### Joining tables\n",
    "\n",
    "We will start with the *life_sat* DataFrame (the \"left-hand\" table) and add the 'Latitude' column from *countries*. To do this, we need to `join()` the two tables together.\n",
    "\n",
    "Importantly, we **cannot** assume that the countries are listed in the same order, or even that both tables contain the same set of countries. We need to identify a *key*, that is, some information that exists in both tables, that we can use to \"look up\" the correct row from *countries* (the \"right-hand\" table).\n",
    "\n",
    "We could use the country name, but this might be recorded differently in the two tables. The three-letter 'LOCATION/geo' code is unique for each country, so this is the best choice for these two tables.\n",
    "\n",
    "To join tables in pandas, we make these *key* columns the index of both the left and right tables:"
   ]
  },
  {
   "cell_type": "code",
   "execution_count": null,
   "metadata": {},
   "outputs": [],
   "source": [
    "# make a copy of the table\n",
    "left = life_sat.copy()\n",
    "\n",
    "# make a new column for 'geo'\n",
    "# i.e. LOCATION but in lower case to match the other table\n",
    "left['geo'] = left['LOCATION'].str.lower()\n",
    "\n",
    "# move the 'geo' column to the index\n",
    "left = left.set_index('geo')\n",
    "left.head()"
   ]
  },
  {
   "cell_type": "code",
   "execution_count": null,
   "metadata": {},
   "outputs": [],
   "source": [
    "# make the right-hand table\n",
    "right = countries.set_index('geo')\n",
    "\n",
    "# keep only the Latitude column\n",
    "right = right[['Latitude']]  \n",
    "right.head()"
   ]
  },
  {
   "cell_type": "markdown",
   "metadata": {},
   "source": [
    "Now we can join them with the `join()` method!"
   ]
  },
  {
   "cell_type": "code",
   "execution_count": null,
   "metadata": {},
   "outputs": [],
   "source": [
    "joined = left.join(right)\n",
    "joined.head()"
   ]
  },
  {
   "cell_type": "markdown",
   "metadata": {},
   "source": [
    "This is the table we need to proceed with the analysis.\n",
    "\n",
    "`join()` is just one of several pandas methods for working with **relational data** (i.e. data held in more than one table).\n",
    "\n",
    "If needed, you can move the the current index column back into the body of the DataFrame using the method [`reset_index()`](https://pandas.pydata.org/docs/reference/api/pandas.DataFrame.reset_index.html?highlight=reset_index#pandas.DataFrame.reset_index). We already have the LOCATION column in the table, so we don't need do do this now.\n"
   ]
  },
  {
   "cell_type": "markdown",
   "metadata": {},
   "source": [
    "Use the *joined* table to investigate the relationship between life satisfaction and latitude."
   ]
  },
  {
   "cell_type": "code",
   "execution_count": null,
   "metadata": {},
   "outputs": [],
   "source": []
  },
  {
   "cell_type": "markdown",
   "metadata": {},
   "source": [
    "---\n",
    "### Any other ideas?\n",
    "\n",
    "Make a note of any other summary statistics, visualisations and hypotheses that you would be interested to explore in this dataset."
   ]
  },
  {
   "cell_type": "markdown",
   "metadata": {},
   "source": []
  }
 ],
 "metadata": {
  "kernelspec": {
   "display_name": "Python 3",
   "language": "python",
   "name": "python3"
  },
  "language_info": {
   "codemirror_mode": {
    "name": "ipython",
    "version": 3
   },
   "file_extension": ".py",
   "mimetype": "text/x-python",
   "name": "python",
   "nbconvert_exporter": "python",
   "pygments_lexer": "ipython3",
   "version": "3.8.3"
  }
 },
 "nbformat": 4,
 "nbformat_minor": 4
}
