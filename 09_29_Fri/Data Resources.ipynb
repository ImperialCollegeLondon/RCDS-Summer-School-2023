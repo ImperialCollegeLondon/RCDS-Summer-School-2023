{
 "cells": [
  {
   "cell_type": "markdown",
   "metadata": {},
   "source": [
    "# Data Resources\n",
    "---\n",
    "Here are some resources that you might find useful as starting points for your project. Feel free to use anything else that you find!"
   ]
  },
  {
   "cell_type": "markdown",
   "metadata": {},
   "source": [
    "---\n",
    "## Static Data\n",
    "\n",
    "* [DataHub](https://datahub.io)\n",
    "* [OpenML](https://www.openml.org)\n",
    "* [Papers with code](https://paperswithcode.com/datasets)\n",
    "* [UCI machine learning repository](https://archive.ics.uci.edu/ml/index.php)\n",
    "* [UK government open data](https://www.data.gov.uk)\n",
    "* [UK data service](https://ukdataservice.ac.uk)\n",
    "* [CERN open data](https://opendata.cern.ch)\n",
    "* [Google search \"open data\"](http://google.com/search?query='open data')"
   ]
  },
  {
   "cell_type": "markdown",
   "metadata": {},
   "source": [
    "---\n",
    "## APIs\n",
    "\n",
    "* [List of public APIs](https://github.com/public-apis/public-apis#science--math)\n",
    "* [APIs for Data Science](https://www.springboard.com/blog/data-science/top-apis-for-data-scientists/)\n",
    "* [Berkeley Library curated list of APIs for researchers](https://guides.lib.berkeley.edu/information-studies/apis)\n",
    "* [US National Library of Medicine API resources](https://eresources.nlm.nih.gov/nlm_eresources/)\n",
    "* [European Bioinformatics Institute APIs](https://www.ebi.ac.uk/ebisearch/documentation/rest-api)\n",
    "* [Protein Data Bank](https://www.rcsb.org/docs/programmatic-access/web-services-overview)\n",
    "* [UK Coronavirus Data](https://coronavirus.data.gov.uk/details/developers-guide/main-api#params-filters)"
   ]
  },
  {
   "cell_type": "code",
   "execution_count": null,
   "metadata": {},
   "outputs": [],
   "source": []
  }
 ],
 "metadata": {
  "kernelspec": {
   "display_name": "Python 3",
   "language": "python",
   "name": "python3"
  },
  "language_info": {
   "codemirror_mode": {
    "name": "ipython",
    "version": 3
   },
   "file_extension": ".py",
   "mimetype": "text/x-python",
   "name": "python",
   "nbconvert_exporter": "python",
   "pygments_lexer": "ipython3",
   "version": "3.8.3"
  }
 },
 "nbformat": 4,
 "nbformat_minor": 4
}
