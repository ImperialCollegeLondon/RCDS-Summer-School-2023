{
 "cells": [
  {
   "cell_type": "markdown",
   "metadata": {},
   "source": [
    "# HTTP Requests\n",
    "---\n",
    "This notebook introduces the `requests` library, which we can use to retrieve data from the web."
   ]
  },
  {
   "cell_type": "markdown",
   "metadata": {},
   "source": [
    "Some data resources are provided online as **APIs** (Application Programming Interfaces), which can be accessed using a protocol called HTTP (HyperText Transfer Protocol). These interfaces may allow us to retrieve information in various ways, for example by asking for a particular record or making a search.\n",
    "\n",
    "In this notebook we will look at an API provided by the [US Geological Survey](https://www.usgs.gov/programs/earthquake-hazards) providing continually-updated information about earthquakes around the world.\n",
    "\n",
    "Firstly, take a look at the web form for searching manually. Go to https://earthquake.usgs.gov/earthquakes/search/\n",
    "\n",
    "Notice all of the different search options and try some searches out.\n",
    "\n",
    "The results are presented as a list and an interactive map.\n",
    "\n",
    "<img src='../resources/earthquakes.png'>"
   ]
  },
  {
   "cell_type": "markdown",
   "metadata": {},
   "source": [
    "---\n",
    "## Making a request\n",
    "But what if we want to retrieve the data themselves? Here is an example using `requests`:"
   ]
  },
  {
   "cell_type": "code",
   "execution_count": null,
   "metadata": {},
   "outputs": [],
   "source": [
    "import requests\n",
    "\n",
    "# An endpoint is a URL that accepts requests\n",
    "endpoint = \"https://earthquake.usgs.gov/fdsnws/event/1/query?\"\n",
    "\n",
    "# The parameters for our search, in the form of a dictionary\n",
    "ps = { \"format\": \"csv\", \n",
    "       \"starttime\": \"2023-09-27\", \n",
    "       \"endtime\": \"2023-09-28\",\n",
    "       \"minmagnitude\": 4.5  \n",
    "     }\n",
    "\n",
    "response = requests.get(endpoint, params=ps)\n",
    "\n",
    "print(response.text)\n"
   ]
  },
  {
   "cell_type": "markdown",
   "metadata": {},
   "source": [
    "An *endpoint* is a particular URL (web address) that will accept a request in a particular format and return a *response*. \n",
    "\n",
    "The USGS endpoint is able to return data in CSV format, which we can access using the `.text` attribute.\n",
    "\n",
    "The parameter options for this endpoint are explained \n",
    "[here](https://earthquake.usgs.gov/fdsnws/event/1/?ref=springboard)."
   ]
  },
  {
   "cell_type": "markdown",
   "metadata": {},
   "source": [
    "---\n",
    "## Converting to a DataFrame\n",
    "If we want to create a DataFrame from this CSV text, we can do the following:"
   ]
  },
  {
   "cell_type": "code",
   "execution_count": null,
   "metadata": {},
   "outputs": [],
   "source": [
    "import pandas as pd\n",
    "import io\n",
    "\n",
    "# make a string buffer from the CSV text\n",
    "buf = io.StringIO(response.text) \n",
    "\n",
    "# pandas can now read the data from the buffer\n",
    "data = pd.read_csv(buf)          \n",
    "\n",
    "data"
   ]
  },
  {
   "cell_type": "markdown",
   "metadata": {},
   "source": [
    "---\n",
    "### JSON\n",
    "\n",
    "We are getting comfortable with CSV format, but there are many other data formats that are in common use.\n",
    "\n",
    "When working with APIs, we often encounter the **JSON** (JavaScript Object Notation) format. \n",
    "\n",
    "The USGS endpoint can return responses in [GeoJSON](https://en.wikipedia.org/wiki/GeoJSON), a particular flavour of JSON which is used to describe geolocated objects."
   ]
  },
  {
   "cell_type": "code",
   "execution_count": null,
   "metadata": {},
   "outputs": [],
   "source": [
    "endpoint = \"https://earthquake.usgs.gov/fdsnws/event/1/query?\"\n",
    "\n",
    "ps = { \"format\": \"geojson\", \n",
    "       \"starttime\": \"2023-09-27\", \n",
    "       \"endtime\": \"2023-09-28\",\n",
    "       \"minmagnitude\": 4.8  \n",
    "     }\n",
    "\n",
    "response = requests.get(endpoint, params=ps)\n",
    "\n",
    "print(response.text)\n"
   ]
  },
  {
   "cell_type": "markdown",
   "metadata": {
    "jupyter": {
     "outputs_hidden": true
    }
   },
   "source": [
    "Notice that JSON data consists of nested dictionaries (marked by **{ }**) and lists (marked by **\\[ ]**).\n",
    "It is a very flexible format, and can be used to describe data structures that are more complex than just tables.\n"
   ]
  },
  {
   "cell_type": "markdown",
   "metadata": {},
   "source": [
    "If you need to work with JSON data, the built-in `json` module is very handy."
   ]
  },
  {
   "cell_type": "code",
   "execution_count": null,
   "metadata": {},
   "outputs": [],
   "source": [
    "import json\n",
    "data_dict = json.loads(response.text)\n",
    "data_dict"
   ]
  },
  {
   "cell_type": "markdown",
   "metadata": {},
   "source": [
    "*data_dict* is now just a python dictionary, which we can manipulate as we like.\n",
    "For example, to print the magnitude of all earthquakes in the response:"
   ]
  },
  {
   "cell_type": "code",
   "execution_count": null,
   "metadata": {},
   "outputs": [],
   "source": [
    "for eq in data_dict['features']:\n",
    "    print(eq['properties']['mag'])"
   ]
  },
  {
   "cell_type": "markdown",
   "metadata": {},
   "source": [
    "If needed, we can also convert a JSON dictionary to a pandas DataFrame using [`json_normalize`](https://pandas.pydata.org/docs/reference/api/pandas.json_normalize.html#pandas.json_normalize):"
   ]
  },
  {
   "cell_type": "code",
   "execution_count": null,
   "metadata": {},
   "outputs": [],
   "source": [
    "# the 'record_path' argument shows how to locate the table rows within the dict\n",
    "pd.json_normalize(data_dict, record_path=['features'])"
   ]
  },
  {
   "cell_type": "code",
   "execution_count": null,
   "metadata": {},
   "outputs": [],
   "source": []
  }
 ],
 "metadata": {
  "kernelspec": {
   "display_name": "Python 3",
   "language": "python",
   "name": "python3"
  },
  "language_info": {
   "codemirror_mode": {
    "name": "ipython",
    "version": 3
   },
   "file_extension": ".py",
   "mimetype": "text/x-python",
   "name": "python",
   "nbconvert_exporter": "python",
   "pygments_lexer": "ipython3",
   "version": "3.8.3"
  }
 },
 "nbformat": 4,
 "nbformat_minor": 4
}
